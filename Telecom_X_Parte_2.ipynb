{
  "nbformat": 4,
  "nbformat_minor": 0,
  "metadata": {
    "colab": {
      "provenance": [],
      "toc_visible": true,
      "authorship_tag": "ABX9TyM50D6XSDh+Nm7BUL8ocVx3",
      "include_colab_link": true
    },
    "kernelspec": {
      "name": "python3",
      "display_name": "Python 3"
    },
    "language_info": {
      "name": "python"
    }
  },
  "cells": [
    {
      "cell_type": "markdown",
      "metadata": {
        "id": "view-in-github",
        "colab_type": "text"
      },
      "source": [
        "<a href=\"https://colab.research.google.com/github/Deinbi/Telecom-X-Parte-2-Predicci-n-de-Cancelaci-n-Churn-/blob/main/Telecom_X_Parte_2.ipynb\" target=\"_parent\"><img src=\"https://colab.research.google.com/assets/colab-badge.svg\" alt=\"Open In Colab\"/></a>"
      ]
    },
    {
      "cell_type": "markdown",
      "source": [
        "# Telecom_X_Parte 2"
      ],
      "metadata": {
        "id": "_708OmgXewji"
      }
    },
    {
      "cell_type": "markdown",
      "source": [
        "##1° Paso: *Extracción del Archivo Tratado*\n",
        "Carga el archivo CSV que contiene los datos tratados anteriormente.\n",
        "\n",
        "📂 Atención: Utiliza el mismo archivo que limpiaste y organizaste en la Parte 1 del desafío Telecom X."
      ],
      "metadata": {
        "id": "89n0vtFAeOv6"
      }
    },
    {
      "cell_type": "markdown",
      "source": [
        "## 2° Paso: *Importo el CSV y elimino las columnas irrelevantes*\n",
        "\n",
        "Importo directamente el CSV de github"
      ],
      "metadata": {
        "id": "QjfiBX86e9jt"
      }
    },
    {
      "cell_type": "code",
      "execution_count": 637,
      "metadata": {
        "id": "qqdL0JcbcZht",
        "outputId": "693a3aa9-ee75-40b7-e180-89263935d7ff",
        "colab": {
          "base_uri": "https://localhost:8080/",
          "height": 600
        }
      },
      "outputs": [
        {
          "output_type": "execute_result",
          "data": {
            "text/plain": [
              "      ID_Cliente Cliente_cancelado  Genero Mayor_de_65_años En_Pareja  \\\n",
              "0     0002-ORFBO                No  Female               No        Si   \n",
              "1     0003-MKNFE                No    Male               No        No   \n",
              "2     0004-TLHLJ                Si    Male               No        No   \n",
              "3     0011-IGKFF                Si    Male               Si        Si   \n",
              "4     0013-EXCHZ                Si  Female               Si        Si   \n",
              "...          ...               ...     ...              ...       ...   \n",
              "7157  9987-LUTYD                No  Female               No        No   \n",
              "7158  9992-RRAMN                Si    Male               No        Si   \n",
              "7159  9992-UJOEL                No    Male               No        No   \n",
              "7160  9993-LHIEB                No    Male               No        Si   \n",
              "7161  9995-HOTOH                No    Male               No        Si   \n",
              "\n",
              "     Tiene_Dependientes  Meses_Contratados Servicio_Telefonico  \\\n",
              "0                    Si                  9                  Si   \n",
              "1                    No                  9                  Si   \n",
              "2                    No                  4                  Si   \n",
              "3                    No                 13                  Si   \n",
              "4                    No                  3                  Si   \n",
              "...                 ...                ...                 ...   \n",
              "7157                 No                 13                  Si   \n",
              "7158                 No                 22                  Si   \n",
              "7159                 No                  2                  Si   \n",
              "7160                 Si                 67                  Si   \n",
              "7161                 Si                 63                  No   \n",
              "\n",
              "      Multiples_Lineas Servicio_Internet  ... Proteccion_Dispositivos  \\\n",
              "0                   No               DSL  ...                      No   \n",
              "1                   Si               DSL  ...                      No   \n",
              "2                   No       Fiber optic  ...                      Si   \n",
              "3                   No       Fiber optic  ...                      Si   \n",
              "4                   No       Fiber optic  ...                      No   \n",
              "...                ...               ...  ...                     ...   \n",
              "7157                No               DSL  ...                      No   \n",
              "7158                Si       Fiber optic  ...                      No   \n",
              "7159                No               DSL  ...                      No   \n",
              "7160                No               DSL  ...                      Si   \n",
              "7161  No phone service               DSL  ...                      Si   \n",
              "\n",
              "     Soporte_Tecnico Streaming_TV Streaming_Peliculas Tipo_de_Contrato  \\\n",
              "0                 Si           Si                  No         One year   \n",
              "1                 No           No                  Si   Month-to-month   \n",
              "2                 No           No                  No   Month-to-month   \n",
              "3                 No           Si                  Si   Month-to-month   \n",
              "4                 Si           Si                  No   Month-to-month   \n",
              "...              ...          ...                 ...              ...   \n",
              "7157              Si           No                  No         One year   \n",
              "7158              No           No                  Si   Month-to-month   \n",
              "7159              No           No                  No   Month-to-month   \n",
              "7160              Si           No                  Si         Two year   \n",
              "7161              No           Si                  Si         Two year   \n",
              "\n",
              "     Facturacion_Electronica       Metodo_Pago Cobro_Mensual Gasto_Total  \\\n",
              "0                         Si      Mailed check         65.60      593.30   \n",
              "1                         No      Mailed check         59.90      542.40   \n",
              "2                         Si  Electronic check         73.90      280.85   \n",
              "3                         Si  Electronic check         98.00     1237.85   \n",
              "4                         Si      Mailed check         83.90      267.40   \n",
              "...                      ...               ...           ...         ...   \n",
              "7157                      No      Mailed check         55.15      742.90   \n",
              "7158                      Si  Electronic check         85.10     1873.70   \n",
              "7159                      Si      Mailed check         50.30       92.75   \n",
              "7160                      No      Mailed check         67.85     4627.65   \n",
              "7161                      No  Electronic check         59.00     3707.60   \n",
              "\n",
              "      Cuentas_Diarias  \n",
              "0            2.186667  \n",
              "1            1.996667  \n",
              "2            2.463333  \n",
              "3            3.266667  \n",
              "4            2.796667  \n",
              "...               ...  \n",
              "7157         1.838333  \n",
              "7158         2.836667  \n",
              "7159         1.676667  \n",
              "7160         2.261667  \n",
              "7161         1.966667  \n",
              "\n",
              "[7162 rows x 22 columns]"
            ],
            "text/html": [
              "\n",
              "  <div id=\"df-2838469a-3bf9-46aa-86f2-2d2e36865c9f\" class=\"colab-df-container\">\n",
              "    <div>\n",
              "<style scoped>\n",
              "    .dataframe tbody tr th:only-of-type {\n",
              "        vertical-align: middle;\n",
              "    }\n",
              "\n",
              "    .dataframe tbody tr th {\n",
              "        vertical-align: top;\n",
              "    }\n",
              "\n",
              "    .dataframe thead th {\n",
              "        text-align: right;\n",
              "    }\n",
              "</style>\n",
              "<table border=\"1\" class=\"dataframe\">\n",
              "  <thead>\n",
              "    <tr style=\"text-align: right;\">\n",
              "      <th></th>\n",
              "      <th>ID_Cliente</th>\n",
              "      <th>Cliente_cancelado</th>\n",
              "      <th>Genero</th>\n",
              "      <th>Mayor_de_65_años</th>\n",
              "      <th>En_Pareja</th>\n",
              "      <th>Tiene_Dependientes</th>\n",
              "      <th>Meses_Contratados</th>\n",
              "      <th>Servicio_Telefonico</th>\n",
              "      <th>Multiples_Lineas</th>\n",
              "      <th>Servicio_Internet</th>\n",
              "      <th>...</th>\n",
              "      <th>Proteccion_Dispositivos</th>\n",
              "      <th>Soporte_Tecnico</th>\n",
              "      <th>Streaming_TV</th>\n",
              "      <th>Streaming_Peliculas</th>\n",
              "      <th>Tipo_de_Contrato</th>\n",
              "      <th>Facturacion_Electronica</th>\n",
              "      <th>Metodo_Pago</th>\n",
              "      <th>Cobro_Mensual</th>\n",
              "      <th>Gasto_Total</th>\n",
              "      <th>Cuentas_Diarias</th>\n",
              "    </tr>\n",
              "  </thead>\n",
              "  <tbody>\n",
              "    <tr>\n",
              "      <th>0</th>\n",
              "      <td>0002-ORFBO</td>\n",
              "      <td>No</td>\n",
              "      <td>Female</td>\n",
              "      <td>No</td>\n",
              "      <td>Si</td>\n",
              "      <td>Si</td>\n",
              "      <td>9</td>\n",
              "      <td>Si</td>\n",
              "      <td>No</td>\n",
              "      <td>DSL</td>\n",
              "      <td>...</td>\n",
              "      <td>No</td>\n",
              "      <td>Si</td>\n",
              "      <td>Si</td>\n",
              "      <td>No</td>\n",
              "      <td>One year</td>\n",
              "      <td>Si</td>\n",
              "      <td>Mailed check</td>\n",
              "      <td>65.60</td>\n",
              "      <td>593.30</td>\n",
              "      <td>2.186667</td>\n",
              "    </tr>\n",
              "    <tr>\n",
              "      <th>1</th>\n",
              "      <td>0003-MKNFE</td>\n",
              "      <td>No</td>\n",
              "      <td>Male</td>\n",
              "      <td>No</td>\n",
              "      <td>No</td>\n",
              "      <td>No</td>\n",
              "      <td>9</td>\n",
              "      <td>Si</td>\n",
              "      <td>Si</td>\n",
              "      <td>DSL</td>\n",
              "      <td>...</td>\n",
              "      <td>No</td>\n",
              "      <td>No</td>\n",
              "      <td>No</td>\n",
              "      <td>Si</td>\n",
              "      <td>Month-to-month</td>\n",
              "      <td>No</td>\n",
              "      <td>Mailed check</td>\n",
              "      <td>59.90</td>\n",
              "      <td>542.40</td>\n",
              "      <td>1.996667</td>\n",
              "    </tr>\n",
              "    <tr>\n",
              "      <th>2</th>\n",
              "      <td>0004-TLHLJ</td>\n",
              "      <td>Si</td>\n",
              "      <td>Male</td>\n",
              "      <td>No</td>\n",
              "      <td>No</td>\n",
              "      <td>No</td>\n",
              "      <td>4</td>\n",
              "      <td>Si</td>\n",
              "      <td>No</td>\n",
              "      <td>Fiber optic</td>\n",
              "      <td>...</td>\n",
              "      <td>Si</td>\n",
              "      <td>No</td>\n",
              "      <td>No</td>\n",
              "      <td>No</td>\n",
              "      <td>Month-to-month</td>\n",
              "      <td>Si</td>\n",
              "      <td>Electronic check</td>\n",
              "      <td>73.90</td>\n",
              "      <td>280.85</td>\n",
              "      <td>2.463333</td>\n",
              "    </tr>\n",
              "    <tr>\n",
              "      <th>3</th>\n",
              "      <td>0011-IGKFF</td>\n",
              "      <td>Si</td>\n",
              "      <td>Male</td>\n",
              "      <td>Si</td>\n",
              "      <td>Si</td>\n",
              "      <td>No</td>\n",
              "      <td>13</td>\n",
              "      <td>Si</td>\n",
              "      <td>No</td>\n",
              "      <td>Fiber optic</td>\n",
              "      <td>...</td>\n",
              "      <td>Si</td>\n",
              "      <td>No</td>\n",
              "      <td>Si</td>\n",
              "      <td>Si</td>\n",
              "      <td>Month-to-month</td>\n",
              "      <td>Si</td>\n",
              "      <td>Electronic check</td>\n",
              "      <td>98.00</td>\n",
              "      <td>1237.85</td>\n",
              "      <td>3.266667</td>\n",
              "    </tr>\n",
              "    <tr>\n",
              "      <th>4</th>\n",
              "      <td>0013-EXCHZ</td>\n",
              "      <td>Si</td>\n",
              "      <td>Female</td>\n",
              "      <td>Si</td>\n",
              "      <td>Si</td>\n",
              "      <td>No</td>\n",
              "      <td>3</td>\n",
              "      <td>Si</td>\n",
              "      <td>No</td>\n",
              "      <td>Fiber optic</td>\n",
              "      <td>...</td>\n",
              "      <td>No</td>\n",
              "      <td>Si</td>\n",
              "      <td>Si</td>\n",
              "      <td>No</td>\n",
              "      <td>Month-to-month</td>\n",
              "      <td>Si</td>\n",
              "      <td>Mailed check</td>\n",
              "      <td>83.90</td>\n",
              "      <td>267.40</td>\n",
              "      <td>2.796667</td>\n",
              "    </tr>\n",
              "    <tr>\n",
              "      <th>...</th>\n",
              "      <td>...</td>\n",
              "      <td>...</td>\n",
              "      <td>...</td>\n",
              "      <td>...</td>\n",
              "      <td>...</td>\n",
              "      <td>...</td>\n",
              "      <td>...</td>\n",
              "      <td>...</td>\n",
              "      <td>...</td>\n",
              "      <td>...</td>\n",
              "      <td>...</td>\n",
              "      <td>...</td>\n",
              "      <td>...</td>\n",
              "      <td>...</td>\n",
              "      <td>...</td>\n",
              "      <td>...</td>\n",
              "      <td>...</td>\n",
              "      <td>...</td>\n",
              "      <td>...</td>\n",
              "      <td>...</td>\n",
              "      <td>...</td>\n",
              "    </tr>\n",
              "    <tr>\n",
              "      <th>7157</th>\n",
              "      <td>9987-LUTYD</td>\n",
              "      <td>No</td>\n",
              "      <td>Female</td>\n",
              "      <td>No</td>\n",
              "      <td>No</td>\n",
              "      <td>No</td>\n",
              "      <td>13</td>\n",
              "      <td>Si</td>\n",
              "      <td>No</td>\n",
              "      <td>DSL</td>\n",
              "      <td>...</td>\n",
              "      <td>No</td>\n",
              "      <td>Si</td>\n",
              "      <td>No</td>\n",
              "      <td>No</td>\n",
              "      <td>One year</td>\n",
              "      <td>No</td>\n",
              "      <td>Mailed check</td>\n",
              "      <td>55.15</td>\n",
              "      <td>742.90</td>\n",
              "      <td>1.838333</td>\n",
              "    </tr>\n",
              "    <tr>\n",
              "      <th>7158</th>\n",
              "      <td>9992-RRAMN</td>\n",
              "      <td>Si</td>\n",
              "      <td>Male</td>\n",
              "      <td>No</td>\n",
              "      <td>Si</td>\n",
              "      <td>No</td>\n",
              "      <td>22</td>\n",
              "      <td>Si</td>\n",
              "      <td>Si</td>\n",
              "      <td>Fiber optic</td>\n",
              "      <td>...</td>\n",
              "      <td>No</td>\n",
              "      <td>No</td>\n",
              "      <td>No</td>\n",
              "      <td>Si</td>\n",
              "      <td>Month-to-month</td>\n",
              "      <td>Si</td>\n",
              "      <td>Electronic check</td>\n",
              "      <td>85.10</td>\n",
              "      <td>1873.70</td>\n",
              "      <td>2.836667</td>\n",
              "    </tr>\n",
              "    <tr>\n",
              "      <th>7159</th>\n",
              "      <td>9992-UJOEL</td>\n",
              "      <td>No</td>\n",
              "      <td>Male</td>\n",
              "      <td>No</td>\n",
              "      <td>No</td>\n",
              "      <td>No</td>\n",
              "      <td>2</td>\n",
              "      <td>Si</td>\n",
              "      <td>No</td>\n",
              "      <td>DSL</td>\n",
              "      <td>...</td>\n",
              "      <td>No</td>\n",
              "      <td>No</td>\n",
              "      <td>No</td>\n",
              "      <td>No</td>\n",
              "      <td>Month-to-month</td>\n",
              "      <td>Si</td>\n",
              "      <td>Mailed check</td>\n",
              "      <td>50.30</td>\n",
              "      <td>92.75</td>\n",
              "      <td>1.676667</td>\n",
              "    </tr>\n",
              "    <tr>\n",
              "      <th>7160</th>\n",
              "      <td>9993-LHIEB</td>\n",
              "      <td>No</td>\n",
              "      <td>Male</td>\n",
              "      <td>No</td>\n",
              "      <td>Si</td>\n",
              "      <td>Si</td>\n",
              "      <td>67</td>\n",
              "      <td>Si</td>\n",
              "      <td>No</td>\n",
              "      <td>DSL</td>\n",
              "      <td>...</td>\n",
              "      <td>Si</td>\n",
              "      <td>Si</td>\n",
              "      <td>No</td>\n",
              "      <td>Si</td>\n",
              "      <td>Two year</td>\n",
              "      <td>No</td>\n",
              "      <td>Mailed check</td>\n",
              "      <td>67.85</td>\n",
              "      <td>4627.65</td>\n",
              "      <td>2.261667</td>\n",
              "    </tr>\n",
              "    <tr>\n",
              "      <th>7161</th>\n",
              "      <td>9995-HOTOH</td>\n",
              "      <td>No</td>\n",
              "      <td>Male</td>\n",
              "      <td>No</td>\n",
              "      <td>Si</td>\n",
              "      <td>Si</td>\n",
              "      <td>63</td>\n",
              "      <td>No</td>\n",
              "      <td>No phone service</td>\n",
              "      <td>DSL</td>\n",
              "      <td>...</td>\n",
              "      <td>Si</td>\n",
              "      <td>No</td>\n",
              "      <td>Si</td>\n",
              "      <td>Si</td>\n",
              "      <td>Two year</td>\n",
              "      <td>No</td>\n",
              "      <td>Electronic check</td>\n",
              "      <td>59.00</td>\n",
              "      <td>3707.60</td>\n",
              "      <td>1.966667</td>\n",
              "    </tr>\n",
              "  </tbody>\n",
              "</table>\n",
              "<p>7162 rows × 22 columns</p>\n",
              "</div>\n",
              "    <div class=\"colab-df-buttons\">\n",
              "\n",
              "  <div class=\"colab-df-container\">\n",
              "    <button class=\"colab-df-convert\" onclick=\"convertToInteractive('df-2838469a-3bf9-46aa-86f2-2d2e36865c9f')\"\n",
              "            title=\"Convert this dataframe to an interactive table.\"\n",
              "            style=\"display:none;\">\n",
              "\n",
              "  <svg xmlns=\"http://www.w3.org/2000/svg\" height=\"24px\" viewBox=\"0 -960 960 960\">\n",
              "    <path d=\"M120-120v-720h720v720H120Zm60-500h600v-160H180v160Zm220 220h160v-160H400v160Zm0 220h160v-160H400v160ZM180-400h160v-160H180v160Zm440 0h160v-160H620v160ZM180-180h160v-160H180v160Zm440 0h160v-160H620v160Z\"/>\n",
              "  </svg>\n",
              "    </button>\n",
              "\n",
              "  <style>\n",
              "    .colab-df-container {\n",
              "      display:flex;\n",
              "      gap: 12px;\n",
              "    }\n",
              "\n",
              "    .colab-df-convert {\n",
              "      background-color: #E8F0FE;\n",
              "      border: none;\n",
              "      border-radius: 50%;\n",
              "      cursor: pointer;\n",
              "      display: none;\n",
              "      fill: #1967D2;\n",
              "      height: 32px;\n",
              "      padding: 0 0 0 0;\n",
              "      width: 32px;\n",
              "    }\n",
              "\n",
              "    .colab-df-convert:hover {\n",
              "      background-color: #E2EBFA;\n",
              "      box-shadow: 0px 1px 2px rgba(60, 64, 67, 0.3), 0px 1px 3px 1px rgba(60, 64, 67, 0.15);\n",
              "      fill: #174EA6;\n",
              "    }\n",
              "\n",
              "    .colab-df-buttons div {\n",
              "      margin-bottom: 4px;\n",
              "    }\n",
              "\n",
              "    [theme=dark] .colab-df-convert {\n",
              "      background-color: #3B4455;\n",
              "      fill: #D2E3FC;\n",
              "    }\n",
              "\n",
              "    [theme=dark] .colab-df-convert:hover {\n",
              "      background-color: #434B5C;\n",
              "      box-shadow: 0px 1px 3px 1px rgba(0, 0, 0, 0.15);\n",
              "      filter: drop-shadow(0px 1px 2px rgba(0, 0, 0, 0.3));\n",
              "      fill: #FFFFFF;\n",
              "    }\n",
              "  </style>\n",
              "\n",
              "    <script>\n",
              "      const buttonEl =\n",
              "        document.querySelector('#df-2838469a-3bf9-46aa-86f2-2d2e36865c9f button.colab-df-convert');\n",
              "      buttonEl.style.display =\n",
              "        google.colab.kernel.accessAllowed ? 'block' : 'none';\n",
              "\n",
              "      async function convertToInteractive(key) {\n",
              "        const element = document.querySelector('#df-2838469a-3bf9-46aa-86f2-2d2e36865c9f');\n",
              "        const dataTable =\n",
              "          await google.colab.kernel.invokeFunction('convertToInteractive',\n",
              "                                                    [key], {});\n",
              "        if (!dataTable) return;\n",
              "\n",
              "        const docLinkHtml = 'Like what you see? Visit the ' +\n",
              "          '<a target=\"_blank\" href=https://colab.research.google.com/notebooks/data_table.ipynb>data table notebook</a>'\n",
              "          + ' to learn more about interactive tables.';\n",
              "        element.innerHTML = '';\n",
              "        dataTable['output_type'] = 'display_data';\n",
              "        await google.colab.output.renderOutput(dataTable, element);\n",
              "        const docLink = document.createElement('div');\n",
              "        docLink.innerHTML = docLinkHtml;\n",
              "        element.appendChild(docLink);\n",
              "      }\n",
              "    </script>\n",
              "  </div>\n",
              "\n",
              "\n",
              "    <div id=\"df-b67c85c1-efc4-4e85-8f5c-a92f32dd5ed3\">\n",
              "      <button class=\"colab-df-quickchart\" onclick=\"quickchart('df-b67c85c1-efc4-4e85-8f5c-a92f32dd5ed3')\"\n",
              "                title=\"Suggest charts\"\n",
              "                style=\"display:none;\">\n",
              "\n",
              "<svg xmlns=\"http://www.w3.org/2000/svg\" height=\"24px\"viewBox=\"0 0 24 24\"\n",
              "     width=\"24px\">\n",
              "    <g>\n",
              "        <path d=\"M19 3H5c-1.1 0-2 .9-2 2v14c0 1.1.9 2 2 2h14c1.1 0 2-.9 2-2V5c0-1.1-.9-2-2-2zM9 17H7v-7h2v7zm4 0h-2V7h2v10zm4 0h-2v-4h2v4z\"/>\n",
              "    </g>\n",
              "</svg>\n",
              "      </button>\n",
              "\n",
              "<style>\n",
              "  .colab-df-quickchart {\n",
              "      --bg-color: #E8F0FE;\n",
              "      --fill-color: #1967D2;\n",
              "      --hover-bg-color: #E2EBFA;\n",
              "      --hover-fill-color: #174EA6;\n",
              "      --disabled-fill-color: #AAA;\n",
              "      --disabled-bg-color: #DDD;\n",
              "  }\n",
              "\n",
              "  [theme=dark] .colab-df-quickchart {\n",
              "      --bg-color: #3B4455;\n",
              "      --fill-color: #D2E3FC;\n",
              "      --hover-bg-color: #434B5C;\n",
              "      --hover-fill-color: #FFFFFF;\n",
              "      --disabled-bg-color: #3B4455;\n",
              "      --disabled-fill-color: #666;\n",
              "  }\n",
              "\n",
              "  .colab-df-quickchart {\n",
              "    background-color: var(--bg-color);\n",
              "    border: none;\n",
              "    border-radius: 50%;\n",
              "    cursor: pointer;\n",
              "    display: none;\n",
              "    fill: var(--fill-color);\n",
              "    height: 32px;\n",
              "    padding: 0;\n",
              "    width: 32px;\n",
              "  }\n",
              "\n",
              "  .colab-df-quickchart:hover {\n",
              "    background-color: var(--hover-bg-color);\n",
              "    box-shadow: 0 1px 2px rgba(60, 64, 67, 0.3), 0 1px 3px 1px rgba(60, 64, 67, 0.15);\n",
              "    fill: var(--button-hover-fill-color);\n",
              "  }\n",
              "\n",
              "  .colab-df-quickchart-complete:disabled,\n",
              "  .colab-df-quickchart-complete:disabled:hover {\n",
              "    background-color: var(--disabled-bg-color);\n",
              "    fill: var(--disabled-fill-color);\n",
              "    box-shadow: none;\n",
              "  }\n",
              "\n",
              "  .colab-df-spinner {\n",
              "    border: 2px solid var(--fill-color);\n",
              "    border-color: transparent;\n",
              "    border-bottom-color: var(--fill-color);\n",
              "    animation:\n",
              "      spin 1s steps(1) infinite;\n",
              "  }\n",
              "\n",
              "  @keyframes spin {\n",
              "    0% {\n",
              "      border-color: transparent;\n",
              "      border-bottom-color: var(--fill-color);\n",
              "      border-left-color: var(--fill-color);\n",
              "    }\n",
              "    20% {\n",
              "      border-color: transparent;\n",
              "      border-left-color: var(--fill-color);\n",
              "      border-top-color: var(--fill-color);\n",
              "    }\n",
              "    30% {\n",
              "      border-color: transparent;\n",
              "      border-left-color: var(--fill-color);\n",
              "      border-top-color: var(--fill-color);\n",
              "      border-right-color: var(--fill-color);\n",
              "    }\n",
              "    40% {\n",
              "      border-color: transparent;\n",
              "      border-right-color: var(--fill-color);\n",
              "      border-top-color: var(--fill-color);\n",
              "    }\n",
              "    60% {\n",
              "      border-color: transparent;\n",
              "      border-right-color: var(--fill-color);\n",
              "    }\n",
              "    80% {\n",
              "      border-color: transparent;\n",
              "      border-right-color: var(--fill-color);\n",
              "      border-bottom-color: var(--fill-color);\n",
              "    }\n",
              "    90% {\n",
              "      border-color: transparent;\n",
              "      border-bottom-color: var(--fill-color);\n",
              "    }\n",
              "  }\n",
              "</style>\n",
              "\n",
              "      <script>\n",
              "        async function quickchart(key) {\n",
              "          const quickchartButtonEl =\n",
              "            document.querySelector('#' + key + ' button');\n",
              "          quickchartButtonEl.disabled = true;  // To prevent multiple clicks.\n",
              "          quickchartButtonEl.classList.add('colab-df-spinner');\n",
              "          try {\n",
              "            const charts = await google.colab.kernel.invokeFunction(\n",
              "                'suggestCharts', [key], {});\n",
              "          } catch (error) {\n",
              "            console.error('Error during call to suggestCharts:', error);\n",
              "          }\n",
              "          quickchartButtonEl.classList.remove('colab-df-spinner');\n",
              "          quickchartButtonEl.classList.add('colab-df-quickchart-complete');\n",
              "        }\n",
              "        (() => {\n",
              "          let quickchartButtonEl =\n",
              "            document.querySelector('#df-b67c85c1-efc4-4e85-8f5c-a92f32dd5ed3 button');\n",
              "          quickchartButtonEl.style.display =\n",
              "            google.colab.kernel.accessAllowed ? 'block' : 'none';\n",
              "        })();\n",
              "      </script>\n",
              "    </div>\n",
              "\n",
              "  <div id=\"id_4f4be308-5012-4ed1-bc39-4f55e011a74e\">\n",
              "    <style>\n",
              "      .colab-df-generate {\n",
              "        background-color: #E8F0FE;\n",
              "        border: none;\n",
              "        border-radius: 50%;\n",
              "        cursor: pointer;\n",
              "        display: none;\n",
              "        fill: #1967D2;\n",
              "        height: 32px;\n",
              "        padding: 0 0 0 0;\n",
              "        width: 32px;\n",
              "      }\n",
              "\n",
              "      .colab-df-generate:hover {\n",
              "        background-color: #E2EBFA;\n",
              "        box-shadow: 0px 1px 2px rgba(60, 64, 67, 0.3), 0px 1px 3px 1px rgba(60, 64, 67, 0.15);\n",
              "        fill: #174EA6;\n",
              "      }\n",
              "\n",
              "      [theme=dark] .colab-df-generate {\n",
              "        background-color: #3B4455;\n",
              "        fill: #D2E3FC;\n",
              "      }\n",
              "\n",
              "      [theme=dark] .colab-df-generate:hover {\n",
              "        background-color: #434B5C;\n",
              "        box-shadow: 0px 1px 3px 1px rgba(0, 0, 0, 0.15);\n",
              "        filter: drop-shadow(0px 1px 2px rgba(0, 0, 0, 0.3));\n",
              "        fill: #FFFFFF;\n",
              "      }\n",
              "    </style>\n",
              "    <button class=\"colab-df-generate\" onclick=\"generateWithVariable('df')\"\n",
              "            title=\"Generate code using this dataframe.\"\n",
              "            style=\"display:none;\">\n",
              "\n",
              "  <svg xmlns=\"http://www.w3.org/2000/svg\" height=\"24px\"viewBox=\"0 0 24 24\"\n",
              "       width=\"24px\">\n",
              "    <path d=\"M7,19H8.4L18.45,9,17,7.55,7,17.6ZM5,21V16.75L18.45,3.32a2,2,0,0,1,2.83,0l1.4,1.43a1.91,1.91,0,0,1,.58,1.4,1.91,1.91,0,0,1-.58,1.4L9.25,21ZM18.45,9,17,7.55Zm-12,3A5.31,5.31,0,0,0,4.9,8.1,5.31,5.31,0,0,0,1,6.5,5.31,5.31,0,0,0,4.9,4.9,5.31,5.31,0,0,0,6.5,1,5.31,5.31,0,0,0,8.1,4.9,5.31,5.31,0,0,0,12,6.5,5.46,5.46,0,0,0,6.5,12Z\"/>\n",
              "  </svg>\n",
              "    </button>\n",
              "    <script>\n",
              "      (() => {\n",
              "      const buttonEl =\n",
              "        document.querySelector('#id_4f4be308-5012-4ed1-bc39-4f55e011a74e button.colab-df-generate');\n",
              "      buttonEl.style.display =\n",
              "        google.colab.kernel.accessAllowed ? 'block' : 'none';\n",
              "\n",
              "      buttonEl.onclick = () => {\n",
              "        google.colab.notebook.generateWithVariable('df');\n",
              "      }\n",
              "      })();\n",
              "    </script>\n",
              "  </div>\n",
              "\n",
              "    </div>\n",
              "  </div>\n"
            ],
            "application/vnd.google.colaboratory.intrinsic+json": {
              "type": "dataframe",
              "variable_name": "df"
            }
          },
          "metadata": {},
          "execution_count": 637
        }
      ],
      "source": [
        "import pandas as pd\n",
        "url = \"https://raw.githubusercontent.com/Deinbi/Telecom-X-Parte-2-Predicci-n-de-Cancelaci-n-Churn-/refs/heads/main/datos_tratados.csv\"\n",
        "df = pd.read_csv(url)\n",
        "df"
      ]
    },
    {
      "cell_type": "markdown",
      "source": [
        "### Eliminación de Columnas Irrelevantes\n",
        "\n",
        "Elimina columnas que no aportan valor al análisis o a los modelos predictivos, como identificadores únicos (por ejemplo, el ID del cliente). Estas columnas no ayudan en la predicción de la cancelación y pueden incluso perjudicar el desempeño de los modelos."
      ],
      "metadata": {
        "id": "-Dhh0z4qfafR"
      }
    },
    {
      "cell_type": "code",
      "source": [
        "df = df.drop(columns=['ID_Cliente'])"
      ],
      "metadata": {
        "id": "au1EIOA8eEiV"
      },
      "execution_count": 638,
      "outputs": []
    },
    {
      "cell_type": "code",
      "source": [
        "df.head(1)"
      ],
      "metadata": {
        "id": "nAUeIdephmJr",
        "outputId": "4b56c38b-178b-4635-9b03-86fc1afc5cdf",
        "colab": {
          "base_uri": "https://localhost:8080/",
          "height": 130
        }
      },
      "execution_count": 639,
      "outputs": [
        {
          "output_type": "execute_result",
          "data": {
            "text/plain": [
              "  Cliente_cancelado  Genero Mayor_de_65_años En_Pareja Tiene_Dependientes  \\\n",
              "0                No  Female               No        Si                 Si   \n",
              "\n",
              "   Meses_Contratados Servicio_Telefonico Multiples_Lineas Servicio_Internet  \\\n",
              "0                  9                  Si               No               DSL   \n",
              "\n",
              "  Seguridad_Online  ... Proteccion_Dispositivos Soporte_Tecnico Streaming_TV  \\\n",
              "0               No  ...                      No              Si           Si   \n",
              "\n",
              "  Streaming_Peliculas Tipo_de_Contrato Facturacion_Electronica   Metodo_Pago  \\\n",
              "0                  No         One year                      Si  Mailed check   \n",
              "\n",
              "  Cobro_Mensual  Gasto_Total  Cuentas_Diarias  \n",
              "0          65.6        593.3         2.186667  \n",
              "\n",
              "[1 rows x 21 columns]"
            ],
            "text/html": [
              "\n",
              "  <div id=\"df-d7289a5e-5f03-46f1-8846-5e50ab32e93c\" class=\"colab-df-container\">\n",
              "    <div>\n",
              "<style scoped>\n",
              "    .dataframe tbody tr th:only-of-type {\n",
              "        vertical-align: middle;\n",
              "    }\n",
              "\n",
              "    .dataframe tbody tr th {\n",
              "        vertical-align: top;\n",
              "    }\n",
              "\n",
              "    .dataframe thead th {\n",
              "        text-align: right;\n",
              "    }\n",
              "</style>\n",
              "<table border=\"1\" class=\"dataframe\">\n",
              "  <thead>\n",
              "    <tr style=\"text-align: right;\">\n",
              "      <th></th>\n",
              "      <th>Cliente_cancelado</th>\n",
              "      <th>Genero</th>\n",
              "      <th>Mayor_de_65_años</th>\n",
              "      <th>En_Pareja</th>\n",
              "      <th>Tiene_Dependientes</th>\n",
              "      <th>Meses_Contratados</th>\n",
              "      <th>Servicio_Telefonico</th>\n",
              "      <th>Multiples_Lineas</th>\n",
              "      <th>Servicio_Internet</th>\n",
              "      <th>Seguridad_Online</th>\n",
              "      <th>...</th>\n",
              "      <th>Proteccion_Dispositivos</th>\n",
              "      <th>Soporte_Tecnico</th>\n",
              "      <th>Streaming_TV</th>\n",
              "      <th>Streaming_Peliculas</th>\n",
              "      <th>Tipo_de_Contrato</th>\n",
              "      <th>Facturacion_Electronica</th>\n",
              "      <th>Metodo_Pago</th>\n",
              "      <th>Cobro_Mensual</th>\n",
              "      <th>Gasto_Total</th>\n",
              "      <th>Cuentas_Diarias</th>\n",
              "    </tr>\n",
              "  </thead>\n",
              "  <tbody>\n",
              "    <tr>\n",
              "      <th>0</th>\n",
              "      <td>No</td>\n",
              "      <td>Female</td>\n",
              "      <td>No</td>\n",
              "      <td>Si</td>\n",
              "      <td>Si</td>\n",
              "      <td>9</td>\n",
              "      <td>Si</td>\n",
              "      <td>No</td>\n",
              "      <td>DSL</td>\n",
              "      <td>No</td>\n",
              "      <td>...</td>\n",
              "      <td>No</td>\n",
              "      <td>Si</td>\n",
              "      <td>Si</td>\n",
              "      <td>No</td>\n",
              "      <td>One year</td>\n",
              "      <td>Si</td>\n",
              "      <td>Mailed check</td>\n",
              "      <td>65.6</td>\n",
              "      <td>593.3</td>\n",
              "      <td>2.186667</td>\n",
              "    </tr>\n",
              "  </tbody>\n",
              "</table>\n",
              "<p>1 rows × 21 columns</p>\n",
              "</div>\n",
              "    <div class=\"colab-df-buttons\">\n",
              "\n",
              "  <div class=\"colab-df-container\">\n",
              "    <button class=\"colab-df-convert\" onclick=\"convertToInteractive('df-d7289a5e-5f03-46f1-8846-5e50ab32e93c')\"\n",
              "            title=\"Convert this dataframe to an interactive table.\"\n",
              "            style=\"display:none;\">\n",
              "\n",
              "  <svg xmlns=\"http://www.w3.org/2000/svg\" height=\"24px\" viewBox=\"0 -960 960 960\">\n",
              "    <path d=\"M120-120v-720h720v720H120Zm60-500h600v-160H180v160Zm220 220h160v-160H400v160Zm0 220h160v-160H400v160ZM180-400h160v-160H180v160Zm440 0h160v-160H620v160ZM180-180h160v-160H180v160Zm440 0h160v-160H620v160Z\"/>\n",
              "  </svg>\n",
              "    </button>\n",
              "\n",
              "  <style>\n",
              "    .colab-df-container {\n",
              "      display:flex;\n",
              "      gap: 12px;\n",
              "    }\n",
              "\n",
              "    .colab-df-convert {\n",
              "      background-color: #E8F0FE;\n",
              "      border: none;\n",
              "      border-radius: 50%;\n",
              "      cursor: pointer;\n",
              "      display: none;\n",
              "      fill: #1967D2;\n",
              "      height: 32px;\n",
              "      padding: 0 0 0 0;\n",
              "      width: 32px;\n",
              "    }\n",
              "\n",
              "    .colab-df-convert:hover {\n",
              "      background-color: #E2EBFA;\n",
              "      box-shadow: 0px 1px 2px rgba(60, 64, 67, 0.3), 0px 1px 3px 1px rgba(60, 64, 67, 0.15);\n",
              "      fill: #174EA6;\n",
              "    }\n",
              "\n",
              "    .colab-df-buttons div {\n",
              "      margin-bottom: 4px;\n",
              "    }\n",
              "\n",
              "    [theme=dark] .colab-df-convert {\n",
              "      background-color: #3B4455;\n",
              "      fill: #D2E3FC;\n",
              "    }\n",
              "\n",
              "    [theme=dark] .colab-df-convert:hover {\n",
              "      background-color: #434B5C;\n",
              "      box-shadow: 0px 1px 3px 1px rgba(0, 0, 0, 0.15);\n",
              "      filter: drop-shadow(0px 1px 2px rgba(0, 0, 0, 0.3));\n",
              "      fill: #FFFFFF;\n",
              "    }\n",
              "  </style>\n",
              "\n",
              "    <script>\n",
              "      const buttonEl =\n",
              "        document.querySelector('#df-d7289a5e-5f03-46f1-8846-5e50ab32e93c button.colab-df-convert');\n",
              "      buttonEl.style.display =\n",
              "        google.colab.kernel.accessAllowed ? 'block' : 'none';\n",
              "\n",
              "      async function convertToInteractive(key) {\n",
              "        const element = document.querySelector('#df-d7289a5e-5f03-46f1-8846-5e50ab32e93c');\n",
              "        const dataTable =\n",
              "          await google.colab.kernel.invokeFunction('convertToInteractive',\n",
              "                                                    [key], {});\n",
              "        if (!dataTable) return;\n",
              "\n",
              "        const docLinkHtml = 'Like what you see? Visit the ' +\n",
              "          '<a target=\"_blank\" href=https://colab.research.google.com/notebooks/data_table.ipynb>data table notebook</a>'\n",
              "          + ' to learn more about interactive tables.';\n",
              "        element.innerHTML = '';\n",
              "        dataTable['output_type'] = 'display_data';\n",
              "        await google.colab.output.renderOutput(dataTable, element);\n",
              "        const docLink = document.createElement('div');\n",
              "        docLink.innerHTML = docLinkHtml;\n",
              "        element.appendChild(docLink);\n",
              "      }\n",
              "    </script>\n",
              "  </div>\n",
              "\n",
              "\n",
              "    </div>\n",
              "  </div>\n"
            ],
            "application/vnd.google.colaboratory.intrinsic+json": {
              "type": "dataframe",
              "variable_name": "df"
            }
          },
          "metadata": {},
          "execution_count": 639
        }
      ]
    },
    {
      "cell_type": "code",
      "source": [
        "df.info()"
      ],
      "metadata": {
        "id": "MUlKch5ihoU4",
        "outputId": "5f3d44b2-1acc-4868-d55a-a800bc7d7dc9",
        "colab": {
          "base_uri": "https://localhost:8080/"
        }
      },
      "execution_count": 640,
      "outputs": [
        {
          "output_type": "stream",
          "name": "stdout",
          "text": [
            "<class 'pandas.core.frame.DataFrame'>\n",
            "RangeIndex: 7162 entries, 0 to 7161\n",
            "Data columns (total 21 columns):\n",
            " #   Column                   Non-Null Count  Dtype  \n",
            "---  ------                   --------------  -----  \n",
            " 0   Cliente_cancelado        7162 non-null   object \n",
            " 1   Genero                   7162 non-null   object \n",
            " 2   Mayor_de_65_años         7162 non-null   object \n",
            " 3   En_Pareja                7162 non-null   object \n",
            " 4   Tiene_Dependientes       7162 non-null   object \n",
            " 5   Meses_Contratados        7162 non-null   int64  \n",
            " 6   Servicio_Telefonico      7162 non-null   object \n",
            " 7   Multiples_Lineas         7162 non-null   object \n",
            " 8   Servicio_Internet        7162 non-null   object \n",
            " 9   Seguridad_Online         7162 non-null   object \n",
            " 10  Backup_Online            7162 non-null   object \n",
            " 11  Proteccion_Dispositivos  7162 non-null   object \n",
            " 12  Soporte_Tecnico          7162 non-null   object \n",
            " 13  Streaming_TV             7162 non-null   object \n",
            " 14  Streaming_Peliculas      7162 non-null   object \n",
            " 15  Tipo_de_Contrato         7162 non-null   object \n",
            " 16  Facturacion_Electronica  7162 non-null   object \n",
            " 17  Metodo_Pago              7162 non-null   object \n",
            " 18  Cobro_Mensual            7162 non-null   float64\n",
            " 19  Gasto_Total              7162 non-null   float64\n",
            " 20  Cuentas_Diarias          7162 non-null   float64\n",
            "dtypes: float64(3), int64(1), object(17)\n",
            "memory usage: 1.1+ MB\n"
          ]
        }
      ]
    },
    {
      "cell_type": "code",
      "source": [
        "df.drop('Seguridad_Online', axis=1, inplace=True)"
      ],
      "metadata": {
        "id": "TUSJhmkRhvsf"
      },
      "execution_count": 641,
      "outputs": []
    },
    {
      "cell_type": "code",
      "source": [
        "df.drop('Backup_Online', axis=1, inplace=True)"
      ],
      "metadata": {
        "id": "-xRtCQFnjpb_"
      },
      "execution_count": 642,
      "outputs": []
    },
    {
      "cell_type": "code",
      "source": [
        "df.drop('Proteccion_Dispositivos', axis=1, inplace=True)"
      ],
      "metadata": {
        "id": "dGCm_rVDj4tX"
      },
      "execution_count": 643,
      "outputs": []
    },
    {
      "cell_type": "code",
      "source": [
        "df.drop('Soporte_Tecnico', axis=1, inplace=True)"
      ],
      "metadata": {
        "id": "BbTN0Fr8j_HD"
      },
      "execution_count": 644,
      "outputs": []
    },
    {
      "cell_type": "code",
      "source": [
        "df.drop('Streaming_TV', axis=1, inplace=True)"
      ],
      "metadata": {
        "id": "CIAPG74WkCXU"
      },
      "execution_count": 645,
      "outputs": []
    },
    {
      "cell_type": "code",
      "source": [
        "df.drop('Streaming_Peliculas', axis=1, inplace=True)"
      ],
      "metadata": {
        "id": "mbbVm3PIkD-E"
      },
      "execution_count": 646,
      "outputs": []
    },
    {
      "cell_type": "code",
      "source": [
        "df.drop('Cuentas_Diarias', axis=1, inplace=True)"
      ],
      "metadata": {
        "id": "MzJ9XNwLkKiM"
      },
      "execution_count": 647,
      "outputs": []
    },
    {
      "cell_type": "code",
      "source": [
        "df.drop('Facturacion_Electronica', axis=1, inplace=True)"
      ],
      "metadata": {
        "id": "Az6NEE5Zka0m"
      },
      "execution_count": 648,
      "outputs": []
    },
    {
      "cell_type": "code",
      "source": [
        "df.drop('Genero', axis=1, inplace=True)"
      ],
      "metadata": {
        "id": "4mLfxP6Oq_xz"
      },
      "execution_count": 649,
      "outputs": []
    },
    {
      "cell_type": "code",
      "source": [
        "df.drop('En_Pareja', axis=1, inplace=True)"
      ],
      "metadata": {
        "id": "0jXsWn-zrkm2"
      },
      "execution_count": 650,
      "outputs": []
    },
    {
      "cell_type": "code",
      "source": [
        "df.drop('Multiples_Lineas', axis=1, inplace=True)"
      ],
      "metadata": {
        "id": "QfVZpfDutWgK"
      },
      "execution_count": 651,
      "outputs": []
    },
    {
      "cell_type": "code",
      "source": [
        "df.drop('Servicio_Telefonico', axis=1, inplace=True)"
      ],
      "metadata": {
        "id": "GsAXwRD9uuNM"
      },
      "execution_count": 652,
      "outputs": []
    },
    {
      "cell_type": "code",
      "source": [
        "df.drop('Servicio_Internet', axis=1, inplace=True)"
      ],
      "metadata": {
        "id": "HC8s68VIuxbc"
      },
      "execution_count": 653,
      "outputs": []
    },
    {
      "cell_type": "code",
      "source": [
        "df.head(5)"
      ],
      "metadata": {
        "id": "sr0rZtkboI4N",
        "outputId": "a3df93d3-ca2b-4abd-cbf4-e2052bbf335a",
        "colab": {
          "base_uri": "https://localhost:8080/",
          "height": 261
        }
      },
      "execution_count": 654,
      "outputs": [
        {
          "output_type": "execute_result",
          "data": {
            "text/plain": [
              "  Cliente_cancelado Mayor_de_65_años Tiene_Dependientes  Meses_Contratados  \\\n",
              "0                No               No                 Si                  9   \n",
              "1                No               No                 No                  9   \n",
              "2                Si               No                 No                  4   \n",
              "3                Si               Si                 No                 13   \n",
              "4                Si               Si                 No                  3   \n",
              "\n",
              "  Tipo_de_Contrato       Metodo_Pago  Cobro_Mensual  Gasto_Total  \n",
              "0         One year      Mailed check           65.6       593.30  \n",
              "1   Month-to-month      Mailed check           59.9       542.40  \n",
              "2   Month-to-month  Electronic check           73.9       280.85  \n",
              "3   Month-to-month  Electronic check           98.0      1237.85  \n",
              "4   Month-to-month      Mailed check           83.9       267.40  "
            ],
            "text/html": [
              "\n",
              "  <div id=\"df-489774f2-655d-4976-b7c2-4fe18eebd011\" class=\"colab-df-container\">\n",
              "    <div>\n",
              "<style scoped>\n",
              "    .dataframe tbody tr th:only-of-type {\n",
              "        vertical-align: middle;\n",
              "    }\n",
              "\n",
              "    .dataframe tbody tr th {\n",
              "        vertical-align: top;\n",
              "    }\n",
              "\n",
              "    .dataframe thead th {\n",
              "        text-align: right;\n",
              "    }\n",
              "</style>\n",
              "<table border=\"1\" class=\"dataframe\">\n",
              "  <thead>\n",
              "    <tr style=\"text-align: right;\">\n",
              "      <th></th>\n",
              "      <th>Cliente_cancelado</th>\n",
              "      <th>Mayor_de_65_años</th>\n",
              "      <th>Tiene_Dependientes</th>\n",
              "      <th>Meses_Contratados</th>\n",
              "      <th>Tipo_de_Contrato</th>\n",
              "      <th>Metodo_Pago</th>\n",
              "      <th>Cobro_Mensual</th>\n",
              "      <th>Gasto_Total</th>\n",
              "    </tr>\n",
              "  </thead>\n",
              "  <tbody>\n",
              "    <tr>\n",
              "      <th>0</th>\n",
              "      <td>No</td>\n",
              "      <td>No</td>\n",
              "      <td>Si</td>\n",
              "      <td>9</td>\n",
              "      <td>One year</td>\n",
              "      <td>Mailed check</td>\n",
              "      <td>65.6</td>\n",
              "      <td>593.30</td>\n",
              "    </tr>\n",
              "    <tr>\n",
              "      <th>1</th>\n",
              "      <td>No</td>\n",
              "      <td>No</td>\n",
              "      <td>No</td>\n",
              "      <td>9</td>\n",
              "      <td>Month-to-month</td>\n",
              "      <td>Mailed check</td>\n",
              "      <td>59.9</td>\n",
              "      <td>542.40</td>\n",
              "    </tr>\n",
              "    <tr>\n",
              "      <th>2</th>\n",
              "      <td>Si</td>\n",
              "      <td>No</td>\n",
              "      <td>No</td>\n",
              "      <td>4</td>\n",
              "      <td>Month-to-month</td>\n",
              "      <td>Electronic check</td>\n",
              "      <td>73.9</td>\n",
              "      <td>280.85</td>\n",
              "    </tr>\n",
              "    <tr>\n",
              "      <th>3</th>\n",
              "      <td>Si</td>\n",
              "      <td>Si</td>\n",
              "      <td>No</td>\n",
              "      <td>13</td>\n",
              "      <td>Month-to-month</td>\n",
              "      <td>Electronic check</td>\n",
              "      <td>98.0</td>\n",
              "      <td>1237.85</td>\n",
              "    </tr>\n",
              "    <tr>\n",
              "      <th>4</th>\n",
              "      <td>Si</td>\n",
              "      <td>Si</td>\n",
              "      <td>No</td>\n",
              "      <td>3</td>\n",
              "      <td>Month-to-month</td>\n",
              "      <td>Mailed check</td>\n",
              "      <td>83.9</td>\n",
              "      <td>267.40</td>\n",
              "    </tr>\n",
              "  </tbody>\n",
              "</table>\n",
              "</div>\n",
              "    <div class=\"colab-df-buttons\">\n",
              "\n",
              "  <div class=\"colab-df-container\">\n",
              "    <button class=\"colab-df-convert\" onclick=\"convertToInteractive('df-489774f2-655d-4976-b7c2-4fe18eebd011')\"\n",
              "            title=\"Convert this dataframe to an interactive table.\"\n",
              "            style=\"display:none;\">\n",
              "\n",
              "  <svg xmlns=\"http://www.w3.org/2000/svg\" height=\"24px\" viewBox=\"0 -960 960 960\">\n",
              "    <path d=\"M120-120v-720h720v720H120Zm60-500h600v-160H180v160Zm220 220h160v-160H400v160Zm0 220h160v-160H400v160ZM180-400h160v-160H180v160Zm440 0h160v-160H620v160ZM180-180h160v-160H180v160Zm440 0h160v-160H620v160Z\"/>\n",
              "  </svg>\n",
              "    </button>\n",
              "\n",
              "  <style>\n",
              "    .colab-df-container {\n",
              "      display:flex;\n",
              "      gap: 12px;\n",
              "    }\n",
              "\n",
              "    .colab-df-convert {\n",
              "      background-color: #E8F0FE;\n",
              "      border: none;\n",
              "      border-radius: 50%;\n",
              "      cursor: pointer;\n",
              "      display: none;\n",
              "      fill: #1967D2;\n",
              "      height: 32px;\n",
              "      padding: 0 0 0 0;\n",
              "      width: 32px;\n",
              "    }\n",
              "\n",
              "    .colab-df-convert:hover {\n",
              "      background-color: #E2EBFA;\n",
              "      box-shadow: 0px 1px 2px rgba(60, 64, 67, 0.3), 0px 1px 3px 1px rgba(60, 64, 67, 0.15);\n",
              "      fill: #174EA6;\n",
              "    }\n",
              "\n",
              "    .colab-df-buttons div {\n",
              "      margin-bottom: 4px;\n",
              "    }\n",
              "\n",
              "    [theme=dark] .colab-df-convert {\n",
              "      background-color: #3B4455;\n",
              "      fill: #D2E3FC;\n",
              "    }\n",
              "\n",
              "    [theme=dark] .colab-df-convert:hover {\n",
              "      background-color: #434B5C;\n",
              "      box-shadow: 0px 1px 3px 1px rgba(0, 0, 0, 0.15);\n",
              "      filter: drop-shadow(0px 1px 2px rgba(0, 0, 0, 0.3));\n",
              "      fill: #FFFFFF;\n",
              "    }\n",
              "  </style>\n",
              "\n",
              "    <script>\n",
              "      const buttonEl =\n",
              "        document.querySelector('#df-489774f2-655d-4976-b7c2-4fe18eebd011 button.colab-df-convert');\n",
              "      buttonEl.style.display =\n",
              "        google.colab.kernel.accessAllowed ? 'block' : 'none';\n",
              "\n",
              "      async function convertToInteractive(key) {\n",
              "        const element = document.querySelector('#df-489774f2-655d-4976-b7c2-4fe18eebd011');\n",
              "        const dataTable =\n",
              "          await google.colab.kernel.invokeFunction('convertToInteractive',\n",
              "                                                    [key], {});\n",
              "        if (!dataTable) return;\n",
              "\n",
              "        const docLinkHtml = 'Like what you see? Visit the ' +\n",
              "          '<a target=\"_blank\" href=https://colab.research.google.com/notebooks/data_table.ipynb>data table notebook</a>'\n",
              "          + ' to learn more about interactive tables.';\n",
              "        element.innerHTML = '';\n",
              "        dataTable['output_type'] = 'display_data';\n",
              "        await google.colab.output.renderOutput(dataTable, element);\n",
              "        const docLink = document.createElement('div');\n",
              "        docLink.innerHTML = docLinkHtml;\n",
              "        element.appendChild(docLink);\n",
              "      }\n",
              "    </script>\n",
              "  </div>\n",
              "\n",
              "\n",
              "    <div id=\"df-44d6934a-0723-40ea-b41d-d681e232640a\">\n",
              "      <button class=\"colab-df-quickchart\" onclick=\"quickchart('df-44d6934a-0723-40ea-b41d-d681e232640a')\"\n",
              "                title=\"Suggest charts\"\n",
              "                style=\"display:none;\">\n",
              "\n",
              "<svg xmlns=\"http://www.w3.org/2000/svg\" height=\"24px\"viewBox=\"0 0 24 24\"\n",
              "     width=\"24px\">\n",
              "    <g>\n",
              "        <path d=\"M19 3H5c-1.1 0-2 .9-2 2v14c0 1.1.9 2 2 2h14c1.1 0 2-.9 2-2V5c0-1.1-.9-2-2-2zM9 17H7v-7h2v7zm4 0h-2V7h2v10zm4 0h-2v-4h2v4z\"/>\n",
              "    </g>\n",
              "</svg>\n",
              "      </button>\n",
              "\n",
              "<style>\n",
              "  .colab-df-quickchart {\n",
              "      --bg-color: #E8F0FE;\n",
              "      --fill-color: #1967D2;\n",
              "      --hover-bg-color: #E2EBFA;\n",
              "      --hover-fill-color: #174EA6;\n",
              "      --disabled-fill-color: #AAA;\n",
              "      --disabled-bg-color: #DDD;\n",
              "  }\n",
              "\n",
              "  [theme=dark] .colab-df-quickchart {\n",
              "      --bg-color: #3B4455;\n",
              "      --fill-color: #D2E3FC;\n",
              "      --hover-bg-color: #434B5C;\n",
              "      --hover-fill-color: #FFFFFF;\n",
              "      --disabled-bg-color: #3B4455;\n",
              "      --disabled-fill-color: #666;\n",
              "  }\n",
              "\n",
              "  .colab-df-quickchart {\n",
              "    background-color: var(--bg-color);\n",
              "    border: none;\n",
              "    border-radius: 50%;\n",
              "    cursor: pointer;\n",
              "    display: none;\n",
              "    fill: var(--fill-color);\n",
              "    height: 32px;\n",
              "    padding: 0;\n",
              "    width: 32px;\n",
              "  }\n",
              "\n",
              "  .colab-df-quickchart:hover {\n",
              "    background-color: var(--hover-bg-color);\n",
              "    box-shadow: 0 1px 2px rgba(60, 64, 67, 0.3), 0 1px 3px 1px rgba(60, 64, 67, 0.15);\n",
              "    fill: var(--button-hover-fill-color);\n",
              "  }\n",
              "\n",
              "  .colab-df-quickchart-complete:disabled,\n",
              "  .colab-df-quickchart-complete:disabled:hover {\n",
              "    background-color: var(--disabled-bg-color);\n",
              "    fill: var(--disabled-fill-color);\n",
              "    box-shadow: none;\n",
              "  }\n",
              "\n",
              "  .colab-df-spinner {\n",
              "    border: 2px solid var(--fill-color);\n",
              "    border-color: transparent;\n",
              "    border-bottom-color: var(--fill-color);\n",
              "    animation:\n",
              "      spin 1s steps(1) infinite;\n",
              "  }\n",
              "\n",
              "  @keyframes spin {\n",
              "    0% {\n",
              "      border-color: transparent;\n",
              "      border-bottom-color: var(--fill-color);\n",
              "      border-left-color: var(--fill-color);\n",
              "    }\n",
              "    20% {\n",
              "      border-color: transparent;\n",
              "      border-left-color: var(--fill-color);\n",
              "      border-top-color: var(--fill-color);\n",
              "    }\n",
              "    30% {\n",
              "      border-color: transparent;\n",
              "      border-left-color: var(--fill-color);\n",
              "      border-top-color: var(--fill-color);\n",
              "      border-right-color: var(--fill-color);\n",
              "    }\n",
              "    40% {\n",
              "      border-color: transparent;\n",
              "      border-right-color: var(--fill-color);\n",
              "      border-top-color: var(--fill-color);\n",
              "    }\n",
              "    60% {\n",
              "      border-color: transparent;\n",
              "      border-right-color: var(--fill-color);\n",
              "    }\n",
              "    80% {\n",
              "      border-color: transparent;\n",
              "      border-right-color: var(--fill-color);\n",
              "      border-bottom-color: var(--fill-color);\n",
              "    }\n",
              "    90% {\n",
              "      border-color: transparent;\n",
              "      border-bottom-color: var(--fill-color);\n",
              "    }\n",
              "  }\n",
              "</style>\n",
              "\n",
              "      <script>\n",
              "        async function quickchart(key) {\n",
              "          const quickchartButtonEl =\n",
              "            document.querySelector('#' + key + ' button');\n",
              "          quickchartButtonEl.disabled = true;  // To prevent multiple clicks.\n",
              "          quickchartButtonEl.classList.add('colab-df-spinner');\n",
              "          try {\n",
              "            const charts = await google.colab.kernel.invokeFunction(\n",
              "                'suggestCharts', [key], {});\n",
              "          } catch (error) {\n",
              "            console.error('Error during call to suggestCharts:', error);\n",
              "          }\n",
              "          quickchartButtonEl.classList.remove('colab-df-spinner');\n",
              "          quickchartButtonEl.classList.add('colab-df-quickchart-complete');\n",
              "        }\n",
              "        (() => {\n",
              "          let quickchartButtonEl =\n",
              "            document.querySelector('#df-44d6934a-0723-40ea-b41d-d681e232640a button');\n",
              "          quickchartButtonEl.style.display =\n",
              "            google.colab.kernel.accessAllowed ? 'block' : 'none';\n",
              "        })();\n",
              "      </script>\n",
              "    </div>\n",
              "\n",
              "    </div>\n",
              "  </div>\n"
            ],
            "application/vnd.google.colaboratory.intrinsic+json": {
              "type": "dataframe",
              "variable_name": "df",
              "summary": "{\n  \"name\": \"df\",\n  \"rows\": 7162,\n  \"fields\": [\n    {\n      \"column\": \"Cliente_cancelado\",\n      \"properties\": {\n        \"dtype\": \"category\",\n        \"num_unique_values\": 2,\n        \"samples\": [\n          \"Si\",\n          \"No\"\n        ],\n        \"semantic_type\": \"\",\n        \"description\": \"\"\n      }\n    },\n    {\n      \"column\": \"Mayor_de_65_a\\u00f1os\",\n      \"properties\": {\n        \"dtype\": \"category\",\n        \"num_unique_values\": 2,\n        \"samples\": [\n          \"Si\",\n          \"No\"\n        ],\n        \"semantic_type\": \"\",\n        \"description\": \"\"\n      }\n    },\n    {\n      \"column\": \"Tiene_Dependientes\",\n      \"properties\": {\n        \"dtype\": \"category\",\n        \"num_unique_values\": 2,\n        \"samples\": [\n          \"No\",\n          \"Si\"\n        ],\n        \"semantic_type\": \"\",\n        \"description\": \"\"\n      }\n    },\n    {\n      \"column\": \"Meses_Contratados\",\n      \"properties\": {\n        \"dtype\": \"number\",\n        \"std\": 24,\n        \"min\": 1,\n        \"max\": 72,\n        \"num_unique_values\": 72,\n        \"samples\": [\n          71,\n          41\n        ],\n        \"semantic_type\": \"\",\n        \"description\": \"\"\n      }\n    },\n    {\n      \"column\": \"Tipo_de_Contrato\",\n      \"properties\": {\n        \"dtype\": \"category\",\n        \"num_unique_values\": 3,\n        \"samples\": [\n          \"One year\",\n          \"Month-to-month\"\n        ],\n        \"semantic_type\": \"\",\n        \"description\": \"\"\n      }\n    },\n    {\n      \"column\": \"Metodo_Pago\",\n      \"properties\": {\n        \"dtype\": \"category\",\n        \"num_unique_values\": 4,\n        \"samples\": [\n          \"Electronic check\",\n          \"Bank transfer (automatic)\"\n        ],\n        \"semantic_type\": \"\",\n        \"description\": \"\"\n      }\n    },\n    {\n      \"column\": \"Cobro_Mensual\",\n      \"properties\": {\n        \"dtype\": \"number\",\n        \"std\": 30.048612728910612,\n        \"min\": 18.25,\n        \"max\": 118.75,\n        \"num_unique_values\": 1584,\n        \"samples\": [\n          113.0,\n          69.75\n        ],\n        \"semantic_type\": \"\",\n        \"description\": \"\"\n      }\n    },\n    {\n      \"column\": \"Gasto_Total\",\n      \"properties\": {\n        \"dtype\": \"number\",\n        \"std\": 2261.1602779307486,\n        \"min\": 18.8,\n        \"max\": 8684.8,\n        \"num_unique_values\": 6530,\n        \"samples\": [\n          1801.9,\n          3036.75\n        ],\n        \"semantic_type\": \"\",\n        \"description\": \"\"\n      }\n    }\n  ]\n}"
            }
          },
          "metadata": {},
          "execution_count": 654
        }
      ]
    },
    {
      "cell_type": "code",
      "source": [
        "df.info()"
      ],
      "metadata": {
        "id": "vw_07Y6bmSX-",
        "outputId": "ee7d4a92-45d8-47d5-c865-4f4913c87e54",
        "colab": {
          "base_uri": "https://localhost:8080/"
        }
      },
      "execution_count": 655,
      "outputs": [
        {
          "output_type": "stream",
          "name": "stdout",
          "text": [
            "<class 'pandas.core.frame.DataFrame'>\n",
            "RangeIndex: 7162 entries, 0 to 7161\n",
            "Data columns (total 8 columns):\n",
            " #   Column              Non-Null Count  Dtype  \n",
            "---  ------              --------------  -----  \n",
            " 0   Cliente_cancelado   7162 non-null   object \n",
            " 1   Mayor_de_65_años    7162 non-null   object \n",
            " 2   Tiene_Dependientes  7162 non-null   object \n",
            " 3   Meses_Contratados   7162 non-null   int64  \n",
            " 4   Tipo_de_Contrato    7162 non-null   object \n",
            " 5   Metodo_Pago         7162 non-null   object \n",
            " 6   Cobro_Mensual       7162 non-null   float64\n",
            " 7   Gasto_Total         7162 non-null   float64\n",
            "dtypes: float64(2), int64(1), object(5)\n",
            "memory usage: 447.8+ KB\n"
          ]
        }
      ]
    },
    {
      "cell_type": "markdown",
      "source": [
        "## 3° Paso: *Separo las variable expliativa de mi variable respuesta*\n"
      ],
      "metadata": {
        "id": "nHodTSJxwWIG"
      }
    },
    {
      "cell_type": "markdown",
      "source": [
        "### Variables explicativas"
      ],
      "metadata": {
        "id": "e_a0kfkwwvCO"
      }
    },
    {
      "cell_type": "code",
      "source": [
        "X = df.drop('Cliente_cancelado', axis=1)"
      ],
      "metadata": {
        "id": "Yyf1RX_3t5G7"
      },
      "execution_count": 656,
      "outputs": []
    },
    {
      "cell_type": "markdown",
      "source": [
        "### Variable respuesta"
      ],
      "metadata": {
        "id": "0MViFdjqwzB_"
      }
    },
    {
      "cell_type": "code",
      "source": [
        "y = df['Cliente_cancelado']"
      ],
      "metadata": {
        "id": "bWuByYKkwRYi"
      },
      "execution_count": 657,
      "outputs": []
    },
    {
      "cell_type": "markdown",
      "source": [
        "### Transformacion de las variables explicativas"
      ],
      "metadata": {
        "id": "40fprXxrw3L1"
      }
    },
    {
      "cell_type": "code",
      "source": [
        "from sklearn.compose import make_column_transformer\n",
        "from sklearn.preprocessing import OneHotEncoder"
      ],
      "metadata": {
        "id": "5mFtq4BIw_FS"
      },
      "execution_count": 658,
      "outputs": []
    },
    {
      "cell_type": "code",
      "source": [
        "columnas = X.columns\n",
        "one_hot = make_column_transformer((OneHotEncoder(drop='if_binary'),['Tiene_Dependientes','Mayor_de_65_años','Tipo_de_Contrato','Metodo_Pago']), remainder='passthrough',sparse_threshold=0,force_int_remainder_cols=False)"
      ],
      "metadata": {
        "id": "CoWMuG3xyLoe"
      },
      "execution_count": 659,
      "outputs": []
    },
    {
      "cell_type": "code",
      "source": [
        "X = one_hot.fit_transform(X)"
      ],
      "metadata": {
        "id": "zOBPIDnezmqX"
      },
      "execution_count": 660,
      "outputs": []
    },
    {
      "cell_type": "code",
      "source": [
        "one_hot.get_feature_names_out(columnas)"
      ],
      "metadata": {
        "id": "6Cc1A6qBzv-K",
        "outputId": "0f93227d-8657-4812-9264-e7969930dbcd",
        "colab": {
          "base_uri": "https://localhost:8080/"
        }
      },
      "execution_count": 661,
      "outputs": [
        {
          "output_type": "execute_result",
          "data": {
            "text/plain": [
              "array(['onehotencoder__Tiene_Dependientes_Si',\n",
              "       'onehotencoder__Mayor_de_65_años_Si',\n",
              "       'onehotencoder__Tipo_de_Contrato_Month-to-month',\n",
              "       'onehotencoder__Tipo_de_Contrato_One year',\n",
              "       'onehotencoder__Tipo_de_Contrato_Two year',\n",
              "       'onehotencoder__Metodo_Pago_Bank transfer (automatic)',\n",
              "       'onehotencoder__Metodo_Pago_Credit card (automatic)',\n",
              "       'onehotencoder__Metodo_Pago_Electronic check',\n",
              "       'onehotencoder__Metodo_Pago_Mailed check',\n",
              "       'remainder__Meses_Contratados', 'remainder__Cobro_Mensual',\n",
              "       'remainder__Gasto_Total'], dtype=object)"
            ]
          },
          "metadata": {},
          "execution_count": 661
        }
      ]
    },
    {
      "cell_type": "code",
      "source": [
        "pd.DataFrame(X, columns=one_hot.get_feature_names_out(columnas)).head(5)"
      ],
      "metadata": {
        "id": "5xkLVly31Hyi",
        "outputId": "7c0f71c8-25e8-41b6-af66-b974b8580b4a",
        "colab": {
          "base_uri": "https://localhost:8080/",
          "height": 244
        }
      },
      "execution_count": 662,
      "outputs": [
        {
          "output_type": "execute_result",
          "data": {
            "text/plain": [
              "   onehotencoder__Tiene_Dependientes_Si  onehotencoder__Mayor_de_65_años_Si  \\\n",
              "0                                   1.0                                 0.0   \n",
              "1                                   0.0                                 0.0   \n",
              "2                                   0.0                                 0.0   \n",
              "3                                   0.0                                 1.0   \n",
              "4                                   0.0                                 1.0   \n",
              "\n",
              "   onehotencoder__Tipo_de_Contrato_Month-to-month  \\\n",
              "0                                             0.0   \n",
              "1                                             1.0   \n",
              "2                                             1.0   \n",
              "3                                             1.0   \n",
              "4                                             1.0   \n",
              "\n",
              "   onehotencoder__Tipo_de_Contrato_One year  \\\n",
              "0                                       1.0   \n",
              "1                                       0.0   \n",
              "2                                       0.0   \n",
              "3                                       0.0   \n",
              "4                                       0.0   \n",
              "\n",
              "   onehotencoder__Tipo_de_Contrato_Two year  \\\n",
              "0                                       0.0   \n",
              "1                                       0.0   \n",
              "2                                       0.0   \n",
              "3                                       0.0   \n",
              "4                                       0.0   \n",
              "\n",
              "   onehotencoder__Metodo_Pago_Bank transfer (automatic)  \\\n",
              "0                                                0.0      \n",
              "1                                                0.0      \n",
              "2                                                0.0      \n",
              "3                                                0.0      \n",
              "4                                                0.0      \n",
              "\n",
              "   onehotencoder__Metodo_Pago_Credit card (automatic)  \\\n",
              "0                                                0.0    \n",
              "1                                                0.0    \n",
              "2                                                0.0    \n",
              "3                                                0.0    \n",
              "4                                                0.0    \n",
              "\n",
              "   onehotencoder__Metodo_Pago_Electronic check  \\\n",
              "0                                          0.0   \n",
              "1                                          0.0   \n",
              "2                                          1.0   \n",
              "3                                          1.0   \n",
              "4                                          0.0   \n",
              "\n",
              "   onehotencoder__Metodo_Pago_Mailed check  remainder__Meses_Contratados  \\\n",
              "0                                      1.0                           9.0   \n",
              "1                                      1.0                           9.0   \n",
              "2                                      0.0                           4.0   \n",
              "3                                      0.0                          13.0   \n",
              "4                                      1.0                           3.0   \n",
              "\n",
              "   remainder__Cobro_Mensual  remainder__Gasto_Total  \n",
              "0                      65.6                  593.30  \n",
              "1                      59.9                  542.40  \n",
              "2                      73.9                  280.85  \n",
              "3                      98.0                 1237.85  \n",
              "4                      83.9                  267.40  "
            ],
            "text/html": [
              "\n",
              "  <div id=\"df-9c320b08-f5e4-4859-a63b-b5166ed3fd21\" class=\"colab-df-container\">\n",
              "    <div>\n",
              "<style scoped>\n",
              "    .dataframe tbody tr th:only-of-type {\n",
              "        vertical-align: middle;\n",
              "    }\n",
              "\n",
              "    .dataframe tbody tr th {\n",
              "        vertical-align: top;\n",
              "    }\n",
              "\n",
              "    .dataframe thead th {\n",
              "        text-align: right;\n",
              "    }\n",
              "</style>\n",
              "<table border=\"1\" class=\"dataframe\">\n",
              "  <thead>\n",
              "    <tr style=\"text-align: right;\">\n",
              "      <th></th>\n",
              "      <th>onehotencoder__Tiene_Dependientes_Si</th>\n",
              "      <th>onehotencoder__Mayor_de_65_años_Si</th>\n",
              "      <th>onehotencoder__Tipo_de_Contrato_Month-to-month</th>\n",
              "      <th>onehotencoder__Tipo_de_Contrato_One year</th>\n",
              "      <th>onehotencoder__Tipo_de_Contrato_Two year</th>\n",
              "      <th>onehotencoder__Metodo_Pago_Bank transfer (automatic)</th>\n",
              "      <th>onehotencoder__Metodo_Pago_Credit card (automatic)</th>\n",
              "      <th>onehotencoder__Metodo_Pago_Electronic check</th>\n",
              "      <th>onehotencoder__Metodo_Pago_Mailed check</th>\n",
              "      <th>remainder__Meses_Contratados</th>\n",
              "      <th>remainder__Cobro_Mensual</th>\n",
              "      <th>remainder__Gasto_Total</th>\n",
              "    </tr>\n",
              "  </thead>\n",
              "  <tbody>\n",
              "    <tr>\n",
              "      <th>0</th>\n",
              "      <td>1.0</td>\n",
              "      <td>0.0</td>\n",
              "      <td>0.0</td>\n",
              "      <td>1.0</td>\n",
              "      <td>0.0</td>\n",
              "      <td>0.0</td>\n",
              "      <td>0.0</td>\n",
              "      <td>0.0</td>\n",
              "      <td>1.0</td>\n",
              "      <td>9.0</td>\n",
              "      <td>65.6</td>\n",
              "      <td>593.30</td>\n",
              "    </tr>\n",
              "    <tr>\n",
              "      <th>1</th>\n",
              "      <td>0.0</td>\n",
              "      <td>0.0</td>\n",
              "      <td>1.0</td>\n",
              "      <td>0.0</td>\n",
              "      <td>0.0</td>\n",
              "      <td>0.0</td>\n",
              "      <td>0.0</td>\n",
              "      <td>0.0</td>\n",
              "      <td>1.0</td>\n",
              "      <td>9.0</td>\n",
              "      <td>59.9</td>\n",
              "      <td>542.40</td>\n",
              "    </tr>\n",
              "    <tr>\n",
              "      <th>2</th>\n",
              "      <td>0.0</td>\n",
              "      <td>0.0</td>\n",
              "      <td>1.0</td>\n",
              "      <td>0.0</td>\n",
              "      <td>0.0</td>\n",
              "      <td>0.0</td>\n",
              "      <td>0.0</td>\n",
              "      <td>1.0</td>\n",
              "      <td>0.0</td>\n",
              "      <td>4.0</td>\n",
              "      <td>73.9</td>\n",
              "      <td>280.85</td>\n",
              "    </tr>\n",
              "    <tr>\n",
              "      <th>3</th>\n",
              "      <td>0.0</td>\n",
              "      <td>1.0</td>\n",
              "      <td>1.0</td>\n",
              "      <td>0.0</td>\n",
              "      <td>0.0</td>\n",
              "      <td>0.0</td>\n",
              "      <td>0.0</td>\n",
              "      <td>1.0</td>\n",
              "      <td>0.0</td>\n",
              "      <td>13.0</td>\n",
              "      <td>98.0</td>\n",
              "      <td>1237.85</td>\n",
              "    </tr>\n",
              "    <tr>\n",
              "      <th>4</th>\n",
              "      <td>0.0</td>\n",
              "      <td>1.0</td>\n",
              "      <td>1.0</td>\n",
              "      <td>0.0</td>\n",
              "      <td>0.0</td>\n",
              "      <td>0.0</td>\n",
              "      <td>0.0</td>\n",
              "      <td>0.0</td>\n",
              "      <td>1.0</td>\n",
              "      <td>3.0</td>\n",
              "      <td>83.9</td>\n",
              "      <td>267.40</td>\n",
              "    </tr>\n",
              "  </tbody>\n",
              "</table>\n",
              "</div>\n",
              "    <div class=\"colab-df-buttons\">\n",
              "\n",
              "  <div class=\"colab-df-container\">\n",
              "    <button class=\"colab-df-convert\" onclick=\"convertToInteractive('df-9c320b08-f5e4-4859-a63b-b5166ed3fd21')\"\n",
              "            title=\"Convert this dataframe to an interactive table.\"\n",
              "            style=\"display:none;\">\n",
              "\n",
              "  <svg xmlns=\"http://www.w3.org/2000/svg\" height=\"24px\" viewBox=\"0 -960 960 960\">\n",
              "    <path d=\"M120-120v-720h720v720H120Zm60-500h600v-160H180v160Zm220 220h160v-160H400v160Zm0 220h160v-160H400v160ZM180-400h160v-160H180v160Zm440 0h160v-160H620v160ZM180-180h160v-160H180v160Zm440 0h160v-160H620v160Z\"/>\n",
              "  </svg>\n",
              "    </button>\n",
              "\n",
              "  <style>\n",
              "    .colab-df-container {\n",
              "      display:flex;\n",
              "      gap: 12px;\n",
              "    }\n",
              "\n",
              "    .colab-df-convert {\n",
              "      background-color: #E8F0FE;\n",
              "      border: none;\n",
              "      border-radius: 50%;\n",
              "      cursor: pointer;\n",
              "      display: none;\n",
              "      fill: #1967D2;\n",
              "      height: 32px;\n",
              "      padding: 0 0 0 0;\n",
              "      width: 32px;\n",
              "    }\n",
              "\n",
              "    .colab-df-convert:hover {\n",
              "      background-color: #E2EBFA;\n",
              "      box-shadow: 0px 1px 2px rgba(60, 64, 67, 0.3), 0px 1px 3px 1px rgba(60, 64, 67, 0.15);\n",
              "      fill: #174EA6;\n",
              "    }\n",
              "\n",
              "    .colab-df-buttons div {\n",
              "      margin-bottom: 4px;\n",
              "    }\n",
              "\n",
              "    [theme=dark] .colab-df-convert {\n",
              "      background-color: #3B4455;\n",
              "      fill: #D2E3FC;\n",
              "    }\n",
              "\n",
              "    [theme=dark] .colab-df-convert:hover {\n",
              "      background-color: #434B5C;\n",
              "      box-shadow: 0px 1px 3px 1px rgba(0, 0, 0, 0.15);\n",
              "      filter: drop-shadow(0px 1px 2px rgba(0, 0, 0, 0.3));\n",
              "      fill: #FFFFFF;\n",
              "    }\n",
              "  </style>\n",
              "\n",
              "    <script>\n",
              "      const buttonEl =\n",
              "        document.querySelector('#df-9c320b08-f5e4-4859-a63b-b5166ed3fd21 button.colab-df-convert');\n",
              "      buttonEl.style.display =\n",
              "        google.colab.kernel.accessAllowed ? 'block' : 'none';\n",
              "\n",
              "      async function convertToInteractive(key) {\n",
              "        const element = document.querySelector('#df-9c320b08-f5e4-4859-a63b-b5166ed3fd21');\n",
              "        const dataTable =\n",
              "          await google.colab.kernel.invokeFunction('convertToInteractive',\n",
              "                                                    [key], {});\n",
              "        if (!dataTable) return;\n",
              "\n",
              "        const docLinkHtml = 'Like what you see? Visit the ' +\n",
              "          '<a target=\"_blank\" href=https://colab.research.google.com/notebooks/data_table.ipynb>data table notebook</a>'\n",
              "          + ' to learn more about interactive tables.';\n",
              "        element.innerHTML = '';\n",
              "        dataTable['output_type'] = 'display_data';\n",
              "        await google.colab.output.renderOutput(dataTable, element);\n",
              "        const docLink = document.createElement('div');\n",
              "        docLink.innerHTML = docLinkHtml;\n",
              "        element.appendChild(docLink);\n",
              "      }\n",
              "    </script>\n",
              "  </div>\n",
              "\n",
              "\n",
              "    <div id=\"df-80c7f4f4-5f4b-4625-beb2-f9d04dc93b0c\">\n",
              "      <button class=\"colab-df-quickchart\" onclick=\"quickchart('df-80c7f4f4-5f4b-4625-beb2-f9d04dc93b0c')\"\n",
              "                title=\"Suggest charts\"\n",
              "                style=\"display:none;\">\n",
              "\n",
              "<svg xmlns=\"http://www.w3.org/2000/svg\" height=\"24px\"viewBox=\"0 0 24 24\"\n",
              "     width=\"24px\">\n",
              "    <g>\n",
              "        <path d=\"M19 3H5c-1.1 0-2 .9-2 2v14c0 1.1.9 2 2 2h14c1.1 0 2-.9 2-2V5c0-1.1-.9-2-2-2zM9 17H7v-7h2v7zm4 0h-2V7h2v10zm4 0h-2v-4h2v4z\"/>\n",
              "    </g>\n",
              "</svg>\n",
              "      </button>\n",
              "\n",
              "<style>\n",
              "  .colab-df-quickchart {\n",
              "      --bg-color: #E8F0FE;\n",
              "      --fill-color: #1967D2;\n",
              "      --hover-bg-color: #E2EBFA;\n",
              "      --hover-fill-color: #174EA6;\n",
              "      --disabled-fill-color: #AAA;\n",
              "      --disabled-bg-color: #DDD;\n",
              "  }\n",
              "\n",
              "  [theme=dark] .colab-df-quickchart {\n",
              "      --bg-color: #3B4455;\n",
              "      --fill-color: #D2E3FC;\n",
              "      --hover-bg-color: #434B5C;\n",
              "      --hover-fill-color: #FFFFFF;\n",
              "      --disabled-bg-color: #3B4455;\n",
              "      --disabled-fill-color: #666;\n",
              "  }\n",
              "\n",
              "  .colab-df-quickchart {\n",
              "    background-color: var(--bg-color);\n",
              "    border: none;\n",
              "    border-radius: 50%;\n",
              "    cursor: pointer;\n",
              "    display: none;\n",
              "    fill: var(--fill-color);\n",
              "    height: 32px;\n",
              "    padding: 0;\n",
              "    width: 32px;\n",
              "  }\n",
              "\n",
              "  .colab-df-quickchart:hover {\n",
              "    background-color: var(--hover-bg-color);\n",
              "    box-shadow: 0 1px 2px rgba(60, 64, 67, 0.3), 0 1px 3px 1px rgba(60, 64, 67, 0.15);\n",
              "    fill: var(--button-hover-fill-color);\n",
              "  }\n",
              "\n",
              "  .colab-df-quickchart-complete:disabled,\n",
              "  .colab-df-quickchart-complete:disabled:hover {\n",
              "    background-color: var(--disabled-bg-color);\n",
              "    fill: var(--disabled-fill-color);\n",
              "    box-shadow: none;\n",
              "  }\n",
              "\n",
              "  .colab-df-spinner {\n",
              "    border: 2px solid var(--fill-color);\n",
              "    border-color: transparent;\n",
              "    border-bottom-color: var(--fill-color);\n",
              "    animation:\n",
              "      spin 1s steps(1) infinite;\n",
              "  }\n",
              "\n",
              "  @keyframes spin {\n",
              "    0% {\n",
              "      border-color: transparent;\n",
              "      border-bottom-color: var(--fill-color);\n",
              "      border-left-color: var(--fill-color);\n",
              "    }\n",
              "    20% {\n",
              "      border-color: transparent;\n",
              "      border-left-color: var(--fill-color);\n",
              "      border-top-color: var(--fill-color);\n",
              "    }\n",
              "    30% {\n",
              "      border-color: transparent;\n",
              "      border-left-color: var(--fill-color);\n",
              "      border-top-color: var(--fill-color);\n",
              "      border-right-color: var(--fill-color);\n",
              "    }\n",
              "    40% {\n",
              "      border-color: transparent;\n",
              "      border-right-color: var(--fill-color);\n",
              "      border-top-color: var(--fill-color);\n",
              "    }\n",
              "    60% {\n",
              "      border-color: transparent;\n",
              "      border-right-color: var(--fill-color);\n",
              "    }\n",
              "    80% {\n",
              "      border-color: transparent;\n",
              "      border-right-color: var(--fill-color);\n",
              "      border-bottom-color: var(--fill-color);\n",
              "    }\n",
              "    90% {\n",
              "      border-color: transparent;\n",
              "      border-bottom-color: var(--fill-color);\n",
              "    }\n",
              "  }\n",
              "</style>\n",
              "\n",
              "      <script>\n",
              "        async function quickchart(key) {\n",
              "          const quickchartButtonEl =\n",
              "            document.querySelector('#' + key + ' button');\n",
              "          quickchartButtonEl.disabled = true;  // To prevent multiple clicks.\n",
              "          quickchartButtonEl.classList.add('colab-df-spinner');\n",
              "          try {\n",
              "            const charts = await google.colab.kernel.invokeFunction(\n",
              "                'suggestCharts', [key], {});\n",
              "          } catch (error) {\n",
              "            console.error('Error during call to suggestCharts:', error);\n",
              "          }\n",
              "          quickchartButtonEl.classList.remove('colab-df-spinner');\n",
              "          quickchartButtonEl.classList.add('colab-df-quickchart-complete');\n",
              "        }\n",
              "        (() => {\n",
              "          let quickchartButtonEl =\n",
              "            document.querySelector('#df-80c7f4f4-5f4b-4625-beb2-f9d04dc93b0c button');\n",
              "          quickchartButtonEl.style.display =\n",
              "            google.colab.kernel.accessAllowed ? 'block' : 'none';\n",
              "        })();\n",
              "      </script>\n",
              "    </div>\n",
              "\n",
              "    </div>\n",
              "  </div>\n"
            ],
            "application/vnd.google.colaboratory.intrinsic+json": {
              "type": "dataframe",
              "summary": "{\n  \"name\": \"pd\",\n  \"rows\": 5,\n  \"fields\": [\n    {\n      \"column\": \"onehotencoder__Tiene_Dependientes_Si\",\n      \"properties\": {\n        \"dtype\": \"number\",\n        \"std\": 0.44721359549995804,\n        \"min\": 0.0,\n        \"max\": 1.0,\n        \"num_unique_values\": 2,\n        \"samples\": [\n          0.0,\n          1.0\n        ],\n        \"semantic_type\": \"\",\n        \"description\": \"\"\n      }\n    },\n    {\n      \"column\": \"onehotencoder__Mayor_de_65_a\\u00f1os_Si\",\n      \"properties\": {\n        \"dtype\": \"number\",\n        \"std\": 0.5477225575051662,\n        \"min\": 0.0,\n        \"max\": 1.0,\n        \"num_unique_values\": 2,\n        \"samples\": [\n          1.0,\n          0.0\n        ],\n        \"semantic_type\": \"\",\n        \"description\": \"\"\n      }\n    },\n    {\n      \"column\": \"onehotencoder__Tipo_de_Contrato_Month-to-month\",\n      \"properties\": {\n        \"dtype\": \"number\",\n        \"std\": 0.44721359549995804,\n        \"min\": 0.0,\n        \"max\": 1.0,\n        \"num_unique_values\": 2,\n        \"samples\": [\n          1.0,\n          0.0\n        ],\n        \"semantic_type\": \"\",\n        \"description\": \"\"\n      }\n    },\n    {\n      \"column\": \"onehotencoder__Tipo_de_Contrato_One year\",\n      \"properties\": {\n        \"dtype\": \"number\",\n        \"std\": 0.44721359549995804,\n        \"min\": 0.0,\n        \"max\": 1.0,\n        \"num_unique_values\": 2,\n        \"samples\": [\n          0.0,\n          1.0\n        ],\n        \"semantic_type\": \"\",\n        \"description\": \"\"\n      }\n    },\n    {\n      \"column\": \"onehotencoder__Tipo_de_Contrato_Two year\",\n      \"properties\": {\n        \"dtype\": \"number\",\n        \"std\": 0.0,\n        \"min\": 0.0,\n        \"max\": 0.0,\n        \"num_unique_values\": 1,\n        \"samples\": [\n          0.0\n        ],\n        \"semantic_type\": \"\",\n        \"description\": \"\"\n      }\n    },\n    {\n      \"column\": \"onehotencoder__Metodo_Pago_Bank transfer (automatic)\",\n      \"properties\": {\n        \"dtype\": \"number\",\n        \"std\": 0.0,\n        \"min\": 0.0,\n        \"max\": 0.0,\n        \"num_unique_values\": 1,\n        \"samples\": [\n          0.0\n        ],\n        \"semantic_type\": \"\",\n        \"description\": \"\"\n      }\n    },\n    {\n      \"column\": \"onehotencoder__Metodo_Pago_Credit card (automatic)\",\n      \"properties\": {\n        \"dtype\": \"number\",\n        \"std\": 0.0,\n        \"min\": 0.0,\n        \"max\": 0.0,\n        \"num_unique_values\": 1,\n        \"samples\": [\n          0.0\n        ],\n        \"semantic_type\": \"\",\n        \"description\": \"\"\n      }\n    },\n    {\n      \"column\": \"onehotencoder__Metodo_Pago_Electronic check\",\n      \"properties\": {\n        \"dtype\": \"number\",\n        \"std\": 0.5477225575051662,\n        \"min\": 0.0,\n        \"max\": 1.0,\n        \"num_unique_values\": 2,\n        \"samples\": [\n          1.0\n        ],\n        \"semantic_type\": \"\",\n        \"description\": \"\"\n      }\n    },\n    {\n      \"column\": \"onehotencoder__Metodo_Pago_Mailed check\",\n      \"properties\": {\n        \"dtype\": \"number\",\n        \"std\": 0.5477225575051662,\n        \"min\": 0.0,\n        \"max\": 1.0,\n        \"num_unique_values\": 2,\n        \"samples\": [\n          0.0\n        ],\n        \"semantic_type\": \"\",\n        \"description\": \"\"\n      }\n    },\n    {\n      \"column\": \"remainder__Meses_Contratados\",\n      \"properties\": {\n        \"dtype\": \"number\",\n        \"std\": 4.09878030638384,\n        \"min\": 3.0,\n        \"max\": 13.0,\n        \"num_unique_values\": 4,\n        \"samples\": [\n          4.0\n        ],\n        \"semantic_type\": \"\",\n        \"description\": \"\"\n      }\n    },\n    {\n      \"column\": \"remainder__Cobro_Mensual\",\n      \"properties\": {\n        \"dtype\": \"number\",\n        \"std\": 15.148036176349727,\n        \"min\": 59.9,\n        \"max\": 98.0,\n        \"num_unique_values\": 5,\n        \"samples\": [\n          59.9\n        ],\n        \"semantic_type\": \"\",\n        \"description\": \"\"\n      }\n    },\n    {\n      \"column\": \"remainder__Gasto_Total\",\n      \"properties\": {\n        \"dtype\": \"number\",\n        \"std\": 394.1673841783462,\n        \"min\": 267.4,\n        \"max\": 1237.85,\n        \"num_unique_values\": 5,\n        \"samples\": [\n          542.4\n        ],\n        \"semantic_type\": \"\",\n        \"description\": \"\"\n      }\n    }\n  ]\n}"
            }
          },
          "metadata": {},
          "execution_count": 662
        }
      ]
    },
    {
      "cell_type": "code",
      "source": [
        "pd.DataFrame(X, columns=one_hot.get_feature_names_out(columnas)).info()"
      ],
      "metadata": {
        "id": "LOurlpmTA5jm",
        "outputId": "55003ed6-11ac-4fdc-845b-67462e495593",
        "colab": {
          "base_uri": "https://localhost:8080/"
        }
      },
      "execution_count": 663,
      "outputs": [
        {
          "output_type": "stream",
          "name": "stdout",
          "text": [
            "<class 'pandas.core.frame.DataFrame'>\n",
            "RangeIndex: 7162 entries, 0 to 7161\n",
            "Data columns (total 12 columns):\n",
            " #   Column                                                Non-Null Count  Dtype  \n",
            "---  ------                                                --------------  -----  \n",
            " 0   onehotencoder__Tiene_Dependientes_Si                  7162 non-null   float64\n",
            " 1   onehotencoder__Mayor_de_65_años_Si                    7162 non-null   float64\n",
            " 2   onehotencoder__Tipo_de_Contrato_Month-to-month        7162 non-null   float64\n",
            " 3   onehotencoder__Tipo_de_Contrato_One year              7162 non-null   float64\n",
            " 4   onehotencoder__Tipo_de_Contrato_Two year              7162 non-null   float64\n",
            " 5   onehotencoder__Metodo_Pago_Bank transfer (automatic)  7162 non-null   float64\n",
            " 6   onehotencoder__Metodo_Pago_Credit card (automatic)    7162 non-null   float64\n",
            " 7   onehotencoder__Metodo_Pago_Electronic check           7162 non-null   float64\n",
            " 8   onehotencoder__Metodo_Pago_Mailed check               7162 non-null   float64\n",
            " 9   remainder__Meses_Contratados                          7162 non-null   float64\n",
            " 10  remainder__Cobro_Mensual                              7162 non-null   float64\n",
            " 11  remainder__Gasto_Total                                7162 non-null   float64\n",
            "dtypes: float64(12)\n",
            "memory usage: 671.6 KB\n"
          ]
        }
      ]
    },
    {
      "cell_type": "markdown",
      "source": [
        "###Transformacion de las variable respuesta"
      ],
      "metadata": {
        "id": "mmI1G0uqw_bJ"
      }
    },
    {
      "cell_type": "code",
      "source": [
        "from sklearn.preprocessing import LabelEncoder"
      ],
      "metadata": {
        "id": "G9XYHrK71fa6"
      },
      "execution_count": 664,
      "outputs": []
    },
    {
      "cell_type": "code",
      "source": [
        "label_encoder = LabelEncoder()"
      ],
      "metadata": {
        "id": "l3GVK1ruxBdt"
      },
      "execution_count": 665,
      "outputs": []
    },
    {
      "cell_type": "code",
      "source": [
        "y = label_encoder.fit_transform(y)"
      ],
      "metadata": {
        "id": "VaOQR65O0Ly9"
      },
      "execution_count": 666,
      "outputs": []
    },
    {
      "cell_type": "code",
      "source": [
        "y"
      ],
      "metadata": {
        "id": "9LzhrPsWBaec",
        "outputId": "c8e2f315-6857-4393-b90b-a5aa49afd8a5",
        "colab": {
          "base_uri": "https://localhost:8080/"
        }
      },
      "execution_count": 667,
      "outputs": [
        {
          "output_type": "execute_result",
          "data": {
            "text/plain": [
              "array([0, 0, 1, ..., 0, 0, 0])"
            ]
          },
          "metadata": {},
          "execution_count": 667
        }
      ]
    },
    {
      "cell_type": "code",
      "source": [
        "type(y)"
      ],
      "metadata": {
        "id": "RKxXkcwF2BUu",
        "outputId": "081a87bb-dd7b-4b7d-fb1d-36ec43b1783c",
        "colab": {
          "base_uri": "https://localhost:8080/"
        }
      },
      "execution_count": 668,
      "outputs": [
        {
          "output_type": "execute_result",
          "data": {
            "text/plain": [
              "numpy.ndarray"
            ]
          },
          "metadata": {},
          "execution_count": 668
        }
      ]
    },
    {
      "cell_type": "markdown",
      "source": [
        "## 4° Paso: *Verificación de la Proporción de Cancelación (Churn)*\n",
        "\n",
        "Calcula la proporción de clientes que cancelaron en relación con los que permanecieron activos. Evalúa si existe un desbalance entre las clases, ya que esto puede impactar en los modelos predictivos y en el análisis de los resultados."
      ],
      "metadata": {
        "id": "iqh1Kfm0FmrH"
      }
    },
    {
      "cell_type": "markdown",
      "source": [
        "#### Proporciones de cancelacion sin tratar"
      ],
      "metadata": {
        "id": "_maL83sViOq9"
      }
    },
    {
      "cell_type": "code",
      "source": [
        "import plotly.express as px\n",
        "px.histogram(df, x='Cliente_cancelado', title='Distribución de Cancelación (Churn)',text_auto=True, color=\"Cliente_cancelado\")"
      ],
      "metadata": {
        "id": "VPScDQmbFx9C",
        "outputId": "ff9e1b79-687f-45b0-b1b5-fedfe9e086eb",
        "colab": {
          "base_uri": "https://localhost:8080/",
          "height": 542
        }
      },
      "execution_count": 669,
      "outputs": [
        {
          "output_type": "display_data",
          "data": {
            "text/html": [
              "<html>\n",
              "<head><meta charset=\"utf-8\" /></head>\n",
              "<body>\n",
              "    <div>            <script src=\"https://cdnjs.cloudflare.com/ajax/libs/mathjax/2.7.5/MathJax.js?config=TeX-AMS-MML_SVG\"></script><script type=\"text/javascript\">if (window.MathJax && window.MathJax.Hub && window.MathJax.Hub.Config) {window.MathJax.Hub.Config({SVG: {font: \"STIX-Web\"}});}</script>                <script type=\"text/javascript\">window.PlotlyConfig = {MathJaxConfig: 'local'};</script>\n",
              "        <script charset=\"utf-8\" src=\"https://cdn.plot.ly/plotly-2.35.2.min.js\"></script>                <div id=\"1b1a9e9e-947b-46e2-beef-009a45bb6260\" class=\"plotly-graph-div\" style=\"height:525px; width:100%;\"></div>            <script type=\"text/javascript\">                                    window.PLOTLYENV=window.PLOTLYENV || {};                                    if (document.getElementById(\"1b1a9e9e-947b-46e2-beef-009a45bb6260\")) {                    Plotly.newPlot(                        \"1b1a9e9e-947b-46e2-beef-009a45bb6260\",                        [{\"alignmentgroup\":\"True\",\"bingroup\":\"x\",\"hovertemplate\":\"Cliente_cancelado=%{x}\\u003cbr\\u003ecount=%{y}\\u003cextra\\u003e\\u003c\\u002fextra\\u003e\",\"legendgroup\":\"No\",\"marker\":{\"color\":\"#636efa\",\"pattern\":{\"shape\":\"\"}},\"name\":\"No\",\"offsetgroup\":\"No\",\"orientation\":\"v\",\"showlegend\":true,\"texttemplate\":\"%{value}\",\"x\":[\"No\",\"No\",\"No\",\"No\",\"No\",\"No\",\"No\",\"No\",\"No\",\"No\",\"No\",\"No\",\"No\",\"No\",\"No\",\"No\",\"No\",\"No\",\"No\",\"No\",\"No\",\"No\",\"No\",\"No\",\"No\",\"No\",\"No\",\"No\",\"No\",\"No\",\"No\",\"No\",\"No\",\"No\",\"No\",\"No\",\"No\",\"No\",\"No\",\"No\",\"No\",\"No\",\"No\",\"No\",\"No\",\"No\",\"No\",\"No\",\"No\",\"No\",\"No\",\"No\",\"No\",\"No\",\"No\",\"No\",\"No\",\"No\",\"No\",\"No\",\"No\",\"No\",\"No\",\"No\",\"No\",\"No\",\"No\",\"No\",\"No\",\"No\",\"No\",\"No\",\"No\",\"No\",\"No\",\"No\",\"No\",\"No\",\"No\",\"No\",\"No\",\"No\",\"No\",\"No\",\"No\",\"No\",\"No\",\"No\",\"No\",\"No\",\"No\",\"No\",\"No\",\"No\",\"No\",\"No\",\"No\",\"No\",\"No\",\"No\",\"No\",\"No\",\"No\",\"No\",\"No\",\"No\",\"No\",\"No\",\"No\",\"No\",\"No\",\"No\",\"No\",\"No\",\"No\",\"No\",\"No\",\"No\",\"No\",\"No\",\"No\",\"No\",\"No\",\"No\",\"No\",\"No\",\"No\",\"No\",\"No\",\"No\",\"No\",\"No\",\"No\",\"No\",\"No\",\"No\",\"No\",\"No\",\"No\",\"No\",\"No\",\"No\",\"No\",\"No\",\"No\",\"No\",\"No\",\"No\",\"No\",\"No\",\"No\",\"No\",\"No\",\"No\",\"No\",\"No\",\"No\",\"No\",\"No\",\"No\",\"No\",\"No\",\"No\",\"No\",\"No\",\"No\",\"No\",\"No\",\"No\",\"No\",\"No\",\"No\",\"No\",\"No\",\"No\",\"No\",\"No\",\"No\",\"No\",\"No\",\"No\",\"No\",\"No\",\"No\",\"No\",\"No\",\"No\",\"No\",\"No\",\"No\",\"No\",\"No\",\"No\",\"No\",\"No\",\"No\",\"No\",\"No\",\"No\",\"No\",\"No\",\"No\",\"No\",\"No\",\"No\",\"No\",\"No\",\"No\",\"No\",\"No\",\"No\",\"No\",\"No\",\"No\",\"No\",\"No\",\"No\",\"No\",\"No\",\"No\",\"No\",\"No\",\"No\",\"No\",\"No\",\"No\",\"No\",\"No\",\"No\",\"No\",\"No\",\"No\",\"No\",\"No\",\"No\",\"No\",\"No\",\"No\",\"No\",\"No\",\"No\",\"No\",\"No\",\"No\",\"No\",\"No\",\"No\",\"No\",\"No\",\"No\",\"No\",\"No\",\"No\",\"No\",\"No\",\"No\",\"No\",\"No\",\"No\",\"No\",\"No\",\"No\",\"No\",\"No\",\"No\",\"No\",\"No\",\"No\",\"No\",\"No\",\"No\",\"No\",\"No\",\"No\",\"No\",\"No\",\"No\",\"No\",\"No\",\"No\",\"No\",\"No\",\"No\",\"No\",\"No\",\"No\",\"No\",\"No\",\"No\",\"No\",\"No\",\"No\",\"No\",\"No\",\"No\",\"No\",\"No\",\"No\",\"No\",\"No\",\"No\",\"No\",\"No\",\"No\",\"No\",\"No\",\"No\",\"No\",\"No\",\"No\",\"No\",\"No\",\"No\",\"No\",\"No\",\"No\",\"No\",\"No\",\"No\",\"No\",\"No\",\"No\",\"No\",\"No\",\"No\",\"No\",\"No\",\"No\",\"No\",\"No\",\"No\",\"No\",\"No\",\"No\",\"No\",\"No\",\"No\",\"No\",\"No\",\"No\",\"No\",\"No\",\"No\",\"No\",\"No\",\"No\",\"No\",\"No\",\"No\",\"No\",\"No\",\"No\",\"No\",\"No\",\"No\",\"No\",\"No\",\"No\",\"No\",\"No\",\"No\",\"No\",\"No\",\"No\",\"No\",\"No\",\"No\",\"No\",\"No\",\"No\",\"No\",\"No\",\"No\",\"No\",\"No\",\"No\",\"No\",\"No\",\"No\",\"No\",\"No\",\"No\",\"No\",\"No\",\"No\",\"No\",\"No\",\"No\",\"No\",\"No\",\"No\",\"No\",\"No\",\"No\",\"No\",\"No\",\"No\",\"No\",\"No\",\"No\",\"No\",\"No\",\"No\",\"No\",\"No\",\"No\",\"No\",\"No\",\"No\",\"No\",\"No\",\"No\",\"No\",\"No\",\"No\",\"No\",\"No\",\"No\",\"No\",\"No\",\"No\",\"No\",\"No\",\"No\",\"No\",\"No\",\"No\",\"No\",\"No\",\"No\",\"No\",\"No\",\"No\",\"No\",\"No\",\"No\",\"No\",\"No\",\"No\",\"No\",\"No\",\"No\",\"No\",\"No\",\"No\",\"No\",\"No\",\"No\",\"No\",\"No\",\"No\",\"No\",\"No\",\"No\",\"No\",\"No\",\"No\",\"No\",\"No\",\"No\",\"No\",\"No\",\"No\",\"No\",\"No\",\"No\",\"No\",\"No\",\"No\",\"No\",\"No\",\"No\",\"No\",\"No\",\"No\",\"No\",\"No\",\"No\",\"No\",\"No\",\"No\",\"No\",\"No\",\"No\",\"No\",\"No\",\"No\",\"No\",\"No\",\"No\",\"No\",\"No\",\"No\",\"No\",\"No\",\"No\",\"No\",\"No\",\"No\",\"No\",\"No\",\"No\",\"No\",\"No\",\"No\",\"No\",\"No\",\"No\",\"No\",\"No\",\"No\",\"No\",\"No\",\"No\",\"No\",\"No\",\"No\",\"No\",\"No\",\"No\",\"No\",\"No\",\"No\",\"No\",\"No\",\"No\",\"No\",\"No\",\"No\",\"No\",\"No\",\"No\",\"No\",\"No\",\"No\",\"No\",\"No\",\"No\",\"No\",\"No\",\"No\",\"No\",\"No\",\"No\",\"No\",\"No\",\"No\",\"No\",\"No\",\"No\",\"No\",\"No\",\"No\",\"No\",\"No\",\"No\",\"No\",\"No\",\"No\",\"No\",\"No\",\"No\",\"No\",\"No\",\"No\",\"No\",\"No\",\"No\",\"No\",\"No\",\"No\",\"No\",\"No\",\"No\",\"No\",\"No\",\"No\",\"No\",\"No\",\"No\",\"No\",\"No\",\"No\",\"No\",\"No\",\"No\",\"No\",\"No\",\"No\",\"No\",\"No\",\"No\",\"No\",\"No\",\"No\",\"No\",\"No\",\"No\",\"No\",\"No\",\"No\",\"No\",\"No\",\"No\",\"No\",\"No\",\"No\",\"No\",\"No\",\"No\",\"No\",\"No\",\"No\",\"No\",\"No\",\"No\",\"No\",\"No\",\"No\",\"No\",\"No\",\"No\",\"No\",\"No\",\"No\",\"No\",\"No\",\"No\",\"No\",\"No\",\"No\",\"No\",\"No\",\"No\",\"No\",\"No\",\"No\",\"No\",\"No\",\"No\",\"No\",\"No\",\"No\",\"No\",\"No\",\"No\",\"No\",\"No\",\"No\",\"No\",\"No\",\"No\",\"No\",\"No\",\"No\",\"No\",\"No\",\"No\",\"No\",\"No\",\"No\",\"No\",\"No\",\"No\",\"No\",\"No\",\"No\",\"No\",\"No\",\"No\",\"No\",\"No\",\"No\",\"No\",\"No\",\"No\",\"No\",\"No\",\"No\",\"No\",\"No\",\"No\",\"No\",\"No\",\"No\",\"No\",\"No\",\"No\",\"No\",\"No\",\"No\",\"No\",\"No\",\"No\",\"No\",\"No\",\"No\",\"No\",\"No\",\"No\",\"No\",\"No\",\"No\",\"No\",\"No\",\"No\",\"No\",\"No\",\"No\",\"No\",\"No\",\"No\",\"No\",\"No\",\"No\",\"No\",\"No\",\"No\",\"No\",\"No\",\"No\",\"No\",\"No\",\"No\",\"No\",\"No\",\"No\",\"No\",\"No\",\"No\",\"No\",\"No\",\"No\",\"No\",\"No\",\"No\",\"No\",\"No\",\"No\",\"No\",\"No\",\"No\",\"No\",\"No\",\"No\",\"No\",\"No\",\"No\",\"No\",\"No\",\"No\",\"No\",\"No\",\"No\",\"No\",\"No\",\"No\",\"No\",\"No\",\"No\",\"No\",\"No\",\"No\",\"No\",\"No\",\"No\",\"No\",\"No\",\"No\",\"No\",\"No\",\"No\",\"No\",\"No\",\"No\",\"No\",\"No\",\"No\",\"No\",\"No\",\"No\",\"No\",\"No\",\"No\",\"No\",\"No\",\"No\",\"No\",\"No\",\"No\",\"No\",\"No\",\"No\",\"No\",\"No\",\"No\",\"No\",\"No\",\"No\",\"No\",\"No\",\"No\",\"No\",\"No\",\"No\",\"No\",\"No\",\"No\",\"No\",\"No\",\"No\",\"No\",\"No\",\"No\",\"No\",\"No\",\"No\",\"No\",\"No\",\"No\",\"No\",\"No\",\"No\",\"No\",\"No\",\"No\",\"No\",\"No\",\"No\",\"No\",\"No\",\"No\",\"No\",\"No\",\"No\",\"No\",\"No\",\"No\",\"No\",\"No\",\"No\",\"No\",\"No\",\"No\",\"No\",\"No\",\"No\",\"No\",\"No\",\"No\",\"No\",\"No\",\"No\",\"No\",\"No\",\"No\",\"No\",\"No\",\"No\",\"No\",\"No\",\"No\",\"No\",\"No\",\"No\",\"No\",\"No\",\"No\",\"No\",\"No\",\"No\",\"No\",\"No\",\"No\",\"No\",\"No\",\"No\",\"No\",\"No\",\"No\",\"No\",\"No\",\"No\",\"No\",\"No\",\"No\",\"No\",\"No\",\"No\",\"No\",\"No\",\"No\",\"No\",\"No\",\"No\",\"No\",\"No\",\"No\",\"No\",\"No\",\"No\",\"No\",\"No\",\"No\",\"No\",\"No\",\"No\",\"No\",\"No\",\"No\",\"No\",\"No\",\"No\",\"No\",\"No\",\"No\",\"No\",\"No\",\"No\",\"No\",\"No\",\"No\",\"No\",\"No\",\"No\",\"No\",\"No\",\"No\",\"No\",\"No\",\"No\",\"No\",\"No\",\"No\",\"No\",\"No\",\"No\",\"No\",\"No\",\"No\",\"No\",\"No\",\"No\",\"No\",\"No\",\"No\",\"No\",\"No\",\"No\",\"No\",\"No\",\"No\",\"No\",\"No\",\"No\",\"No\",\"No\",\"No\",\"No\",\"No\",\"No\",\"No\",\"No\",\"No\",\"No\",\"No\",\"No\",\"No\",\"No\",\"No\",\"No\",\"No\",\"No\",\"No\",\"No\",\"No\",\"No\",\"No\",\"No\",\"No\",\"No\",\"No\",\"No\",\"No\",\"No\",\"No\",\"No\",\"No\",\"No\",\"No\",\"No\",\"No\",\"No\",\"No\",\"No\",\"No\",\"No\",\"No\",\"No\",\"No\",\"No\",\"No\",\"No\",\"No\",\"No\",\"No\",\"No\",\"No\",\"No\",\"No\",\"No\",\"No\",\"No\",\"No\",\"No\",\"No\",\"No\",\"No\",\"No\",\"No\",\"No\",\"No\",\"No\",\"No\",\"No\",\"No\",\"No\",\"No\",\"No\",\"No\",\"No\",\"No\",\"No\",\"No\",\"No\",\"No\",\"No\",\"No\",\"No\",\"No\",\"No\",\"No\",\"No\",\"No\",\"No\",\"No\",\"No\",\"No\",\"No\",\"No\",\"No\",\"No\",\"No\",\"No\",\"No\",\"No\",\"No\",\"No\",\"No\",\"No\",\"No\",\"No\",\"No\",\"No\",\"No\",\"No\",\"No\",\"No\",\"No\",\"No\",\"No\",\"No\",\"No\",\"No\",\"No\",\"No\",\"No\",\"No\",\"No\",\"No\",\"No\",\"No\",\"No\",\"No\",\"No\",\"No\",\"No\",\"No\",\"No\",\"No\",\"No\",\"No\",\"No\",\"No\",\"No\",\"No\",\"No\",\"No\",\"No\",\"No\",\"No\",\"No\",\"No\",\"No\",\"No\",\"No\",\"No\",\"No\",\"No\",\"No\",\"No\",\"No\",\"No\",\"No\",\"No\",\"No\",\"No\",\"No\",\"No\",\"No\",\"No\",\"No\",\"No\",\"No\",\"No\",\"No\",\"No\",\"No\",\"No\",\"No\",\"No\",\"No\",\"No\",\"No\",\"No\",\"No\",\"No\",\"No\",\"No\",\"No\",\"No\",\"No\",\"No\",\"No\",\"No\",\"No\",\"No\",\"No\",\"No\",\"No\",\"No\",\"No\",\"No\",\"No\",\"No\",\"No\",\"No\",\"No\",\"No\",\"No\",\"No\",\"No\",\"No\",\"No\",\"No\",\"No\",\"No\",\"No\",\"No\",\"No\",\"No\",\"No\",\"No\",\"No\",\"No\",\"No\",\"No\",\"No\",\"No\",\"No\",\"No\",\"No\",\"No\",\"No\",\"No\",\"No\",\"No\",\"No\",\"No\",\"No\",\"No\",\"No\",\"No\",\"No\",\"No\",\"No\",\"No\",\"No\",\"No\",\"No\",\"No\",\"No\",\"No\",\"No\",\"No\",\"No\",\"No\",\"No\",\"No\",\"No\",\"No\",\"No\",\"No\",\"No\",\"No\",\"No\",\"No\",\"No\",\"No\",\"No\",\"No\",\"No\",\"No\",\"No\",\"No\",\"No\",\"No\",\"No\",\"No\",\"No\",\"No\",\"No\",\"No\",\"No\",\"No\",\"No\",\"No\",\"No\",\"No\",\"No\",\"No\",\"No\",\"No\",\"No\",\"No\",\"No\",\"No\",\"No\",\"No\",\"No\",\"No\",\"No\",\"No\",\"No\",\"No\",\"No\",\"No\",\"No\",\"No\",\"No\",\"No\",\"No\",\"No\",\"No\",\"No\",\"No\",\"No\",\"No\",\"No\",\"No\",\"No\",\"No\",\"No\",\"No\",\"No\",\"No\",\"No\",\"No\",\"No\",\"No\",\"No\",\"No\",\"No\",\"No\",\"No\",\"No\",\"No\",\"No\",\"No\",\"No\",\"No\",\"No\",\"No\",\"No\",\"No\",\"No\",\"No\",\"No\",\"No\",\"No\",\"No\",\"No\",\"No\",\"No\",\"No\",\"No\",\"No\",\"No\",\"No\",\"No\",\"No\",\"No\",\"No\",\"No\",\"No\",\"No\",\"No\",\"No\",\"No\",\"No\",\"No\",\"No\",\"No\",\"No\",\"No\",\"No\",\"No\",\"No\",\"No\",\"No\",\"No\",\"No\",\"No\",\"No\",\"No\",\"No\",\"No\",\"No\",\"No\",\"No\",\"No\",\"No\",\"No\",\"No\",\"No\",\"No\",\"No\",\"No\",\"No\",\"No\",\"No\",\"No\",\"No\",\"No\",\"No\",\"No\",\"No\",\"No\",\"No\",\"No\",\"No\",\"No\",\"No\",\"No\",\"No\",\"No\",\"No\",\"No\",\"No\",\"No\",\"No\",\"No\",\"No\",\"No\",\"No\",\"No\",\"No\",\"No\",\"No\",\"No\",\"No\",\"No\",\"No\",\"No\",\"No\",\"No\",\"No\",\"No\",\"No\",\"No\",\"No\",\"No\",\"No\",\"No\",\"No\",\"No\",\"No\",\"No\",\"No\",\"No\",\"No\",\"No\",\"No\",\"No\",\"No\",\"No\",\"No\",\"No\",\"No\",\"No\",\"No\",\"No\",\"No\",\"No\",\"No\",\"No\",\"No\",\"No\",\"No\",\"No\",\"No\",\"No\",\"No\",\"No\",\"No\",\"No\",\"No\",\"No\",\"No\",\"No\",\"No\",\"No\",\"No\",\"No\",\"No\",\"No\",\"No\",\"No\",\"No\",\"No\",\"No\",\"No\",\"No\",\"No\",\"No\",\"No\",\"No\",\"No\",\"No\",\"No\",\"No\",\"No\",\"No\",\"No\",\"No\",\"No\",\"No\",\"No\",\"No\",\"No\",\"No\",\"No\",\"No\",\"No\",\"No\",\"No\",\"No\",\"No\",\"No\",\"No\",\"No\",\"No\",\"No\",\"No\",\"No\",\"No\",\"No\",\"No\",\"No\",\"No\",\"No\",\"No\",\"No\",\"No\",\"No\",\"No\",\"No\",\"No\",\"No\",\"No\",\"No\",\"No\",\"No\",\"No\",\"No\",\"No\",\"No\",\"No\",\"No\",\"No\",\"No\",\"No\",\"No\",\"No\",\"No\",\"No\",\"No\",\"No\",\"No\",\"No\",\"No\",\"No\",\"No\",\"No\",\"No\",\"No\",\"No\",\"No\",\"No\",\"No\",\"No\",\"No\",\"No\",\"No\",\"No\",\"No\",\"No\",\"No\",\"No\",\"No\",\"No\",\"No\",\"No\",\"No\",\"No\",\"No\",\"No\",\"No\",\"No\",\"No\",\"No\",\"No\",\"No\",\"No\",\"No\",\"No\",\"No\",\"No\",\"No\",\"No\",\"No\",\"No\",\"No\",\"No\",\"No\",\"No\",\"No\",\"No\",\"No\",\"No\",\"No\",\"No\",\"No\",\"No\",\"No\",\"No\",\"No\",\"No\",\"No\",\"No\",\"No\",\"No\",\"No\",\"No\",\"No\",\"No\",\"No\",\"No\",\"No\",\"No\",\"No\",\"No\",\"No\",\"No\",\"No\",\"No\",\"No\",\"No\",\"No\",\"No\",\"No\",\"No\",\"No\",\"No\",\"No\",\"No\",\"No\",\"No\",\"No\",\"No\",\"No\",\"No\",\"No\",\"No\",\"No\",\"No\",\"No\",\"No\",\"No\",\"No\",\"No\",\"No\",\"No\",\"No\",\"No\",\"No\",\"No\",\"No\",\"No\",\"No\",\"No\",\"No\",\"No\",\"No\",\"No\",\"No\",\"No\",\"No\",\"No\",\"No\",\"No\",\"No\",\"No\",\"No\",\"No\",\"No\",\"No\",\"No\",\"No\",\"No\",\"No\",\"No\",\"No\",\"No\",\"No\",\"No\",\"No\",\"No\",\"No\",\"No\",\"No\",\"No\",\"No\",\"No\",\"No\",\"No\",\"No\",\"No\",\"No\",\"No\",\"No\",\"No\",\"No\",\"No\",\"No\",\"No\",\"No\",\"No\",\"No\",\"No\",\"No\",\"No\",\"No\",\"No\",\"No\",\"No\",\"No\",\"No\",\"No\",\"No\",\"No\",\"No\",\"No\",\"No\",\"No\",\"No\",\"No\",\"No\",\"No\",\"No\",\"No\",\"No\",\"No\",\"No\",\"No\",\"No\",\"No\",\"No\",\"No\",\"No\",\"No\",\"No\",\"No\",\"No\",\"No\",\"No\",\"No\",\"No\",\"No\",\"No\",\"No\",\"No\",\"No\",\"No\",\"No\",\"No\",\"No\",\"No\",\"No\",\"No\",\"No\",\"No\",\"No\",\"No\",\"No\",\"No\",\"No\",\"No\",\"No\",\"No\",\"No\",\"No\",\"No\",\"No\",\"No\",\"No\",\"No\",\"No\",\"No\",\"No\",\"No\",\"No\",\"No\",\"No\",\"No\",\"No\",\"No\",\"No\",\"No\",\"No\",\"No\",\"No\",\"No\",\"No\",\"No\",\"No\",\"No\",\"No\",\"No\",\"No\",\"No\",\"No\",\"No\",\"No\",\"No\",\"No\",\"No\",\"No\",\"No\",\"No\",\"No\",\"No\",\"No\",\"No\",\"No\",\"No\",\"No\",\"No\",\"No\",\"No\",\"No\",\"No\",\"No\",\"No\",\"No\",\"No\",\"No\",\"No\",\"No\",\"No\",\"No\",\"No\",\"No\",\"No\",\"No\",\"No\",\"No\",\"No\",\"No\",\"No\",\"No\",\"No\",\"No\",\"No\",\"No\",\"No\",\"No\",\"No\",\"No\",\"No\",\"No\",\"No\",\"No\",\"No\",\"No\",\"No\",\"No\",\"No\",\"No\",\"No\",\"No\",\"No\",\"No\",\"No\",\"No\",\"No\",\"No\",\"No\",\"No\",\"No\",\"No\",\"No\",\"No\",\"No\",\"No\",\"No\",\"No\",\"No\",\"No\",\"No\",\"No\",\"No\",\"No\",\"No\",\"No\",\"No\",\"No\",\"No\",\"No\",\"No\",\"No\",\"No\",\"No\",\"No\",\"No\",\"No\",\"No\",\"No\",\"No\",\"No\",\"No\",\"No\",\"No\",\"No\",\"No\",\"No\",\"No\",\"No\",\"No\",\"No\",\"No\",\"No\",\"No\",\"No\",\"No\",\"No\",\"No\",\"No\",\"No\",\"No\",\"No\",\"No\",\"No\",\"No\",\"No\",\"No\",\"No\",\"No\",\"No\",\"No\",\"No\",\"No\",\"No\",\"No\",\"No\",\"No\",\"No\",\"No\",\"No\",\"No\",\"No\",\"No\",\"No\",\"No\",\"No\",\"No\",\"No\",\"No\",\"No\",\"No\",\"No\",\"No\",\"No\",\"No\",\"No\",\"No\",\"No\",\"No\",\"No\",\"No\",\"No\",\"No\",\"No\",\"No\",\"No\",\"No\",\"No\",\"No\",\"No\",\"No\",\"No\",\"No\",\"No\",\"No\",\"No\",\"No\",\"No\",\"No\",\"No\",\"No\",\"No\",\"No\",\"No\",\"No\",\"No\",\"No\",\"No\",\"No\",\"No\",\"No\",\"No\",\"No\",\"No\",\"No\",\"No\",\"No\",\"No\",\"No\",\"No\",\"No\",\"No\",\"No\",\"No\",\"No\",\"No\",\"No\",\"No\",\"No\",\"No\",\"No\",\"No\",\"No\",\"No\",\"No\",\"No\",\"No\",\"No\",\"No\",\"No\",\"No\",\"No\",\"No\",\"No\",\"No\",\"No\",\"No\",\"No\",\"No\",\"No\",\"No\",\"No\",\"No\",\"No\",\"No\",\"No\",\"No\",\"No\",\"No\",\"No\",\"No\",\"No\",\"No\",\"No\",\"No\",\"No\",\"No\",\"No\",\"No\",\"No\",\"No\",\"No\",\"No\",\"No\",\"No\",\"No\",\"No\",\"No\",\"No\",\"No\",\"No\",\"No\",\"No\",\"No\",\"No\",\"No\",\"No\",\"No\",\"No\",\"No\",\"No\",\"No\",\"No\",\"No\",\"No\",\"No\",\"No\",\"No\",\"No\",\"No\",\"No\",\"No\",\"No\",\"No\",\"No\",\"No\",\"No\",\"No\",\"No\",\"No\",\"No\",\"No\",\"No\",\"No\",\"No\",\"No\",\"No\",\"No\",\"No\",\"No\",\"No\",\"No\",\"No\",\"No\",\"No\",\"No\",\"No\",\"No\",\"No\",\"No\",\"No\",\"No\",\"No\",\"No\",\"No\",\"No\",\"No\",\"No\",\"No\",\"No\",\"No\",\"No\",\"No\",\"No\",\"No\",\"No\",\"No\",\"No\",\"No\",\"No\",\"No\",\"No\",\"No\",\"No\",\"No\",\"No\",\"No\",\"No\",\"No\",\"No\",\"No\",\"No\",\"No\",\"No\",\"No\",\"No\",\"No\",\"No\",\"No\",\"No\",\"No\",\"No\",\"No\",\"No\",\"No\",\"No\",\"No\",\"No\",\"No\",\"No\",\"No\",\"No\",\"No\",\"No\",\"No\",\"No\",\"No\",\"No\",\"No\",\"No\",\"No\",\"No\",\"No\",\"No\",\"No\",\"No\",\"No\",\"No\",\"No\",\"No\",\"No\",\"No\",\"No\",\"No\",\"No\",\"No\",\"No\",\"No\",\"No\",\"No\",\"No\",\"No\",\"No\",\"No\",\"No\",\"No\",\"No\",\"No\",\"No\",\"No\",\"No\",\"No\",\"No\",\"No\",\"No\",\"No\",\"No\",\"No\",\"No\",\"No\",\"No\",\"No\",\"No\",\"No\",\"No\",\"No\",\"No\",\"No\",\"No\",\"No\",\"No\",\"No\",\"No\",\"No\",\"No\",\"No\",\"No\",\"No\",\"No\",\"No\",\"No\",\"No\",\"No\",\"No\",\"No\",\"No\",\"No\",\"No\",\"No\",\"No\",\"No\",\"No\",\"No\",\"No\",\"No\",\"No\",\"No\",\"No\",\"No\",\"No\",\"No\",\"No\",\"No\",\"No\",\"No\",\"No\",\"No\",\"No\",\"No\",\"No\",\"No\",\"No\",\"No\",\"No\",\"No\",\"No\",\"No\",\"No\",\"No\",\"No\",\"No\",\"No\",\"No\",\"No\",\"No\",\"No\",\"No\",\"No\",\"No\",\"No\",\"No\",\"No\",\"No\",\"No\",\"No\",\"No\",\"No\",\"No\",\"No\",\"No\",\"No\",\"No\",\"No\",\"No\",\"No\",\"No\",\"No\",\"No\",\"No\",\"No\",\"No\",\"No\",\"No\",\"No\",\"No\",\"No\",\"No\",\"No\",\"No\",\"No\",\"No\",\"No\",\"No\",\"No\",\"No\",\"No\",\"No\",\"No\",\"No\",\"No\",\"No\",\"No\",\"No\",\"No\",\"No\",\"No\",\"No\",\"No\",\"No\",\"No\",\"No\",\"No\",\"No\",\"No\",\"No\",\"No\",\"No\",\"No\",\"No\",\"No\",\"No\",\"No\",\"No\",\"No\",\"No\",\"No\",\"No\",\"No\",\"No\",\"No\",\"No\",\"No\",\"No\",\"No\",\"No\",\"No\",\"No\",\"No\",\"No\",\"No\",\"No\",\"No\",\"No\",\"No\",\"No\",\"No\",\"No\",\"No\",\"No\",\"No\",\"No\",\"No\",\"No\",\"No\",\"No\",\"No\",\"No\",\"No\",\"No\",\"No\",\"No\",\"No\",\"No\",\"No\",\"No\",\"No\",\"No\",\"No\",\"No\",\"No\",\"No\",\"No\",\"No\",\"No\",\"No\",\"No\",\"No\",\"No\",\"No\",\"No\",\"No\",\"No\",\"No\",\"No\",\"No\",\"No\",\"No\",\"No\",\"No\",\"No\",\"No\",\"No\",\"No\",\"No\",\"No\",\"No\",\"No\",\"No\",\"No\",\"No\",\"No\",\"No\",\"No\",\"No\",\"No\",\"No\",\"No\",\"No\",\"No\",\"No\",\"No\",\"No\",\"No\",\"No\",\"No\",\"No\",\"No\",\"No\",\"No\",\"No\",\"No\",\"No\",\"No\",\"No\",\"No\",\"No\",\"No\",\"No\",\"No\",\"No\",\"No\",\"No\",\"No\",\"No\",\"No\",\"No\",\"No\",\"No\",\"No\",\"No\",\"No\",\"No\",\"No\",\"No\",\"No\",\"No\",\"No\",\"No\",\"No\",\"No\",\"No\",\"No\",\"No\",\"No\",\"No\",\"No\",\"No\",\"No\",\"No\",\"No\",\"No\",\"No\",\"No\",\"No\",\"No\",\"No\",\"No\",\"No\",\"No\",\"No\",\"No\",\"No\",\"No\",\"No\",\"No\",\"No\",\"No\",\"No\",\"No\",\"No\",\"No\",\"No\",\"No\",\"No\",\"No\",\"No\",\"No\",\"No\",\"No\",\"No\",\"No\",\"No\",\"No\",\"No\",\"No\",\"No\",\"No\",\"No\",\"No\",\"No\",\"No\",\"No\",\"No\",\"No\",\"No\",\"No\",\"No\",\"No\",\"No\",\"No\",\"No\",\"No\",\"No\",\"No\",\"No\",\"No\",\"No\",\"No\",\"No\",\"No\",\"No\",\"No\",\"No\",\"No\",\"No\",\"No\",\"No\",\"No\",\"No\",\"No\",\"No\",\"No\",\"No\",\"No\",\"No\",\"No\",\"No\",\"No\",\"No\",\"No\",\"No\",\"No\",\"No\",\"No\",\"No\",\"No\",\"No\",\"No\",\"No\",\"No\",\"No\",\"No\",\"No\",\"No\",\"No\",\"No\",\"No\",\"No\",\"No\",\"No\",\"No\",\"No\",\"No\",\"No\",\"No\",\"No\",\"No\",\"No\",\"No\",\"No\",\"No\",\"No\",\"No\",\"No\",\"No\",\"No\",\"No\",\"No\",\"No\",\"No\",\"No\",\"No\",\"No\",\"No\",\"No\",\"No\",\"No\",\"No\",\"No\",\"No\",\"No\",\"No\",\"No\",\"No\",\"No\",\"No\",\"No\",\"No\",\"No\",\"No\",\"No\",\"No\",\"No\",\"No\",\"No\",\"No\",\"No\",\"No\",\"No\",\"No\",\"No\",\"No\",\"No\",\"No\",\"No\",\"No\",\"No\",\"No\",\"No\",\"No\",\"No\",\"No\",\"No\",\"No\",\"No\",\"No\",\"No\",\"No\",\"No\",\"No\",\"No\",\"No\",\"No\",\"No\",\"No\",\"No\",\"No\",\"No\",\"No\",\"No\",\"No\",\"No\",\"No\",\"No\",\"No\",\"No\",\"No\",\"No\",\"No\",\"No\",\"No\",\"No\",\"No\",\"No\",\"No\",\"No\",\"No\",\"No\",\"No\",\"No\",\"No\",\"No\",\"No\",\"No\",\"No\",\"No\",\"No\",\"No\",\"No\",\"No\",\"No\",\"No\",\"No\",\"No\",\"No\",\"No\",\"No\",\"No\",\"No\",\"No\",\"No\",\"No\",\"No\",\"No\",\"No\",\"No\",\"No\",\"No\",\"No\",\"No\",\"No\",\"No\",\"No\",\"No\",\"No\",\"No\",\"No\",\"No\",\"No\",\"No\",\"No\",\"No\",\"No\",\"No\",\"No\",\"No\",\"No\",\"No\",\"No\",\"No\",\"No\",\"No\",\"No\",\"No\",\"No\",\"No\",\"No\",\"No\",\"No\",\"No\",\"No\",\"No\",\"No\",\"No\",\"No\",\"No\",\"No\",\"No\",\"No\",\"No\",\"No\",\"No\",\"No\",\"No\",\"No\",\"No\",\"No\",\"No\",\"No\",\"No\",\"No\",\"No\",\"No\",\"No\",\"No\",\"No\",\"No\",\"No\",\"No\",\"No\",\"No\",\"No\",\"No\",\"No\",\"No\",\"No\",\"No\",\"No\",\"No\",\"No\",\"No\",\"No\",\"No\",\"No\",\"No\",\"No\",\"No\",\"No\",\"No\",\"No\",\"No\",\"No\",\"No\",\"No\",\"No\",\"No\",\"No\",\"No\",\"No\",\"No\",\"No\",\"No\",\"No\",\"No\",\"No\",\"No\",\"No\",\"No\",\"No\",\"No\",\"No\",\"No\",\"No\",\"No\",\"No\",\"No\",\"No\",\"No\",\"No\",\"No\",\"No\",\"No\",\"No\",\"No\",\"No\",\"No\",\"No\",\"No\",\"No\",\"No\",\"No\",\"No\",\"No\",\"No\",\"No\",\"No\",\"No\",\"No\",\"No\",\"No\",\"No\",\"No\",\"No\",\"No\",\"No\",\"No\",\"No\",\"No\",\"No\",\"No\",\"No\",\"No\",\"No\",\"No\",\"No\",\"No\",\"No\",\"No\",\"No\",\"No\",\"No\",\"No\",\"No\",\"No\",\"No\",\"No\",\"No\",\"No\",\"No\",\"No\",\"No\",\"No\",\"No\",\"No\",\"No\",\"No\",\"No\",\"No\",\"No\",\"No\",\"No\",\"No\",\"No\",\"No\",\"No\",\"No\",\"No\",\"No\",\"No\",\"No\",\"No\",\"No\",\"No\",\"No\",\"No\",\"No\",\"No\",\"No\",\"No\",\"No\",\"No\",\"No\",\"No\",\"No\",\"No\",\"No\",\"No\",\"No\",\"No\",\"No\",\"No\",\"No\",\"No\",\"No\",\"No\",\"No\",\"No\",\"No\",\"No\",\"No\",\"No\",\"No\",\"No\",\"No\",\"No\",\"No\",\"No\",\"No\",\"No\",\"No\",\"No\",\"No\",\"No\",\"No\",\"No\",\"No\",\"No\",\"No\",\"No\",\"No\",\"No\",\"No\",\"No\",\"No\",\"No\",\"No\",\"No\",\"No\",\"No\",\"No\",\"No\",\"No\",\"No\",\"No\",\"No\",\"No\",\"No\",\"No\",\"No\",\"No\",\"No\",\"No\",\"No\",\"No\",\"No\",\"No\",\"No\",\"No\",\"No\",\"No\",\"No\",\"No\",\"No\",\"No\",\"No\",\"No\",\"No\",\"No\",\"No\",\"No\",\"No\",\"No\",\"No\",\"No\",\"No\",\"No\",\"No\",\"No\",\"No\",\"No\",\"No\",\"No\",\"No\",\"No\",\"No\",\"No\",\"No\",\"No\",\"No\",\"No\",\"No\",\"No\",\"No\",\"No\",\"No\",\"No\",\"No\",\"No\",\"No\",\"No\",\"No\",\"No\",\"No\",\"No\",\"No\",\"No\",\"No\",\"No\",\"No\",\"No\",\"No\",\"No\",\"No\",\"No\",\"No\",\"No\",\"No\",\"No\",\"No\",\"No\",\"No\",\"No\",\"No\",\"No\",\"No\",\"No\",\"No\",\"No\",\"No\",\"No\",\"No\",\"No\",\"No\",\"No\",\"No\",\"No\",\"No\",\"No\",\"No\",\"No\",\"No\",\"No\",\"No\",\"No\",\"No\",\"No\",\"No\",\"No\",\"No\",\"No\",\"No\",\"No\",\"No\",\"No\",\"No\",\"No\",\"No\",\"No\",\"No\",\"No\",\"No\",\"No\",\"No\",\"No\",\"No\",\"No\",\"No\",\"No\",\"No\",\"No\",\"No\",\"No\",\"No\",\"No\",\"No\",\"No\",\"No\",\"No\",\"No\",\"No\",\"No\",\"No\",\"No\",\"No\",\"No\",\"No\",\"No\",\"No\",\"No\",\"No\",\"No\",\"No\",\"No\",\"No\",\"No\",\"No\",\"No\",\"No\",\"No\",\"No\",\"No\",\"No\",\"No\",\"No\",\"No\",\"No\",\"No\",\"No\",\"No\",\"No\",\"No\",\"No\",\"No\",\"No\",\"No\",\"No\",\"No\",\"No\",\"No\",\"No\",\"No\",\"No\",\"No\",\"No\",\"No\",\"No\",\"No\",\"No\",\"No\",\"No\",\"No\",\"No\",\"No\",\"No\",\"No\",\"No\",\"No\",\"No\",\"No\",\"No\",\"No\",\"No\",\"No\",\"No\",\"No\",\"No\",\"No\",\"No\",\"No\",\"No\",\"No\",\"No\",\"No\",\"No\",\"No\",\"No\",\"No\",\"No\",\"No\",\"No\",\"No\",\"No\",\"No\",\"No\",\"No\",\"No\",\"No\",\"No\",\"No\",\"No\",\"No\",\"No\",\"No\",\"No\",\"No\",\"No\",\"No\",\"No\",\"No\",\"No\",\"No\",\"No\",\"No\",\"No\",\"No\",\"No\",\"No\",\"No\",\"No\",\"No\",\"No\",\"No\",\"No\",\"No\",\"No\",\"No\",\"No\",\"No\",\"No\",\"No\",\"No\",\"No\",\"No\",\"No\",\"No\",\"No\",\"No\",\"No\",\"No\",\"No\",\"No\",\"No\",\"No\",\"No\",\"No\",\"No\",\"No\",\"No\",\"No\",\"No\",\"No\",\"No\",\"No\",\"No\",\"No\",\"No\",\"No\",\"No\",\"No\",\"No\",\"No\",\"No\",\"No\",\"No\",\"No\",\"No\",\"No\",\"No\",\"No\",\"No\",\"No\",\"No\",\"No\",\"No\",\"No\",\"No\",\"No\",\"No\",\"No\",\"No\",\"No\",\"No\",\"No\",\"No\",\"No\",\"No\",\"No\",\"No\",\"No\",\"No\",\"No\",\"No\",\"No\",\"No\",\"No\",\"No\",\"No\",\"No\",\"No\",\"No\",\"No\",\"No\",\"No\",\"No\",\"No\",\"No\",\"No\",\"No\",\"No\",\"No\",\"No\",\"No\",\"No\",\"No\",\"No\",\"No\",\"No\",\"No\",\"No\",\"No\",\"No\",\"No\",\"No\",\"No\",\"No\",\"No\",\"No\",\"No\",\"No\",\"No\",\"No\",\"No\",\"No\",\"No\",\"No\",\"No\",\"No\",\"No\",\"No\",\"No\",\"No\",\"No\",\"No\",\"No\",\"No\",\"No\",\"No\",\"No\",\"No\",\"No\",\"No\",\"No\",\"No\",\"No\",\"No\",\"No\",\"No\",\"No\",\"No\",\"No\",\"No\",\"No\",\"No\",\"No\",\"No\",\"No\",\"No\",\"No\",\"No\",\"No\",\"No\",\"No\",\"No\",\"No\",\"No\",\"No\",\"No\",\"No\",\"No\",\"No\",\"No\",\"No\",\"No\",\"No\",\"No\",\"No\",\"No\",\"No\",\"No\",\"No\",\"No\",\"No\",\"No\",\"No\",\"No\",\"No\",\"No\",\"No\",\"No\",\"No\",\"No\",\"No\",\"No\",\"No\",\"No\",\"No\",\"No\",\"No\",\"No\",\"No\",\"No\",\"No\",\"No\",\"No\",\"No\",\"No\",\"No\",\"No\",\"No\",\"No\",\"No\",\"No\",\"No\",\"No\",\"No\",\"No\",\"No\",\"No\",\"No\",\"No\",\"No\",\"No\",\"No\",\"No\",\"No\",\"No\",\"No\",\"No\",\"No\",\"No\",\"No\",\"No\",\"No\",\"No\",\"No\",\"No\",\"No\",\"No\",\"No\",\"No\",\"No\",\"No\",\"No\",\"No\",\"No\",\"No\",\"No\",\"No\",\"No\",\"No\",\"No\",\"No\",\"No\",\"No\",\"No\",\"No\",\"No\",\"No\",\"No\",\"No\",\"No\",\"No\",\"No\",\"No\",\"No\",\"No\",\"No\",\"No\",\"No\",\"No\",\"No\",\"No\",\"No\",\"No\",\"No\",\"No\",\"No\",\"No\",\"No\",\"No\",\"No\",\"No\",\"No\",\"No\",\"No\",\"No\",\"No\",\"No\",\"No\",\"No\",\"No\",\"No\",\"No\",\"No\",\"No\",\"No\",\"No\",\"No\",\"No\",\"No\",\"No\",\"No\",\"No\",\"No\",\"No\",\"No\",\"No\",\"No\",\"No\",\"No\",\"No\",\"No\",\"No\",\"No\",\"No\",\"No\",\"No\",\"No\",\"No\",\"No\",\"No\",\"No\",\"No\",\"No\",\"No\",\"No\",\"No\",\"No\",\"No\",\"No\",\"No\",\"No\",\"No\",\"No\",\"No\",\"No\",\"No\",\"No\",\"No\",\"No\",\"No\",\"No\",\"No\",\"No\",\"No\",\"No\",\"No\",\"No\",\"No\",\"No\",\"No\",\"No\",\"No\",\"No\",\"No\",\"No\",\"No\",\"No\",\"No\",\"No\",\"No\",\"No\",\"No\",\"No\",\"No\",\"No\",\"No\",\"No\",\"No\",\"No\",\"No\",\"No\",\"No\",\"No\",\"No\",\"No\",\"No\",\"No\",\"No\",\"No\",\"No\",\"No\",\"No\",\"No\",\"No\",\"No\",\"No\",\"No\",\"No\",\"No\",\"No\",\"No\",\"No\",\"No\",\"No\",\"No\",\"No\",\"No\",\"No\",\"No\",\"No\",\"No\",\"No\",\"No\",\"No\",\"No\",\"No\",\"No\",\"No\",\"No\",\"No\",\"No\",\"No\",\"No\",\"No\",\"No\",\"No\",\"No\",\"No\",\"No\",\"No\",\"No\",\"No\",\"No\",\"No\",\"No\",\"No\",\"No\",\"No\",\"No\",\"No\",\"No\",\"No\",\"No\",\"No\",\"No\",\"No\",\"No\",\"No\",\"No\",\"No\",\"No\",\"No\",\"No\",\"No\",\"No\",\"No\",\"No\",\"No\",\"No\",\"No\",\"No\",\"No\",\"No\",\"No\",\"No\",\"No\",\"No\",\"No\",\"No\",\"No\",\"No\",\"No\",\"No\",\"No\",\"No\",\"No\",\"No\",\"No\",\"No\",\"No\",\"No\",\"No\",\"No\",\"No\",\"No\",\"No\",\"No\",\"No\",\"No\",\"No\",\"No\",\"No\",\"No\",\"No\",\"No\",\"No\",\"No\",\"No\",\"No\",\"No\",\"No\",\"No\",\"No\",\"No\",\"No\",\"No\",\"No\",\"No\",\"No\",\"No\",\"No\",\"No\",\"No\",\"No\",\"No\",\"No\",\"No\",\"No\",\"No\",\"No\",\"No\",\"No\",\"No\",\"No\",\"No\",\"No\",\"No\",\"No\",\"No\",\"No\",\"No\",\"No\",\"No\",\"No\",\"No\",\"No\",\"No\",\"No\",\"No\",\"No\",\"No\",\"No\",\"No\",\"No\",\"No\",\"No\",\"No\",\"No\",\"No\",\"No\",\"No\",\"No\",\"No\",\"No\",\"No\",\"No\",\"No\",\"No\",\"No\",\"No\",\"No\",\"No\",\"No\",\"No\",\"No\",\"No\",\"No\",\"No\",\"No\",\"No\",\"No\",\"No\",\"No\",\"No\",\"No\",\"No\",\"No\",\"No\",\"No\",\"No\",\"No\",\"No\",\"No\",\"No\",\"No\",\"No\",\"No\",\"No\",\"No\",\"No\",\"No\",\"No\",\"No\",\"No\",\"No\",\"No\",\"No\",\"No\",\"No\",\"No\",\"No\",\"No\",\"No\",\"No\",\"No\",\"No\",\"No\",\"No\",\"No\",\"No\",\"No\",\"No\",\"No\",\"No\",\"No\",\"No\",\"No\",\"No\",\"No\",\"No\",\"No\",\"No\",\"No\",\"No\",\"No\",\"No\",\"No\",\"No\",\"No\",\"No\",\"No\",\"No\",\"No\",\"No\",\"No\",\"No\",\"No\",\"No\",\"No\",\"No\",\"No\",\"No\",\"No\",\"No\",\"No\",\"No\",\"No\",\"No\",\"No\",\"No\",\"No\",\"No\",\"No\",\"No\",\"No\",\"No\",\"No\",\"No\",\"No\",\"No\",\"No\",\"No\",\"No\",\"No\",\"No\",\"No\",\"No\",\"No\",\"No\",\"No\",\"No\",\"No\",\"No\",\"No\",\"No\",\"No\",\"No\",\"No\",\"No\",\"No\",\"No\",\"No\",\"No\",\"No\",\"No\",\"No\",\"No\",\"No\",\"No\",\"No\",\"No\",\"No\",\"No\",\"No\",\"No\",\"No\",\"No\",\"No\",\"No\",\"No\",\"No\",\"No\",\"No\",\"No\",\"No\",\"No\",\"No\",\"No\",\"No\",\"No\",\"No\",\"No\",\"No\",\"No\",\"No\",\"No\",\"No\",\"No\",\"No\",\"No\",\"No\",\"No\",\"No\",\"No\",\"No\",\"No\",\"No\",\"No\",\"No\",\"No\",\"No\",\"No\",\"No\",\"No\",\"No\",\"No\",\"No\",\"No\",\"No\",\"No\",\"No\",\"No\",\"No\",\"No\",\"No\",\"No\",\"No\",\"No\",\"No\",\"No\",\"No\",\"No\",\"No\",\"No\",\"No\",\"No\",\"No\",\"No\",\"No\",\"No\",\"No\",\"No\",\"No\",\"No\",\"No\",\"No\",\"No\",\"No\",\"No\",\"No\",\"No\",\"No\",\"No\",\"No\",\"No\",\"No\",\"No\",\"No\",\"No\",\"No\",\"No\",\"No\",\"No\",\"No\",\"No\",\"No\",\"No\",\"No\",\"No\",\"No\",\"No\",\"No\",\"No\",\"No\",\"No\",\"No\",\"No\",\"No\",\"No\",\"No\",\"No\",\"No\",\"No\",\"No\",\"No\",\"No\",\"No\",\"No\",\"No\",\"No\",\"No\",\"No\",\"No\",\"No\",\"No\",\"No\",\"No\",\"No\",\"No\",\"No\",\"No\",\"No\",\"No\",\"No\",\"No\",\"No\",\"No\",\"No\",\"No\",\"No\",\"No\",\"No\",\"No\",\"No\",\"No\",\"No\",\"No\",\"No\",\"No\",\"No\",\"No\",\"No\",\"No\",\"No\",\"No\",\"No\",\"No\",\"No\",\"No\",\"No\",\"No\",\"No\",\"No\",\"No\",\"No\",\"No\",\"No\",\"No\",\"No\",\"No\",\"No\",\"No\",\"No\",\"No\",\"No\",\"No\",\"No\",\"No\",\"No\",\"No\",\"No\",\"No\",\"No\",\"No\",\"No\",\"No\",\"No\",\"No\",\"No\",\"No\",\"No\",\"No\",\"No\",\"No\",\"No\",\"No\",\"No\",\"No\",\"No\",\"No\",\"No\",\"No\",\"No\",\"No\",\"No\",\"No\",\"No\",\"No\",\"No\",\"No\",\"No\",\"No\",\"No\",\"No\",\"No\",\"No\",\"No\",\"No\",\"No\",\"No\",\"No\",\"No\",\"No\",\"No\",\"No\",\"No\",\"No\",\"No\",\"No\",\"No\",\"No\",\"No\",\"No\",\"No\",\"No\",\"No\",\"No\",\"No\",\"No\",\"No\",\"No\",\"No\",\"No\",\"No\",\"No\",\"No\",\"No\",\"No\",\"No\",\"No\",\"No\",\"No\",\"No\",\"No\",\"No\",\"No\",\"No\",\"No\",\"No\",\"No\",\"No\",\"No\",\"No\",\"No\",\"No\",\"No\",\"No\",\"No\",\"No\",\"No\",\"No\",\"No\",\"No\",\"No\",\"No\",\"No\",\"No\",\"No\",\"No\",\"No\",\"No\",\"No\",\"No\",\"No\",\"No\",\"No\",\"No\",\"No\",\"No\",\"No\",\"No\",\"No\",\"No\",\"No\",\"No\",\"No\",\"No\",\"No\",\"No\",\"No\",\"No\",\"No\",\"No\",\"No\",\"No\",\"No\",\"No\",\"No\",\"No\",\"No\",\"No\",\"No\",\"No\",\"No\",\"No\",\"No\",\"No\",\"No\",\"No\",\"No\",\"No\",\"No\",\"No\",\"No\",\"No\",\"No\",\"No\",\"No\",\"No\",\"No\",\"No\",\"No\",\"No\",\"No\",\"No\",\"No\",\"No\",\"No\",\"No\",\"No\",\"No\",\"No\",\"No\",\"No\",\"No\",\"No\",\"No\",\"No\",\"No\",\"No\",\"No\",\"No\",\"No\",\"No\",\"No\",\"No\",\"No\",\"No\",\"No\",\"No\",\"No\",\"No\",\"No\",\"No\",\"No\",\"No\",\"No\",\"No\",\"No\",\"No\",\"No\",\"No\",\"No\",\"No\",\"No\",\"No\",\"No\",\"No\",\"No\",\"No\",\"No\",\"No\",\"No\",\"No\",\"No\",\"No\",\"No\",\"No\",\"No\",\"No\",\"No\",\"No\",\"No\",\"No\",\"No\",\"No\",\"No\",\"No\",\"No\",\"No\",\"No\",\"No\",\"No\",\"No\",\"No\",\"No\",\"No\",\"No\",\"No\",\"No\",\"No\",\"No\",\"No\",\"No\",\"No\",\"No\",\"No\",\"No\",\"No\",\"No\",\"No\",\"No\",\"No\",\"No\",\"No\",\"No\",\"No\",\"No\",\"No\",\"No\",\"No\",\"No\",\"No\",\"No\",\"No\",\"No\",\"No\",\"No\",\"No\",\"No\",\"No\",\"No\",\"No\",\"No\",\"No\",\"No\",\"No\",\"No\",\"No\",\"No\",\"No\",\"No\",\"No\",\"No\",\"No\",\"No\",\"No\",\"No\",\"No\",\"No\",\"No\",\"No\",\"No\",\"No\",\"No\",\"No\",\"No\",\"No\",\"No\",\"No\",\"No\",\"No\",\"No\",\"No\",\"No\",\"No\",\"No\",\"No\",\"No\",\"No\",\"No\",\"No\",\"No\",\"No\",\"No\",\"No\",\"No\",\"No\",\"No\",\"No\",\"No\",\"No\",\"No\",\"No\",\"No\",\"No\",\"No\",\"No\",\"No\",\"No\",\"No\",\"No\",\"No\",\"No\",\"No\",\"No\",\"No\",\"No\",\"No\",\"No\",\"No\",\"No\",\"No\",\"No\",\"No\",\"No\",\"No\",\"No\",\"No\",\"No\",\"No\",\"No\",\"No\",\"No\",\"No\",\"No\",\"No\",\"No\",\"No\",\"No\",\"No\",\"No\",\"No\",\"No\",\"No\",\"No\",\"No\",\"No\",\"No\",\"No\",\"No\",\"No\",\"No\",\"No\",\"No\",\"No\",\"No\",\"No\",\"No\",\"No\",\"No\",\"No\",\"No\",\"No\",\"No\",\"No\",\"No\",\"No\",\"No\",\"No\",\"No\",\"No\",\"No\",\"No\",\"No\",\"No\",\"No\",\"No\",\"No\",\"No\",\"No\",\"No\",\"No\",\"No\",\"No\",\"No\",\"No\",\"No\",\"No\",\"No\",\"No\",\"No\",\"No\",\"No\",\"No\",\"No\",\"No\",\"No\",\"No\",\"No\",\"No\",\"No\",\"No\",\"No\",\"No\",\"No\",\"No\",\"No\",\"No\",\"No\",\"No\",\"No\",\"No\",\"No\",\"No\",\"No\",\"No\",\"No\",\"No\",\"No\",\"No\",\"No\",\"No\",\"No\",\"No\",\"No\",\"No\",\"No\",\"No\",\"No\",\"No\",\"No\",\"No\",\"No\",\"No\",\"No\",\"No\",\"No\",\"No\",\"No\",\"No\",\"No\",\"No\",\"No\",\"No\",\"No\",\"No\",\"No\",\"No\",\"No\",\"No\",\"No\",\"No\",\"No\",\"No\",\"No\",\"No\",\"No\",\"No\",\"No\",\"No\",\"No\",\"No\",\"No\",\"No\",\"No\",\"No\",\"No\",\"No\",\"No\",\"No\",\"No\",\"No\",\"No\",\"No\",\"No\",\"No\",\"No\",\"No\",\"No\",\"No\",\"No\",\"No\",\"No\",\"No\",\"No\",\"No\",\"No\",\"No\",\"No\",\"No\",\"No\",\"No\",\"No\",\"No\",\"No\",\"No\",\"No\",\"No\",\"No\",\"No\",\"No\",\"No\",\"No\",\"No\",\"No\",\"No\",\"No\",\"No\",\"No\",\"No\",\"No\",\"No\",\"No\",\"No\",\"No\",\"No\",\"No\",\"No\",\"No\",\"No\",\"No\",\"No\",\"No\",\"No\",\"No\",\"No\",\"No\",\"No\",\"No\",\"No\",\"No\",\"No\",\"No\",\"No\",\"No\",\"No\",\"No\",\"No\",\"No\",\"No\",\"No\",\"No\",\"No\",\"No\",\"No\",\"No\",\"No\",\"No\",\"No\",\"No\",\"No\",\"No\",\"No\",\"No\",\"No\",\"No\",\"No\",\"No\",\"No\",\"No\",\"No\",\"No\",\"No\",\"No\",\"No\",\"No\",\"No\",\"No\",\"No\",\"No\",\"No\",\"No\",\"No\",\"No\",\"No\",\"No\",\"No\",\"No\",\"No\",\"No\",\"No\",\"No\",\"No\",\"No\",\"No\",\"No\",\"No\",\"No\",\"No\",\"No\",\"No\",\"No\",\"No\",\"No\",\"No\",\"No\",\"No\",\"No\",\"No\",\"No\",\"No\",\"No\",\"No\",\"No\",\"No\",\"No\",\"No\",\"No\",\"No\",\"No\",\"No\",\"No\",\"No\",\"No\",\"No\",\"No\",\"No\",\"No\",\"No\",\"No\",\"No\",\"No\",\"No\",\"No\",\"No\",\"No\",\"No\",\"No\",\"No\",\"No\",\"No\",\"No\",\"No\",\"No\",\"No\",\"No\",\"No\",\"No\",\"No\",\"No\",\"No\",\"No\",\"No\",\"No\",\"No\",\"No\",\"No\",\"No\",\"No\",\"No\",\"No\",\"No\",\"No\",\"No\",\"No\",\"No\",\"No\",\"No\",\"No\",\"No\",\"No\",\"No\",\"No\",\"No\",\"No\",\"No\",\"No\",\"No\",\"No\",\"No\",\"No\",\"No\",\"No\",\"No\",\"No\",\"No\",\"No\",\"No\",\"No\",\"No\",\"No\",\"No\",\"No\",\"No\",\"No\",\"No\",\"No\",\"No\",\"No\",\"No\",\"No\",\"No\",\"No\",\"No\",\"No\",\"No\",\"No\",\"No\",\"No\",\"No\",\"No\",\"No\",\"No\",\"No\",\"No\",\"No\",\"No\",\"No\",\"No\",\"No\",\"No\",\"No\",\"No\",\"No\",\"No\",\"No\",\"No\",\"No\",\"No\",\"No\",\"No\",\"No\",\"No\",\"No\",\"No\",\"No\",\"No\",\"No\",\"No\",\"No\",\"No\",\"No\",\"No\",\"No\",\"No\",\"No\",\"No\",\"No\",\"No\",\"No\",\"No\",\"No\",\"No\",\"No\",\"No\",\"No\",\"No\",\"No\",\"No\",\"No\",\"No\",\"No\",\"No\",\"No\",\"No\",\"No\",\"No\",\"No\",\"No\",\"No\",\"No\",\"No\",\"No\",\"No\",\"No\",\"No\",\"No\",\"No\",\"No\",\"No\",\"No\",\"No\",\"No\",\"No\",\"No\",\"No\",\"No\",\"No\",\"No\",\"No\",\"No\",\"No\",\"No\",\"No\",\"No\",\"No\",\"No\",\"No\",\"No\",\"No\",\"No\",\"No\",\"No\",\"No\",\"No\",\"No\",\"No\",\"No\",\"No\",\"No\",\"No\",\"No\",\"No\",\"No\",\"No\",\"No\",\"No\",\"No\",\"No\",\"No\",\"No\",\"No\",\"No\",\"No\",\"No\",\"No\",\"No\",\"No\",\"No\",\"No\",\"No\",\"No\",\"No\",\"No\",\"No\",\"No\",\"No\",\"No\",\"No\",\"No\",\"No\",\"No\",\"No\",\"No\",\"No\",\"No\",\"No\",\"No\",\"No\",\"No\",\"No\",\"No\",\"No\",\"No\",\"No\",\"No\",\"No\",\"No\",\"No\",\"No\",\"No\",\"No\",\"No\",\"No\",\"No\",\"No\",\"No\",\"No\",\"No\",\"No\",\"No\",\"No\",\"No\",\"No\",\"No\",\"No\",\"No\",\"No\",\"No\",\"No\",\"No\",\"No\",\"No\",\"No\",\"No\",\"No\",\"No\",\"No\",\"No\",\"No\",\"No\",\"No\",\"No\",\"No\",\"No\",\"No\",\"No\",\"No\",\"No\",\"No\",\"No\",\"No\",\"No\",\"No\",\"No\",\"No\",\"No\",\"No\",\"No\",\"No\",\"No\",\"No\",\"No\",\"No\",\"No\",\"No\",\"No\",\"No\",\"No\",\"No\",\"No\",\"No\",\"No\",\"No\",\"No\",\"No\",\"No\",\"No\",\"No\",\"No\",\"No\",\"No\",\"No\",\"No\",\"No\",\"No\",\"No\",\"No\",\"No\",\"No\",\"No\",\"No\",\"No\",\"No\",\"No\",\"No\",\"No\",\"No\",\"No\",\"No\",\"No\",\"No\",\"No\",\"No\",\"No\",\"No\",\"No\",\"No\",\"No\",\"No\",\"No\",\"No\",\"No\",\"No\",\"No\",\"No\",\"No\",\"No\",\"No\",\"No\",\"No\",\"No\",\"No\",\"No\",\"No\",\"No\",\"No\",\"No\",\"No\",\"No\",\"No\",\"No\",\"No\",\"No\",\"No\",\"No\",\"No\",\"No\",\"No\",\"No\",\"No\",\"No\",\"No\",\"No\",\"No\",\"No\",\"No\",\"No\",\"No\",\"No\",\"No\",\"No\",\"No\",\"No\",\"No\",\"No\",\"No\",\"No\",\"No\",\"No\",\"No\",\"No\",\"No\",\"No\",\"No\",\"No\",\"No\",\"No\",\"No\",\"No\",\"No\",\"No\",\"No\",\"No\",\"No\",\"No\",\"No\",\"No\",\"No\",\"No\",\"No\",\"No\",\"No\",\"No\",\"No\",\"No\",\"No\",\"No\",\"No\",\"No\",\"No\",\"No\",\"No\",\"No\",\"No\",\"No\",\"No\",\"No\",\"No\",\"No\",\"No\",\"No\",\"No\",\"No\",\"No\",\"No\",\"No\",\"No\",\"No\",\"No\",\"No\",\"No\",\"No\",\"No\",\"No\",\"No\",\"No\",\"No\",\"No\",\"No\",\"No\",\"No\",\"No\",\"No\",\"No\",\"No\",\"No\",\"No\",\"No\",\"No\",\"No\",\"No\",\"No\",\"No\",\"No\",\"No\",\"No\",\"No\",\"No\",\"No\",\"No\",\"No\",\"No\",\"No\",\"No\",\"No\",\"No\",\"No\",\"No\",\"No\",\"No\",\"No\",\"No\",\"No\",\"No\",\"No\",\"No\",\"No\",\"No\",\"No\",\"No\",\"No\",\"No\",\"No\",\"No\",\"No\",\"No\",\"No\",\"No\",\"No\",\"No\",\"No\",\"No\",\"No\",\"No\",\"No\",\"No\",\"No\",\"No\",\"No\",\"No\",\"No\",\"No\",\"No\",\"No\",\"No\",\"No\",\"No\",\"No\",\"No\",\"No\",\"No\",\"No\",\"No\",\"No\",\"No\",\"No\",\"No\",\"No\",\"No\",\"No\",\"No\"],\"xaxis\":\"x\",\"yaxis\":\"y\",\"type\":\"histogram\"},{\"alignmentgroup\":\"True\",\"bingroup\":\"x\",\"hovertemplate\":\"Cliente_cancelado=%{x}\\u003cbr\\u003ecount=%{y}\\u003cextra\\u003e\\u003c\\u002fextra\\u003e\",\"legendgroup\":\"Si\",\"marker\":{\"color\":\"#EF553B\",\"pattern\":{\"shape\":\"\"}},\"name\":\"Si\",\"offsetgroup\":\"Si\",\"orientation\":\"v\",\"showlegend\":true,\"texttemplate\":\"%{value}\",\"x\":[\"Si\",\"Si\",\"Si\",\"Si\",\"Si\",\"Si\",\"Si\",\"Si\",\"Si\",\"Si\",\"Si\",\"Si\",\"Si\",\"Si\",\"Si\",\"Si\",\"Si\",\"Si\",\"Si\",\"Si\",\"Si\",\"Si\",\"Si\",\"Si\",\"Si\",\"Si\",\"Si\",\"Si\",\"Si\",\"Si\",\"Si\",\"Si\",\"Si\",\"Si\",\"Si\",\"Si\",\"Si\",\"Si\",\"Si\",\"Si\",\"Si\",\"Si\",\"Si\",\"Si\",\"Si\",\"Si\",\"Si\",\"Si\",\"Si\",\"Si\",\"Si\",\"Si\",\"Si\",\"Si\",\"Si\",\"Si\",\"Si\",\"Si\",\"Si\",\"Si\",\"Si\",\"Si\",\"Si\",\"Si\",\"Si\",\"Si\",\"Si\",\"Si\",\"Si\",\"Si\",\"Si\",\"Si\",\"Si\",\"Si\",\"Si\",\"Si\",\"Si\",\"Si\",\"Si\",\"Si\",\"Si\",\"Si\",\"Si\",\"Si\",\"Si\",\"Si\",\"Si\",\"Si\",\"Si\",\"Si\",\"Si\",\"Si\",\"Si\",\"Si\",\"Si\",\"Si\",\"Si\",\"Si\",\"Si\",\"Si\",\"Si\",\"Si\",\"Si\",\"Si\",\"Si\",\"Si\",\"Si\",\"Si\",\"Si\",\"Si\",\"Si\",\"Si\",\"Si\",\"Si\",\"Si\",\"Si\",\"Si\",\"Si\",\"Si\",\"Si\",\"Si\",\"Si\",\"Si\",\"Si\",\"Si\",\"Si\",\"Si\",\"Si\",\"Si\",\"Si\",\"Si\",\"Si\",\"Si\",\"Si\",\"Si\",\"Si\",\"Si\",\"Si\",\"Si\",\"Si\",\"Si\",\"Si\",\"Si\",\"Si\",\"Si\",\"Si\",\"Si\",\"Si\",\"Si\",\"Si\",\"Si\",\"Si\",\"Si\",\"Si\",\"Si\",\"Si\",\"Si\",\"Si\",\"Si\",\"Si\",\"Si\",\"Si\",\"Si\",\"Si\",\"Si\",\"Si\",\"Si\",\"Si\",\"Si\",\"Si\",\"Si\",\"Si\",\"Si\",\"Si\",\"Si\",\"Si\",\"Si\",\"Si\",\"Si\",\"Si\",\"Si\",\"Si\",\"Si\",\"Si\",\"Si\",\"Si\",\"Si\",\"Si\",\"Si\",\"Si\",\"Si\",\"Si\",\"Si\",\"Si\",\"Si\",\"Si\",\"Si\",\"Si\",\"Si\",\"Si\",\"Si\",\"Si\",\"Si\",\"Si\",\"Si\",\"Si\",\"Si\",\"Si\",\"Si\",\"Si\",\"Si\",\"Si\",\"Si\",\"Si\",\"Si\",\"Si\",\"Si\",\"Si\",\"Si\",\"Si\",\"Si\",\"Si\",\"Si\",\"Si\",\"Si\",\"Si\",\"Si\",\"Si\",\"Si\",\"Si\",\"Si\",\"Si\",\"Si\",\"Si\",\"Si\",\"Si\",\"Si\",\"Si\",\"Si\",\"Si\",\"Si\",\"Si\",\"Si\",\"Si\",\"Si\",\"Si\",\"Si\",\"Si\",\"Si\",\"Si\",\"Si\",\"Si\",\"Si\",\"Si\",\"Si\",\"Si\",\"Si\",\"Si\",\"Si\",\"Si\",\"Si\",\"Si\",\"Si\",\"Si\",\"Si\",\"Si\",\"Si\",\"Si\",\"Si\",\"Si\",\"Si\",\"Si\",\"Si\",\"Si\",\"Si\",\"Si\",\"Si\",\"Si\",\"Si\",\"Si\",\"Si\",\"Si\",\"Si\",\"Si\",\"Si\",\"Si\",\"Si\",\"Si\",\"Si\",\"Si\",\"Si\",\"Si\",\"Si\",\"Si\",\"Si\",\"Si\",\"Si\",\"Si\",\"Si\",\"Si\",\"Si\",\"Si\",\"Si\",\"Si\",\"Si\",\"Si\",\"Si\",\"Si\",\"Si\",\"Si\",\"Si\",\"Si\",\"Si\",\"Si\",\"Si\",\"Si\",\"Si\",\"Si\",\"Si\",\"Si\",\"Si\",\"Si\",\"Si\",\"Si\",\"Si\",\"Si\",\"Si\",\"Si\",\"Si\",\"Si\",\"Si\",\"Si\",\"Si\",\"Si\",\"Si\",\"Si\",\"Si\",\"Si\",\"Si\",\"Si\",\"Si\",\"Si\",\"Si\",\"Si\",\"Si\",\"Si\",\"Si\",\"Si\",\"Si\",\"Si\",\"Si\",\"Si\",\"Si\",\"Si\",\"Si\",\"Si\",\"Si\",\"Si\",\"Si\",\"Si\",\"Si\",\"Si\",\"Si\",\"Si\",\"Si\",\"Si\",\"Si\",\"Si\",\"Si\",\"Si\",\"Si\",\"Si\",\"Si\",\"Si\",\"Si\",\"Si\",\"Si\",\"Si\",\"Si\",\"Si\",\"Si\",\"Si\",\"Si\",\"Si\",\"Si\",\"Si\",\"Si\",\"Si\",\"Si\",\"Si\",\"Si\",\"Si\",\"Si\",\"Si\",\"Si\",\"Si\",\"Si\",\"Si\",\"Si\",\"Si\",\"Si\",\"Si\",\"Si\",\"Si\",\"Si\",\"Si\",\"Si\",\"Si\",\"Si\",\"Si\",\"Si\",\"Si\",\"Si\",\"Si\",\"Si\",\"Si\",\"Si\",\"Si\",\"Si\",\"Si\",\"Si\",\"Si\",\"Si\",\"Si\",\"Si\",\"Si\",\"Si\",\"Si\",\"Si\",\"Si\",\"Si\",\"Si\",\"Si\",\"Si\",\"Si\",\"Si\",\"Si\",\"Si\",\"Si\",\"Si\",\"Si\",\"Si\",\"Si\",\"Si\",\"Si\",\"Si\",\"Si\",\"Si\",\"Si\",\"Si\",\"Si\",\"Si\",\"Si\",\"Si\",\"Si\",\"Si\",\"Si\",\"Si\",\"Si\",\"Si\",\"Si\",\"Si\",\"Si\",\"Si\",\"Si\",\"Si\",\"Si\",\"Si\",\"Si\",\"Si\",\"Si\",\"Si\",\"Si\",\"Si\",\"Si\",\"Si\",\"Si\",\"Si\",\"Si\",\"Si\",\"Si\",\"Si\",\"Si\",\"Si\",\"Si\",\"Si\",\"Si\",\"Si\",\"Si\",\"Si\",\"Si\",\"Si\",\"Si\",\"Si\",\"Si\",\"Si\",\"Si\",\"Si\",\"Si\",\"Si\",\"Si\",\"Si\",\"Si\",\"Si\",\"Si\",\"Si\",\"Si\",\"Si\",\"Si\",\"Si\",\"Si\",\"Si\",\"Si\",\"Si\",\"Si\",\"Si\",\"Si\",\"Si\",\"Si\",\"Si\",\"Si\",\"Si\",\"Si\",\"Si\",\"Si\",\"Si\",\"Si\",\"Si\",\"Si\",\"Si\",\"Si\",\"Si\",\"Si\",\"Si\",\"Si\",\"Si\",\"Si\",\"Si\",\"Si\",\"Si\",\"Si\",\"Si\",\"Si\",\"Si\",\"Si\",\"Si\",\"Si\",\"Si\",\"Si\",\"Si\",\"Si\",\"Si\",\"Si\",\"Si\",\"Si\",\"Si\",\"Si\",\"Si\",\"Si\",\"Si\",\"Si\",\"Si\",\"Si\",\"Si\",\"Si\",\"Si\",\"Si\",\"Si\",\"Si\",\"Si\",\"Si\",\"Si\",\"Si\",\"Si\",\"Si\",\"Si\",\"Si\",\"Si\",\"Si\",\"Si\",\"Si\",\"Si\",\"Si\",\"Si\",\"Si\",\"Si\",\"Si\",\"Si\",\"Si\",\"Si\",\"Si\",\"Si\",\"Si\",\"Si\",\"Si\",\"Si\",\"Si\",\"Si\",\"Si\",\"Si\",\"Si\",\"Si\",\"Si\",\"Si\",\"Si\",\"Si\",\"Si\",\"Si\",\"Si\",\"Si\",\"Si\",\"Si\",\"Si\",\"Si\",\"Si\",\"Si\",\"Si\",\"Si\",\"Si\",\"Si\",\"Si\",\"Si\",\"Si\",\"Si\",\"Si\",\"Si\",\"Si\",\"Si\",\"Si\",\"Si\",\"Si\",\"Si\",\"Si\",\"Si\",\"Si\",\"Si\",\"Si\",\"Si\",\"Si\",\"Si\",\"Si\",\"Si\",\"Si\",\"Si\",\"Si\",\"Si\",\"Si\",\"Si\",\"Si\",\"Si\",\"Si\",\"Si\",\"Si\",\"Si\",\"Si\",\"Si\",\"Si\",\"Si\",\"Si\",\"Si\",\"Si\",\"Si\",\"Si\",\"Si\",\"Si\",\"Si\",\"Si\",\"Si\",\"Si\",\"Si\",\"Si\",\"Si\",\"Si\",\"Si\",\"Si\",\"Si\",\"Si\",\"Si\",\"Si\",\"Si\",\"Si\",\"Si\",\"Si\",\"Si\",\"Si\",\"Si\",\"Si\",\"Si\",\"Si\",\"Si\",\"Si\",\"Si\",\"Si\",\"Si\",\"Si\",\"Si\",\"Si\",\"Si\",\"Si\",\"Si\",\"Si\",\"Si\",\"Si\",\"Si\",\"Si\",\"Si\",\"Si\",\"Si\",\"Si\",\"Si\",\"Si\",\"Si\",\"Si\",\"Si\",\"Si\",\"Si\",\"Si\",\"Si\",\"Si\",\"Si\",\"Si\",\"Si\",\"Si\",\"Si\",\"Si\",\"Si\",\"Si\",\"Si\",\"Si\",\"Si\",\"Si\",\"Si\",\"Si\",\"Si\",\"Si\",\"Si\",\"Si\",\"Si\",\"Si\",\"Si\",\"Si\",\"Si\",\"Si\",\"Si\",\"Si\",\"Si\",\"Si\",\"Si\",\"Si\",\"Si\",\"Si\",\"Si\",\"Si\",\"Si\",\"Si\",\"Si\",\"Si\",\"Si\",\"Si\",\"Si\",\"Si\",\"Si\",\"Si\",\"Si\",\"Si\",\"Si\",\"Si\",\"Si\",\"Si\",\"Si\",\"Si\",\"Si\",\"Si\",\"Si\",\"Si\",\"Si\",\"Si\",\"Si\",\"Si\",\"Si\",\"Si\",\"Si\",\"Si\",\"Si\",\"Si\",\"Si\",\"Si\",\"Si\",\"Si\",\"Si\",\"Si\",\"Si\",\"Si\",\"Si\",\"Si\",\"Si\",\"Si\",\"Si\",\"Si\",\"Si\",\"Si\",\"Si\",\"Si\",\"Si\",\"Si\",\"Si\",\"Si\",\"Si\",\"Si\",\"Si\",\"Si\",\"Si\",\"Si\",\"Si\",\"Si\",\"Si\",\"Si\",\"Si\",\"Si\",\"Si\",\"Si\",\"Si\",\"Si\",\"Si\",\"Si\",\"Si\",\"Si\",\"Si\",\"Si\",\"Si\",\"Si\",\"Si\",\"Si\",\"Si\",\"Si\",\"Si\",\"Si\",\"Si\",\"Si\",\"Si\",\"Si\",\"Si\",\"Si\",\"Si\",\"Si\",\"Si\",\"Si\",\"Si\",\"Si\",\"Si\",\"Si\",\"Si\",\"Si\",\"Si\",\"Si\",\"Si\",\"Si\",\"Si\",\"Si\",\"Si\",\"Si\",\"Si\",\"Si\",\"Si\",\"Si\",\"Si\",\"Si\",\"Si\",\"Si\",\"Si\",\"Si\",\"Si\",\"Si\",\"Si\",\"Si\",\"Si\",\"Si\",\"Si\",\"Si\",\"Si\",\"Si\",\"Si\",\"Si\",\"Si\",\"Si\",\"Si\",\"Si\",\"Si\",\"Si\",\"Si\",\"Si\",\"Si\",\"Si\",\"Si\",\"Si\",\"Si\",\"Si\",\"Si\",\"Si\",\"Si\",\"Si\",\"Si\",\"Si\",\"Si\",\"Si\",\"Si\",\"Si\",\"Si\",\"Si\",\"Si\",\"Si\",\"Si\",\"Si\",\"Si\",\"Si\",\"Si\",\"Si\",\"Si\",\"Si\",\"Si\",\"Si\",\"Si\",\"Si\",\"Si\",\"Si\",\"Si\",\"Si\",\"Si\",\"Si\",\"Si\",\"Si\",\"Si\",\"Si\",\"Si\",\"Si\",\"Si\",\"Si\",\"Si\",\"Si\",\"Si\",\"Si\",\"Si\",\"Si\",\"Si\",\"Si\",\"Si\",\"Si\",\"Si\",\"Si\",\"Si\",\"Si\",\"Si\",\"Si\",\"Si\",\"Si\",\"Si\",\"Si\",\"Si\",\"Si\",\"Si\",\"Si\",\"Si\",\"Si\",\"Si\",\"Si\",\"Si\",\"Si\",\"Si\",\"Si\",\"Si\",\"Si\",\"Si\",\"Si\",\"Si\",\"Si\",\"Si\",\"Si\",\"Si\",\"Si\",\"Si\",\"Si\",\"Si\",\"Si\",\"Si\",\"Si\",\"Si\",\"Si\",\"Si\",\"Si\",\"Si\",\"Si\",\"Si\",\"Si\",\"Si\",\"Si\",\"Si\",\"Si\",\"Si\",\"Si\",\"Si\",\"Si\",\"Si\",\"Si\",\"Si\",\"Si\",\"Si\",\"Si\",\"Si\",\"Si\",\"Si\",\"Si\",\"Si\",\"Si\",\"Si\",\"Si\",\"Si\",\"Si\",\"Si\",\"Si\",\"Si\",\"Si\",\"Si\",\"Si\",\"Si\",\"Si\",\"Si\",\"Si\",\"Si\",\"Si\",\"Si\",\"Si\",\"Si\",\"Si\",\"Si\",\"Si\",\"Si\",\"Si\",\"Si\",\"Si\",\"Si\",\"Si\",\"Si\",\"Si\",\"Si\",\"Si\",\"Si\",\"Si\",\"Si\",\"Si\",\"Si\",\"Si\",\"Si\",\"Si\",\"Si\",\"Si\",\"Si\",\"Si\",\"Si\",\"Si\",\"Si\",\"Si\",\"Si\",\"Si\",\"Si\",\"Si\",\"Si\",\"Si\",\"Si\",\"Si\",\"Si\",\"Si\",\"Si\",\"Si\",\"Si\",\"Si\",\"Si\",\"Si\",\"Si\",\"Si\",\"Si\",\"Si\",\"Si\",\"Si\",\"Si\",\"Si\",\"Si\",\"Si\",\"Si\",\"Si\",\"Si\",\"Si\",\"Si\",\"Si\",\"Si\",\"Si\",\"Si\",\"Si\",\"Si\",\"Si\",\"Si\",\"Si\",\"Si\",\"Si\",\"Si\",\"Si\",\"Si\",\"Si\",\"Si\",\"Si\",\"Si\",\"Si\",\"Si\",\"Si\",\"Si\",\"Si\",\"Si\",\"Si\",\"Si\",\"Si\",\"Si\",\"Si\",\"Si\",\"Si\",\"Si\",\"Si\",\"Si\",\"Si\",\"Si\",\"Si\",\"Si\",\"Si\",\"Si\",\"Si\",\"Si\",\"Si\",\"Si\",\"Si\",\"Si\",\"Si\",\"Si\",\"Si\",\"Si\",\"Si\",\"Si\",\"Si\",\"Si\",\"Si\",\"Si\",\"Si\",\"Si\",\"Si\",\"Si\",\"Si\",\"Si\",\"Si\",\"Si\",\"Si\",\"Si\",\"Si\",\"Si\",\"Si\",\"Si\",\"Si\",\"Si\",\"Si\",\"Si\",\"Si\",\"Si\",\"Si\",\"Si\",\"Si\",\"Si\",\"Si\",\"Si\",\"Si\",\"Si\",\"Si\",\"Si\",\"Si\",\"Si\",\"Si\",\"Si\",\"Si\",\"Si\",\"Si\",\"Si\",\"Si\",\"Si\",\"Si\",\"Si\",\"Si\",\"Si\",\"Si\",\"Si\",\"Si\",\"Si\",\"Si\",\"Si\",\"Si\",\"Si\",\"Si\",\"Si\",\"Si\",\"Si\",\"Si\",\"Si\",\"Si\",\"Si\",\"Si\",\"Si\",\"Si\",\"Si\",\"Si\",\"Si\",\"Si\",\"Si\",\"Si\",\"Si\",\"Si\",\"Si\",\"Si\",\"Si\",\"Si\",\"Si\",\"Si\",\"Si\",\"Si\",\"Si\",\"Si\",\"Si\",\"Si\",\"Si\",\"Si\",\"Si\",\"Si\",\"Si\",\"Si\",\"Si\",\"Si\",\"Si\",\"Si\",\"Si\",\"Si\",\"Si\",\"Si\",\"Si\",\"Si\",\"Si\",\"Si\",\"Si\",\"Si\",\"Si\",\"Si\",\"Si\",\"Si\",\"Si\",\"Si\",\"Si\",\"Si\",\"Si\",\"Si\",\"Si\",\"Si\",\"Si\",\"Si\",\"Si\",\"Si\",\"Si\",\"Si\",\"Si\",\"Si\",\"Si\",\"Si\",\"Si\",\"Si\",\"Si\",\"Si\",\"Si\",\"Si\",\"Si\",\"Si\",\"Si\",\"Si\",\"Si\",\"Si\",\"Si\",\"Si\",\"Si\",\"Si\",\"Si\",\"Si\",\"Si\",\"Si\",\"Si\",\"Si\",\"Si\",\"Si\",\"Si\",\"Si\",\"Si\",\"Si\",\"Si\",\"Si\",\"Si\",\"Si\",\"Si\",\"Si\",\"Si\",\"Si\",\"Si\",\"Si\",\"Si\",\"Si\",\"Si\",\"Si\",\"Si\",\"Si\",\"Si\",\"Si\",\"Si\",\"Si\",\"Si\",\"Si\",\"Si\",\"Si\",\"Si\",\"Si\",\"Si\",\"Si\",\"Si\",\"Si\",\"Si\",\"Si\",\"Si\",\"Si\",\"Si\",\"Si\",\"Si\",\"Si\",\"Si\",\"Si\",\"Si\",\"Si\",\"Si\",\"Si\",\"Si\",\"Si\",\"Si\",\"Si\",\"Si\",\"Si\",\"Si\",\"Si\",\"Si\",\"Si\",\"Si\",\"Si\",\"Si\",\"Si\",\"Si\",\"Si\",\"Si\",\"Si\",\"Si\",\"Si\",\"Si\",\"Si\",\"Si\",\"Si\",\"Si\",\"Si\",\"Si\",\"Si\",\"Si\",\"Si\",\"Si\",\"Si\",\"Si\",\"Si\",\"Si\",\"Si\",\"Si\",\"Si\",\"Si\",\"Si\",\"Si\",\"Si\",\"Si\",\"Si\",\"Si\",\"Si\",\"Si\",\"Si\",\"Si\",\"Si\",\"Si\",\"Si\",\"Si\",\"Si\",\"Si\",\"Si\",\"Si\",\"Si\",\"Si\",\"Si\",\"Si\",\"Si\",\"Si\",\"Si\",\"Si\",\"Si\",\"Si\",\"Si\",\"Si\",\"Si\",\"Si\",\"Si\",\"Si\",\"Si\",\"Si\",\"Si\",\"Si\",\"Si\",\"Si\",\"Si\",\"Si\",\"Si\",\"Si\",\"Si\",\"Si\",\"Si\",\"Si\",\"Si\",\"Si\",\"Si\",\"Si\",\"Si\",\"Si\",\"Si\",\"Si\",\"Si\",\"Si\",\"Si\",\"Si\",\"Si\",\"Si\",\"Si\",\"Si\",\"Si\",\"Si\",\"Si\",\"Si\",\"Si\",\"Si\",\"Si\",\"Si\",\"Si\",\"Si\",\"Si\",\"Si\",\"Si\",\"Si\",\"Si\",\"Si\",\"Si\",\"Si\",\"Si\",\"Si\",\"Si\",\"Si\",\"Si\",\"Si\",\"Si\",\"Si\",\"Si\",\"Si\",\"Si\",\"Si\",\"Si\",\"Si\",\"Si\",\"Si\",\"Si\",\"Si\",\"Si\",\"Si\",\"Si\",\"Si\",\"Si\",\"Si\",\"Si\",\"Si\",\"Si\",\"Si\",\"Si\",\"Si\",\"Si\",\"Si\",\"Si\",\"Si\",\"Si\",\"Si\",\"Si\",\"Si\",\"Si\",\"Si\",\"Si\",\"Si\",\"Si\",\"Si\",\"Si\",\"Si\",\"Si\",\"Si\",\"Si\",\"Si\",\"Si\",\"Si\",\"Si\",\"Si\",\"Si\",\"Si\",\"Si\",\"Si\",\"Si\",\"Si\",\"Si\",\"Si\",\"Si\",\"Si\",\"Si\",\"Si\",\"Si\",\"Si\",\"Si\",\"Si\",\"Si\",\"Si\",\"Si\",\"Si\",\"Si\",\"Si\",\"Si\",\"Si\",\"Si\",\"Si\",\"Si\",\"Si\",\"Si\",\"Si\",\"Si\",\"Si\",\"Si\",\"Si\",\"Si\",\"Si\",\"Si\",\"Si\",\"Si\",\"Si\",\"Si\",\"Si\",\"Si\",\"Si\",\"Si\",\"Si\",\"Si\",\"Si\",\"Si\",\"Si\",\"Si\",\"Si\",\"Si\",\"Si\",\"Si\",\"Si\",\"Si\",\"Si\",\"Si\",\"Si\",\"Si\",\"Si\",\"Si\",\"Si\",\"Si\",\"Si\",\"Si\",\"Si\",\"Si\",\"Si\",\"Si\",\"Si\",\"Si\",\"Si\",\"Si\",\"Si\",\"Si\",\"Si\",\"Si\",\"Si\",\"Si\",\"Si\",\"Si\",\"Si\",\"Si\",\"Si\",\"Si\",\"Si\",\"Si\",\"Si\",\"Si\",\"Si\",\"Si\",\"Si\",\"Si\",\"Si\",\"Si\",\"Si\",\"Si\",\"Si\",\"Si\",\"Si\",\"Si\",\"Si\",\"Si\",\"Si\",\"Si\",\"Si\",\"Si\",\"Si\",\"Si\",\"Si\",\"Si\",\"Si\",\"Si\",\"Si\",\"Si\",\"Si\",\"Si\",\"Si\",\"Si\",\"Si\",\"Si\",\"Si\",\"Si\",\"Si\",\"Si\",\"Si\",\"Si\",\"Si\",\"Si\",\"Si\",\"Si\",\"Si\",\"Si\",\"Si\",\"Si\",\"Si\",\"Si\",\"Si\",\"Si\",\"Si\",\"Si\",\"Si\",\"Si\",\"Si\",\"Si\",\"Si\",\"Si\",\"Si\",\"Si\",\"Si\",\"Si\",\"Si\",\"Si\",\"Si\",\"Si\",\"Si\",\"Si\",\"Si\",\"Si\",\"Si\",\"Si\",\"Si\",\"Si\",\"Si\",\"Si\",\"Si\",\"Si\",\"Si\",\"Si\",\"Si\",\"Si\",\"Si\",\"Si\",\"Si\",\"Si\",\"Si\",\"Si\",\"Si\",\"Si\",\"Si\",\"Si\",\"Si\",\"Si\",\"Si\",\"Si\",\"Si\",\"Si\",\"Si\",\"Si\",\"Si\",\"Si\",\"Si\",\"Si\",\"Si\",\"Si\",\"Si\",\"Si\",\"Si\",\"Si\",\"Si\",\"Si\",\"Si\",\"Si\",\"Si\",\"Si\",\"Si\",\"Si\",\"Si\",\"Si\",\"Si\",\"Si\",\"Si\",\"Si\",\"Si\",\"Si\",\"Si\",\"Si\",\"Si\",\"Si\",\"Si\",\"Si\",\"Si\",\"Si\",\"Si\",\"Si\",\"Si\",\"Si\",\"Si\",\"Si\",\"Si\",\"Si\",\"Si\",\"Si\",\"Si\",\"Si\",\"Si\",\"Si\",\"Si\",\"Si\",\"Si\",\"Si\",\"Si\",\"Si\",\"Si\",\"Si\",\"Si\",\"Si\",\"Si\",\"Si\",\"Si\",\"Si\",\"Si\",\"Si\",\"Si\",\"Si\",\"Si\",\"Si\",\"Si\",\"Si\",\"Si\",\"Si\",\"Si\",\"Si\",\"Si\",\"Si\",\"Si\",\"Si\",\"Si\",\"Si\",\"Si\",\"Si\",\"Si\",\"Si\",\"Si\",\"Si\",\"Si\",\"Si\",\"Si\",\"Si\",\"Si\",\"Si\",\"Si\",\"Si\",\"Si\",\"Si\",\"Si\",\"Si\",\"Si\",\"Si\",\"Si\",\"Si\",\"Si\",\"Si\",\"Si\",\"Si\",\"Si\",\"Si\",\"Si\",\"Si\",\"Si\",\"Si\",\"Si\",\"Si\",\"Si\",\"Si\",\"Si\",\"Si\",\"Si\",\"Si\",\"Si\",\"Si\",\"Si\",\"Si\",\"Si\",\"Si\",\"Si\",\"Si\",\"Si\",\"Si\",\"Si\",\"Si\",\"Si\",\"Si\",\"Si\",\"Si\",\"Si\",\"Si\",\"Si\",\"Si\",\"Si\",\"Si\",\"Si\",\"Si\",\"Si\",\"Si\",\"Si\",\"Si\",\"Si\",\"Si\",\"Si\",\"Si\",\"Si\",\"Si\",\"Si\",\"Si\",\"Si\",\"Si\",\"Si\",\"Si\",\"Si\",\"Si\",\"Si\",\"Si\",\"Si\",\"Si\",\"Si\",\"Si\",\"Si\",\"Si\",\"Si\",\"Si\",\"Si\",\"Si\",\"Si\",\"Si\",\"Si\",\"Si\",\"Si\",\"Si\",\"Si\",\"Si\",\"Si\",\"Si\",\"Si\",\"Si\",\"Si\",\"Si\",\"Si\",\"Si\",\"Si\",\"Si\",\"Si\",\"Si\",\"Si\",\"Si\",\"Si\",\"Si\",\"Si\",\"Si\",\"Si\",\"Si\",\"Si\",\"Si\",\"Si\",\"Si\",\"Si\",\"Si\",\"Si\",\"Si\",\"Si\",\"Si\",\"Si\",\"Si\",\"Si\",\"Si\",\"Si\",\"Si\",\"Si\",\"Si\",\"Si\",\"Si\",\"Si\",\"Si\",\"Si\",\"Si\",\"Si\",\"Si\",\"Si\",\"Si\",\"Si\",\"Si\",\"Si\",\"Si\",\"Si\",\"Si\",\"Si\",\"Si\",\"Si\",\"Si\",\"Si\",\"Si\",\"Si\",\"Si\",\"Si\",\"Si\",\"Si\",\"Si\",\"Si\",\"Si\",\"Si\",\"Si\",\"Si\",\"Si\",\"Si\",\"Si\",\"Si\",\"Si\",\"Si\",\"Si\",\"Si\",\"Si\",\"Si\",\"Si\",\"Si\",\"Si\",\"Si\",\"Si\",\"Si\",\"Si\",\"Si\",\"Si\",\"Si\",\"Si\",\"Si\",\"Si\",\"Si\",\"Si\",\"Si\",\"Si\",\"Si\",\"Si\",\"Si\",\"Si\",\"Si\",\"Si\",\"Si\",\"Si\"],\"xaxis\":\"x\",\"yaxis\":\"y\",\"type\":\"histogram\"}],                        {\"template\":{\"data\":{\"histogram2dcontour\":[{\"type\":\"histogram2dcontour\",\"colorbar\":{\"outlinewidth\":0,\"ticks\":\"\"},\"colorscale\":[[0.0,\"#0d0887\"],[0.1111111111111111,\"#46039f\"],[0.2222222222222222,\"#7201a8\"],[0.3333333333333333,\"#9c179e\"],[0.4444444444444444,\"#bd3786\"],[0.5555555555555556,\"#d8576b\"],[0.6666666666666666,\"#ed7953\"],[0.7777777777777778,\"#fb9f3a\"],[0.8888888888888888,\"#fdca26\"],[1.0,\"#f0f921\"]]}],\"choropleth\":[{\"type\":\"choropleth\",\"colorbar\":{\"outlinewidth\":0,\"ticks\":\"\"}}],\"histogram2d\":[{\"type\":\"histogram2d\",\"colorbar\":{\"outlinewidth\":0,\"ticks\":\"\"},\"colorscale\":[[0.0,\"#0d0887\"],[0.1111111111111111,\"#46039f\"],[0.2222222222222222,\"#7201a8\"],[0.3333333333333333,\"#9c179e\"],[0.4444444444444444,\"#bd3786\"],[0.5555555555555556,\"#d8576b\"],[0.6666666666666666,\"#ed7953\"],[0.7777777777777778,\"#fb9f3a\"],[0.8888888888888888,\"#fdca26\"],[1.0,\"#f0f921\"]]}],\"heatmap\":[{\"type\":\"heatmap\",\"colorbar\":{\"outlinewidth\":0,\"ticks\":\"\"},\"colorscale\":[[0.0,\"#0d0887\"],[0.1111111111111111,\"#46039f\"],[0.2222222222222222,\"#7201a8\"],[0.3333333333333333,\"#9c179e\"],[0.4444444444444444,\"#bd3786\"],[0.5555555555555556,\"#d8576b\"],[0.6666666666666666,\"#ed7953\"],[0.7777777777777778,\"#fb9f3a\"],[0.8888888888888888,\"#fdca26\"],[1.0,\"#f0f921\"]]}],\"heatmapgl\":[{\"type\":\"heatmapgl\",\"colorbar\":{\"outlinewidth\":0,\"ticks\":\"\"},\"colorscale\":[[0.0,\"#0d0887\"],[0.1111111111111111,\"#46039f\"],[0.2222222222222222,\"#7201a8\"],[0.3333333333333333,\"#9c179e\"],[0.4444444444444444,\"#bd3786\"],[0.5555555555555556,\"#d8576b\"],[0.6666666666666666,\"#ed7953\"],[0.7777777777777778,\"#fb9f3a\"],[0.8888888888888888,\"#fdca26\"],[1.0,\"#f0f921\"]]}],\"contourcarpet\":[{\"type\":\"contourcarpet\",\"colorbar\":{\"outlinewidth\":0,\"ticks\":\"\"}}],\"contour\":[{\"type\":\"contour\",\"colorbar\":{\"outlinewidth\":0,\"ticks\":\"\"},\"colorscale\":[[0.0,\"#0d0887\"],[0.1111111111111111,\"#46039f\"],[0.2222222222222222,\"#7201a8\"],[0.3333333333333333,\"#9c179e\"],[0.4444444444444444,\"#bd3786\"],[0.5555555555555556,\"#d8576b\"],[0.6666666666666666,\"#ed7953\"],[0.7777777777777778,\"#fb9f3a\"],[0.8888888888888888,\"#fdca26\"],[1.0,\"#f0f921\"]]}],\"surface\":[{\"type\":\"surface\",\"colorbar\":{\"outlinewidth\":0,\"ticks\":\"\"},\"colorscale\":[[0.0,\"#0d0887\"],[0.1111111111111111,\"#46039f\"],[0.2222222222222222,\"#7201a8\"],[0.3333333333333333,\"#9c179e\"],[0.4444444444444444,\"#bd3786\"],[0.5555555555555556,\"#d8576b\"],[0.6666666666666666,\"#ed7953\"],[0.7777777777777778,\"#fb9f3a\"],[0.8888888888888888,\"#fdca26\"],[1.0,\"#f0f921\"]]}],\"mesh3d\":[{\"type\":\"mesh3d\",\"colorbar\":{\"outlinewidth\":0,\"ticks\":\"\"}}],\"scatter\":[{\"fillpattern\":{\"fillmode\":\"overlay\",\"size\":10,\"solidity\":0.2},\"type\":\"scatter\"}],\"parcoords\":[{\"type\":\"parcoords\",\"line\":{\"colorbar\":{\"outlinewidth\":0,\"ticks\":\"\"}}}],\"scatterpolargl\":[{\"type\":\"scatterpolargl\",\"marker\":{\"colorbar\":{\"outlinewidth\":0,\"ticks\":\"\"}}}],\"bar\":[{\"error_x\":{\"color\":\"#2a3f5f\"},\"error_y\":{\"color\":\"#2a3f5f\"},\"marker\":{\"line\":{\"color\":\"#E5ECF6\",\"width\":0.5},\"pattern\":{\"fillmode\":\"overlay\",\"size\":10,\"solidity\":0.2}},\"type\":\"bar\"}],\"scattergeo\":[{\"type\":\"scattergeo\",\"marker\":{\"colorbar\":{\"outlinewidth\":0,\"ticks\":\"\"}}}],\"scatterpolar\":[{\"type\":\"scatterpolar\",\"marker\":{\"colorbar\":{\"outlinewidth\":0,\"ticks\":\"\"}}}],\"histogram\":[{\"marker\":{\"pattern\":{\"fillmode\":\"overlay\",\"size\":10,\"solidity\":0.2}},\"type\":\"histogram\"}],\"scattergl\":[{\"type\":\"scattergl\",\"marker\":{\"colorbar\":{\"outlinewidth\":0,\"ticks\":\"\"}}}],\"scatter3d\":[{\"type\":\"scatter3d\",\"line\":{\"colorbar\":{\"outlinewidth\":0,\"ticks\":\"\"}},\"marker\":{\"colorbar\":{\"outlinewidth\":0,\"ticks\":\"\"}}}],\"scattermapbox\":[{\"type\":\"scattermapbox\",\"marker\":{\"colorbar\":{\"outlinewidth\":0,\"ticks\":\"\"}}}],\"scatterternary\":[{\"type\":\"scatterternary\",\"marker\":{\"colorbar\":{\"outlinewidth\":0,\"ticks\":\"\"}}}],\"scattercarpet\":[{\"type\":\"scattercarpet\",\"marker\":{\"colorbar\":{\"outlinewidth\":0,\"ticks\":\"\"}}}],\"carpet\":[{\"aaxis\":{\"endlinecolor\":\"#2a3f5f\",\"gridcolor\":\"white\",\"linecolor\":\"white\",\"minorgridcolor\":\"white\",\"startlinecolor\":\"#2a3f5f\"},\"baxis\":{\"endlinecolor\":\"#2a3f5f\",\"gridcolor\":\"white\",\"linecolor\":\"white\",\"minorgridcolor\":\"white\",\"startlinecolor\":\"#2a3f5f\"},\"type\":\"carpet\"}],\"table\":[{\"cells\":{\"fill\":{\"color\":\"#EBF0F8\"},\"line\":{\"color\":\"white\"}},\"header\":{\"fill\":{\"color\":\"#C8D4E3\"},\"line\":{\"color\":\"white\"}},\"type\":\"table\"}],\"barpolar\":[{\"marker\":{\"line\":{\"color\":\"#E5ECF6\",\"width\":0.5},\"pattern\":{\"fillmode\":\"overlay\",\"size\":10,\"solidity\":0.2}},\"type\":\"barpolar\"}],\"pie\":[{\"automargin\":true,\"type\":\"pie\"}]},\"layout\":{\"autotypenumbers\":\"strict\",\"colorway\":[\"#636efa\",\"#EF553B\",\"#00cc96\",\"#ab63fa\",\"#FFA15A\",\"#19d3f3\",\"#FF6692\",\"#B6E880\",\"#FF97FF\",\"#FECB52\"],\"font\":{\"color\":\"#2a3f5f\"},\"hovermode\":\"closest\",\"hoverlabel\":{\"align\":\"left\"},\"paper_bgcolor\":\"white\",\"plot_bgcolor\":\"#E5ECF6\",\"polar\":{\"bgcolor\":\"#E5ECF6\",\"angularaxis\":{\"gridcolor\":\"white\",\"linecolor\":\"white\",\"ticks\":\"\"},\"radialaxis\":{\"gridcolor\":\"white\",\"linecolor\":\"white\",\"ticks\":\"\"}},\"ternary\":{\"bgcolor\":\"#E5ECF6\",\"aaxis\":{\"gridcolor\":\"white\",\"linecolor\":\"white\",\"ticks\":\"\"},\"baxis\":{\"gridcolor\":\"white\",\"linecolor\":\"white\",\"ticks\":\"\"},\"caxis\":{\"gridcolor\":\"white\",\"linecolor\":\"white\",\"ticks\":\"\"}},\"coloraxis\":{\"colorbar\":{\"outlinewidth\":0,\"ticks\":\"\"}},\"colorscale\":{\"sequential\":[[0.0,\"#0d0887\"],[0.1111111111111111,\"#46039f\"],[0.2222222222222222,\"#7201a8\"],[0.3333333333333333,\"#9c179e\"],[0.4444444444444444,\"#bd3786\"],[0.5555555555555556,\"#d8576b\"],[0.6666666666666666,\"#ed7953\"],[0.7777777777777778,\"#fb9f3a\"],[0.8888888888888888,\"#fdca26\"],[1.0,\"#f0f921\"]],\"sequentialminus\":[[0.0,\"#0d0887\"],[0.1111111111111111,\"#46039f\"],[0.2222222222222222,\"#7201a8\"],[0.3333333333333333,\"#9c179e\"],[0.4444444444444444,\"#bd3786\"],[0.5555555555555556,\"#d8576b\"],[0.6666666666666666,\"#ed7953\"],[0.7777777777777778,\"#fb9f3a\"],[0.8888888888888888,\"#fdca26\"],[1.0,\"#f0f921\"]],\"diverging\":[[0,\"#8e0152\"],[0.1,\"#c51b7d\"],[0.2,\"#de77ae\"],[0.3,\"#f1b6da\"],[0.4,\"#fde0ef\"],[0.5,\"#f7f7f7\"],[0.6,\"#e6f5d0\"],[0.7,\"#b8e186\"],[0.8,\"#7fbc41\"],[0.9,\"#4d9221\"],[1,\"#276419\"]]},\"xaxis\":{\"gridcolor\":\"white\",\"linecolor\":\"white\",\"ticks\":\"\",\"title\":{\"standoff\":15},\"zerolinecolor\":\"white\",\"automargin\":true,\"zerolinewidth\":2},\"yaxis\":{\"gridcolor\":\"white\",\"linecolor\":\"white\",\"ticks\":\"\",\"title\":{\"standoff\":15},\"zerolinecolor\":\"white\",\"automargin\":true,\"zerolinewidth\":2},\"scene\":{\"xaxis\":{\"backgroundcolor\":\"#E5ECF6\",\"gridcolor\":\"white\",\"linecolor\":\"white\",\"showbackground\":true,\"ticks\":\"\",\"zerolinecolor\":\"white\",\"gridwidth\":2},\"yaxis\":{\"backgroundcolor\":\"#E5ECF6\",\"gridcolor\":\"white\",\"linecolor\":\"white\",\"showbackground\":true,\"ticks\":\"\",\"zerolinecolor\":\"white\",\"gridwidth\":2},\"zaxis\":{\"backgroundcolor\":\"#E5ECF6\",\"gridcolor\":\"white\",\"linecolor\":\"white\",\"showbackground\":true,\"ticks\":\"\",\"zerolinecolor\":\"white\",\"gridwidth\":2}},\"shapedefaults\":{\"line\":{\"color\":\"#2a3f5f\"}},\"annotationdefaults\":{\"arrowcolor\":\"#2a3f5f\",\"arrowhead\":0,\"arrowwidth\":1},\"geo\":{\"bgcolor\":\"white\",\"landcolor\":\"#E5ECF6\",\"subunitcolor\":\"white\",\"showland\":true,\"showlakes\":true,\"lakecolor\":\"white\"},\"title\":{\"x\":0.05},\"mapbox\":{\"style\":\"light\"}}},\"xaxis\":{\"anchor\":\"y\",\"domain\":[0.0,1.0],\"title\":{\"text\":\"Cliente_cancelado\"},\"categoryorder\":\"array\",\"categoryarray\":[\"No\",\"Si\"]},\"yaxis\":{\"anchor\":\"x\",\"domain\":[0.0,1.0],\"title\":{\"text\":\"count\"}},\"legend\":{\"title\":{\"text\":\"Cliente_cancelado\"},\"tracegroupgap\":0},\"title\":{\"text\":\"Distribución de Cancelación (Churn)\"},\"barmode\":\"relative\"},                        {\"responsive\": true}                    ).then(function(){\n",
              "                            \n",
              "var gd = document.getElementById('1b1a9e9e-947b-46e2-beef-009a45bb6260');\n",
              "var x = new MutationObserver(function (mutations, observer) {{\n",
              "        var display = window.getComputedStyle(gd).display;\n",
              "        if (!display || display === 'none') {{\n",
              "            console.log([gd, 'removed!']);\n",
              "            Plotly.purge(gd);\n",
              "            observer.disconnect();\n",
              "        }}\n",
              "}});\n",
              "\n",
              "// Listen for the removal of the full notebook cells\n",
              "var notebookContainer = gd.closest('#notebook-container');\n",
              "if (notebookContainer) {{\n",
              "    x.observe(notebookContainer, {childList: true});\n",
              "}}\n",
              "\n",
              "// Listen for the clearing of the current output cell\n",
              "var outputEl = gd.closest('.output');\n",
              "if (outputEl) {{\n",
              "    x.observe(outputEl, {childList: true});\n",
              "}}\n",
              "\n",
              "                        })                };                            </script>        </div>\n",
              "</body>\n",
              "</html>"
            ]
          },
          "metadata": {}
        }
      ]
    },
    {
      "cell_type": "markdown",
      "source": [
        "Para ver la relacion en porcentajes"
      ],
      "metadata": {
        "id": "DsVP9jiaPPyf"
      }
    },
    {
      "cell_type": "code",
      "source": [
        "df['Cliente_cancelado'].value_counts(normalize=True)*100"
      ],
      "metadata": {
        "id": "NhkwqsHFPCq-",
        "outputId": "17b6399c-7627-4787-fdc9-22aca0a26acd",
        "colab": {
          "base_uri": "https://localhost:8080/",
          "height": 178
        }
      },
      "execution_count": 670,
      "outputs": [
        {
          "output_type": "execute_result",
          "data": {
            "text/plain": [
              "Cliente_cancelado\n",
              "No    72.088802\n",
              "Si    27.911198\n",
              "Name: proportion, dtype: float64"
            ],
            "text/html": [
              "<div>\n",
              "<style scoped>\n",
              "    .dataframe tbody tr th:only-of-type {\n",
              "        vertical-align: middle;\n",
              "    }\n",
              "\n",
              "    .dataframe tbody tr th {\n",
              "        vertical-align: top;\n",
              "    }\n",
              "\n",
              "    .dataframe thead th {\n",
              "        text-align: right;\n",
              "    }\n",
              "</style>\n",
              "<table border=\"1\" class=\"dataframe\">\n",
              "  <thead>\n",
              "    <tr style=\"text-align: right;\">\n",
              "      <th></th>\n",
              "      <th>proportion</th>\n",
              "    </tr>\n",
              "    <tr>\n",
              "      <th>Cliente_cancelado</th>\n",
              "      <th></th>\n",
              "    </tr>\n",
              "  </thead>\n",
              "  <tbody>\n",
              "    <tr>\n",
              "      <th>No</th>\n",
              "      <td>72.088802</td>\n",
              "    </tr>\n",
              "    <tr>\n",
              "      <th>Si</th>\n",
              "      <td>27.911198</td>\n",
              "    </tr>\n",
              "  </tbody>\n",
              "</table>\n",
              "</div><br><label><b>dtype:</b> float64</label>"
            ]
          },
          "metadata": {},
          "execution_count": 670
        }
      ]
    },
    {
      "cell_type": "code",
      "source": [
        "df['Cliente_cancelado'].value_counts()"
      ],
      "metadata": {
        "id": "NNG9ukVNE267",
        "outputId": "e0f67b11-d448-46dc-b642-76ecdebad74f",
        "colab": {
          "base_uri": "https://localhost:8080/",
          "height": 178
        }
      },
      "execution_count": 671,
      "outputs": [
        {
          "output_type": "execute_result",
          "data": {
            "text/plain": [
              "Cliente_cancelado\n",
              "No    5163\n",
              "Si    1999\n",
              "Name: count, dtype: int64"
            ],
            "text/html": [
              "<div>\n",
              "<style scoped>\n",
              "    .dataframe tbody tr th:only-of-type {\n",
              "        vertical-align: middle;\n",
              "    }\n",
              "\n",
              "    .dataframe tbody tr th {\n",
              "        vertical-align: top;\n",
              "    }\n",
              "\n",
              "    .dataframe thead th {\n",
              "        text-align: right;\n",
              "    }\n",
              "</style>\n",
              "<table border=\"1\" class=\"dataframe\">\n",
              "  <thead>\n",
              "    <tr style=\"text-align: right;\">\n",
              "      <th></th>\n",
              "      <th>count</th>\n",
              "    </tr>\n",
              "    <tr>\n",
              "      <th>Cliente_cancelado</th>\n",
              "      <th></th>\n",
              "    </tr>\n",
              "  </thead>\n",
              "  <tbody>\n",
              "    <tr>\n",
              "      <th>No</th>\n",
              "      <td>5163</td>\n",
              "    </tr>\n",
              "    <tr>\n",
              "      <th>Si</th>\n",
              "      <td>1999</td>\n",
              "    </tr>\n",
              "  </tbody>\n",
              "</table>\n",
              "</div><br><label><b>dtype:</b> int64</label>"
            ]
          },
          "metadata": {},
          "execution_count": 671
        }
      ]
    },
    {
      "cell_type": "markdown",
      "source": [
        "¡Hola, espero que este bien.\n",
        "\n",
        "En este caso, como el objetivo es predecir si un cliente va a cancelar o no el servicio, estamos trabajando con una variable categórica (churn: sí o no).\n",
        "\n",
        "Por eso, los modelos adecuados son los de clasificación, como `DecisionTreeClassifier` o `KNeighborsClassifier`, que fueron los que vimos en las clases.\n",
        "\n",
        "Los modelos como `DecisionTreeRegressor` o `KNeighborsRegressor` se utilizan cuando la variable objetivo es numérica continua, como por ejemplo predecir un monto de gasto o la duración de un contrato en meses.\n",
        "\n",
        "Entonces, para este desafío, debes usar los clasificadores porque lo que queremos es clasificar a los clientes entre los que se quedarán y los que harán churn.\n",
        "\n",
        "Espero que eso aclare tu duda, cualquier cosa me avisas. ¡Ánimo con el resto del desafío!"
      ],
      "metadata": {
        "id": "DFimdjqWCTdH"
      }
    },
    {
      "cell_type": "markdown",
      "source": [
        "### Ajustes de modelo sin balanceo, a modo de referencia. - Baseline"
      ],
      "metadata": {
        "id": "_IlcTBzYU7cZ"
      }
    },
    {
      "cell_type": "code",
      "source": [
        "from sklearn.preprocessing import LabelEncoder\n",
        "from sklearn.compose import make_column_transformer\n",
        "from sklearn.preprocessing import OneHotEncoder\n",
        "X = df.drop('Cliente_cancelado', axis=1)\n",
        "y = df['Cliente_cancelado']\n",
        "columnas = X.columns\n",
        "one_hot = make_column_transformer((OneHotEncoder(drop='if_binary'),['Tiene_Dependientes','Mayor_de_65_años','Tipo_de_Contrato','Metodo_Pago']), remainder='passthrough',sparse_threshold=0,force_int_remainder_cols=False)\n",
        "X = one_hot.fit_transform(X)\n",
        "one_hot.get_feature_names_out(columnas)\n",
        "label_encoder = LabelEncoder()\n",
        "y = label_encoder.fit_transform(y)"
      ],
      "metadata": {
        "id": "1QlSsOiqFsHp"
      },
      "execution_count": 672,
      "outputs": []
    },
    {
      "cell_type": "code",
      "source": [
        "from sklearn.tree import DecisionTreeClassifier\n",
        "from sklearn.model_selection import train_test_split\n",
        "X,X_test,y, y_test = train_test_split(X, y, test_size=0.15, stratify=y, random_state= 5)\n",
        "X_train,X_val,y_train, y_val   = train_test_split(X, y, test_size=0.15, stratify=y, random_state= 5)\n",
        "Baseline = DecisionTreeClassifier(max_depth=10)\n",
        "Baseline.fit(X_train, y_train)\n",
        "Baseline.score(X_val, y_val)"
      ],
      "metadata": {
        "id": "pZ30SNYtZlPy",
        "outputId": "0fcdf2f0-7765-4277-9959-b630de8b99ca",
        "colab": {
          "base_uri": "https://localhost:8080/"
        }
      },
      "execution_count": 673,
      "outputs": [
        {
          "output_type": "execute_result",
          "data": {
            "text/plain": [
              "0.74945295404814"
            ]
          },
          "metadata": {},
          "execution_count": 673
        }
      ]
    },
    {
      "cell_type": "code",
      "source": [
        "from sklearn.metrics import classification_report\n",
        "y_pred = Baseline.predict(X_val)\n",
        "print(classification_report(y_val, y_pred))"
      ],
      "metadata": {
        "id": "IwgOy0j7GckO",
        "outputId": "0e02acc4-b480-4d6a-9a7a-6af330f04091",
        "colab": {
          "base_uri": "https://localhost:8080/"
        }
      },
      "execution_count": 674,
      "outputs": [
        {
          "output_type": "stream",
          "name": "stdout",
          "text": [
            "              precision    recall  f1-score   support\n",
            "\n",
            "           0       0.81      0.85      0.83       659\n",
            "           1       0.56      0.48      0.52       255\n",
            "\n",
            "    accuracy                           0.75       914\n",
            "   macro avg       0.68      0.67      0.67       914\n",
            "weighted avg       0.74      0.75      0.74       914\n",
            "\n"
          ]
        }
      ]
    },
    {
      "cell_type": "markdown",
      "source": [
        "Clase 0 Sigue en Telecom\n",
        "\n",
        "Clase 1 Se fue de Telecom (Los que queremos poder predecir)\n",
        "\n",
        "Accurary es el tamaño de la muestra (914 muestras en total)\n",
        "\n",
        "De los 914 de la muestra total, 659 se mantuvieron en Telecom y 255 se fueron. Hay un fuerte desbalanceo a favor de los que ya estan en telecom, por lo que nuestro modelo tiende a clasificar mejor a los que ya estan en telecom.\n"
      ],
      "metadata": {
        "id": "U8IYwTm4H3qv"
      }
    },
    {
      "cell_type": "code",
      "source": [
        "# Validacion cruzada de la exactitud\n",
        "from sklearn.model_selection import KFold,cross_validate\n",
        "kf = KFold(n_splits = 5, shuffle = True, random_state=5)\n",
        "cv_resultados = cross_validate (Baseline,X,y,cv=kf)\n",
        "promedio = cv_resultados['test_score'].mean()\n",
        "desvio_std = cv_resultados['test_score'].std()\n",
        "print(f'El promedio es: {promedio}')\n",
        "print(f'El desvio estandar es: {desvio_std}')\n",
        "print(f'El intervalo de confianza es: [{promedio - 2*desvio_std}, {min(promedio +2*desvio_std,1)}')"
      ],
      "metadata": {
        "id": "6rHHvBpIMhCZ",
        "outputId": "c2b108e8-6c85-42a0-e1da-6064cfda7764",
        "colab": {
          "base_uri": "https://localhost:8080/"
        }
      },
      "execution_count": 675,
      "outputs": [
        {
          "output_type": "stream",
          "name": "stdout",
          "text": [
            "El promedio es: 0.754886912688743\n",
            "El desvio estandar es: 0.005288288962124381\n",
            "El intervalo de confianza es: [0.7443103347644943, 0.7654634906129917\n"
          ]
        }
      ]
    },
    {
      "cell_type": "code",
      "source": [
        "def intervalo_confianza (resultados):\n",
        "  promedio = resultados['test_score'].mean()\n",
        "  desvio_std = resultados['test_score'].std()\n",
        "  return f'El intervalo de confianza es: [{promedio - 2*desvio_std}, {min(promedio +2*desvio_std,1)}'"
      ],
      "metadata": {
        "id": "efdHoF57WjIM"
      },
      "execution_count": 676,
      "outputs": []
    },
    {
      "cell_type": "code",
      "source": [
        "from sklearn.model_selection import StratifiedKFold\n",
        "skf = StratifiedKFold(n_splits = 5, shuffle = True, random_state=5)\n",
        "cv_resultados = cross_validate (Baseline,X,y,cv=skf, scoring='recall')\n",
        "intervalo_confianza(cv_resultados)"
      ],
      "metadata": {
        "id": "_JR0u8iFW2sp",
        "outputId": "bcb9b6b9-1ba0-4f65-c817-f12b4b12eaa0",
        "colab": {
          "base_uri": "https://localhost:8080/",
          "height": 35
        }
      },
      "execution_count": 677,
      "outputs": [
        {
          "output_type": "execute_result",
          "data": {
            "text/plain": [
              "'El intervalo de confianza es: [0.45020640694593583, 0.5940032061028234'"
            ],
            "application/vnd.google.colaboratory.intrinsic+json": {
              "type": "string"
            }
          },
          "metadata": {},
          "execution_count": 677
        }
      ]
    },
    {
      "cell_type": "markdown",
      "source": [
        "### Balanceo de Clases (OverSampling)\n",
        "Si deseas profundizar en el análisis, aplica técnicas de balanceo como undersampling o oversampling. En situaciones de fuerte desbalanceo, herramientas como SMOTE pueden ser útiles para generar ejemplos sintéticos de la clase minoritaria."
      ],
      "metadata": {
        "id": "NYZ6QoKYGD1J"
      }
    },
    {
      "cell_type": "code",
      "source": [
        "from sklearn.preprocessing import LabelEncoder\n",
        "from sklearn.compose import make_column_transformer\n",
        "from sklearn.preprocessing import OneHotEncoder\n",
        "\n",
        "X = df.drop('Cliente_cancelado', axis=1)\n",
        "y = df['Cliente_cancelado']\n",
        "columnas = X.columns\n",
        "one_hot = make_column_transformer((OneHotEncoder(drop='if_binary'),['Tiene_Dependientes','Mayor_de_65_años','Tipo_de_Contrato','Metodo_Pago']), remainder='passthrough',sparse_threshold=0,force_int_remainder_cols=False)\n",
        "X = one_hot.fit_transform(X)\n",
        "one_hot.get_feature_names_out(columnas)\n",
        "label_encoder = LabelEncoder()\n",
        "y = label_encoder.fit_transform(y)"
      ],
      "metadata": {
        "id": "0-mArLjAFvQt"
      },
      "execution_count": 678,
      "outputs": []
    },
    {
      "cell_type": "code",
      "source": [
        "from imblearn.over_sampling import SMOTE\n",
        "import pandas as pd\n",
        "over_sampling = SMOTE()\n",
        "X_balanceada_over,y_balanceada_over = over_sampling.fit_resample(X,y)\n",
        "pd.Series(y_balanceada_over).value_counts()"
      ],
      "metadata": {
        "id": "uNnhgCPGGKGy",
        "outputId": "067be944-a7db-4da0-b4d7-7cd30b66a0d4",
        "colab": {
          "base_uri": "https://localhost:8080/",
          "height": 147
        }
      },
      "execution_count": 679,
      "outputs": [
        {
          "output_type": "execute_result",
          "data": {
            "text/plain": [
              "0    5163\n",
              "1    5163\n",
              "Name: count, dtype: int64"
            ],
            "text/html": [
              "<div>\n",
              "<style scoped>\n",
              "    .dataframe tbody tr th:only-of-type {\n",
              "        vertical-align: middle;\n",
              "    }\n",
              "\n",
              "    .dataframe tbody tr th {\n",
              "        vertical-align: top;\n",
              "    }\n",
              "\n",
              "    .dataframe thead th {\n",
              "        text-align: right;\n",
              "    }\n",
              "</style>\n",
              "<table border=\"1\" class=\"dataframe\">\n",
              "  <thead>\n",
              "    <tr style=\"text-align: right;\">\n",
              "      <th></th>\n",
              "      <th>count</th>\n",
              "    </tr>\n",
              "  </thead>\n",
              "  <tbody>\n",
              "    <tr>\n",
              "      <th>0</th>\n",
              "      <td>5163</td>\n",
              "    </tr>\n",
              "    <tr>\n",
              "      <th>1</th>\n",
              "      <td>5163</td>\n",
              "    </tr>\n",
              "  </tbody>\n",
              "</table>\n",
              "</div><br><label><b>dtype:</b> int64</label>"
            ]
          },
          "metadata": {},
          "execution_count": 679
        }
      ]
    },
    {
      "cell_type": "code",
      "source": [
        "from sklearn.model_selection import StratifiedKFold\n",
        "modelo = DecisionTreeClassifier(max_depth=10)\n",
        "skf = StratifiedKFold(n_splits = 5, shuffle = True, random_state=5)\n",
        "cv_resultados = cross_validate (modelo,X_balanceada_over,y_balanceada_over,cv=skf, scoring='recall')\n",
        "intervalo_confianza(cv_resultados)"
      ],
      "metadata": {
        "colab": {
          "base_uri": "https://localhost:8080/",
          "height": 35
        },
        "id": "BDR7PPhlefKk",
        "outputId": "734e0b06-aed3-402e-fd98-fa89290ec3dd"
      },
      "execution_count": 680,
      "outputs": [
        {
          "output_type": "execute_result",
          "data": {
            "text/plain": [
              "'El intervalo de confianza es: [0.8003904547386992, 0.8416812563158796'"
            ],
            "application/vnd.google.colaboratory.intrinsic+json": {
              "type": "string"
            }
          },
          "metadata": {},
          "execution_count": 680
        }
      ]
    },
    {
      "cell_type": "markdown",
      "source": [
        "#### Pipeline para la validacion\n",
        "\n",
        "**Debemos entrenar con los datos balanceados pero a la hora de validar, hay que hacerlo con datos reales (desbalanceados).**\n",
        "\n",
        "\n"
      ],
      "metadata": {
        "id": "eisv7U-ouaru"
      }
    },
    {
      "cell_type": "code",
      "source": [
        "from imblearn.pipeline import Pipeline as imbpipeline\n",
        "modelo = DecisionTreeClassifier(max_depth=10)\n",
        "pipeline = imbpipeline([('oversample', SMOTE()), ('arbol', modelo)])\n",
        "skf = StratifiedKFold(n_splits = 5, shuffle = True, random_state=5)\n",
        "cv_resultados = cross_validate (pipeline,X,y,cv=skf, scoring='recall')\n",
        "intervalo_confianza(cv_resultados)"
      ],
      "metadata": {
        "colab": {
          "base_uri": "https://localhost:8080/",
          "height": 35
        },
        "id": "ahQQUduIucKZ",
        "outputId": "cd7e747c-888d-4e8f-e7f7-0e21d81635af"
      },
      "execution_count": 681,
      "outputs": [
        {
          "output_type": "execute_result",
          "data": {
            "text/plain": [
              "'El intervalo de confianza es: [0.5307824064687493, 0.6728591975412758'"
            ],
            "application/vnd.google.colaboratory.intrinsic+json": {
              "type": "string"
            }
          },
          "metadata": {},
          "execution_count": 681
        }
      ]
    },
    {
      "cell_type": "markdown",
      "source": [
        "### Balanceo de Clases (UnderSampling)"
      ],
      "metadata": {
        "id": "UWiFaQ_hSvY8"
      }
    },
    {
      "cell_type": "code",
      "source": [
        "from sklearn.preprocessing import LabelEncoder\n",
        "from sklearn.compose import make_column_transformer\n",
        "from sklearn.preprocessing import OneHotEncoder\n",
        "\n",
        "X = df.drop('Cliente_cancelado', axis=1)\n",
        "y = df['Cliente_cancelado']\n",
        "columnas = X.columns\n",
        "one_hot = make_column_transformer((OneHotEncoder(drop='if_binary'),['Tiene_Dependientes','Mayor_de_65_años','Tipo_de_Contrato','Metodo_Pago']), remainder='passthrough',sparse_threshold=0,force_int_remainder_cols=False)\n",
        "X = one_hot.fit_transform(X)\n",
        "one_hot.get_feature_names_out(columnas)\n",
        "label_encoder = LabelEncoder()\n",
        "y = label_encoder.fit_transform(y)"
      ],
      "metadata": {
        "id": "LEVWc-8IFx93"
      },
      "execution_count": 682,
      "outputs": []
    },
    {
      "cell_type": "code",
      "source": [
        "from imblearn.under_sampling import NearMiss\n",
        "under_sampling = NearMiss(version = 3)\n",
        "X_balanceada_under,y_balanceada_under = under_sampling.fit_resample(X,y)\n",
        "pd.Series(y_balanceada_under).value_counts()"
      ],
      "metadata": {
        "id": "mi91NXvPSn9_",
        "outputId": "364be594-0158-4397-d1ba-97a1760add5a",
        "colab": {
          "base_uri": "https://localhost:8080/",
          "height": 147
        }
      },
      "execution_count": 683,
      "outputs": [
        {
          "output_type": "execute_result",
          "data": {
            "text/plain": [
              "0    1999\n",
              "1    1999\n",
              "Name: count, dtype: int64"
            ],
            "text/html": [
              "<div>\n",
              "<style scoped>\n",
              "    .dataframe tbody tr th:only-of-type {\n",
              "        vertical-align: middle;\n",
              "    }\n",
              "\n",
              "    .dataframe tbody tr th {\n",
              "        vertical-align: top;\n",
              "    }\n",
              "\n",
              "    .dataframe thead th {\n",
              "        text-align: right;\n",
              "    }\n",
              "</style>\n",
              "<table border=\"1\" class=\"dataframe\">\n",
              "  <thead>\n",
              "    <tr style=\"text-align: right;\">\n",
              "      <th></th>\n",
              "      <th>count</th>\n",
              "    </tr>\n",
              "  </thead>\n",
              "  <tbody>\n",
              "    <tr>\n",
              "      <th>0</th>\n",
              "      <td>1999</td>\n",
              "    </tr>\n",
              "    <tr>\n",
              "      <th>1</th>\n",
              "      <td>1999</td>\n",
              "    </tr>\n",
              "  </tbody>\n",
              "</table>\n",
              "</div><br><label><b>dtype:</b> int64</label>"
            ]
          },
          "metadata": {},
          "execution_count": 683
        }
      ]
    },
    {
      "cell_type": "code",
      "source": [
        "from sklearn.model_selection import StratifiedKFold\n",
        "skf = StratifiedKFold(n_splits = 5, shuffle = True, random_state=5)\n",
        "cv_resultados = cross_validate (Baseline,X_balanceada_under,y_balanceada_under,cv=skf, scoring='recall')\n",
        "intervalo_confianza(cv_resultados)"
      ],
      "metadata": {
        "id": "9hozcGBCYNAr",
        "outputId": "c34a2bc3-a819-4c2b-acbf-f6a88a437730",
        "colab": {
          "base_uri": "https://localhost:8080/",
          "height": 35
        }
      },
      "execution_count": 684,
      "outputs": [
        {
          "output_type": "execute_result",
          "data": {
            "text/plain": [
              "'El intervalo de confianza es: [0.5939621428050427, 0.6957145489242805'"
            ],
            "application/vnd.google.colaboratory.intrinsic+json": {
              "type": "string"
            }
          },
          "metadata": {},
          "execution_count": 684
        }
      ]
    },
    {
      "cell_type": "markdown",
      "source": [
        "#### Pipeline para la validacion\n",
        "\n",
        "**Debemos entrenar con los datos balanceados pero a la hora de validar, hay que hacerlo con datos reales (desbalanceados).**\n",
        "\n",
        "\n"
      ],
      "metadata": {
        "id": "EFudDK9ZuSR8"
      }
    },
    {
      "cell_type": "code",
      "source": [
        "from imblearn.pipeline import Pipeline as imbpipeline\n",
        "modelo = DecisionTreeClassifier(max_depth=10)\n",
        "pipeline = imbpipeline([('undersample', NearMiss(version = 3)), ('arbol', modelo)])\n",
        "skf = StratifiedKFold(n_splits = 5, shuffle = True, random_state=5)\n",
        "cv_resultados = cross_validate (pipeline,X,y,cv=skf, scoring='recall')\n",
        "intervalo_confianza(cv_resultados)"
      ],
      "metadata": {
        "colab": {
          "base_uri": "https://localhost:8080/",
          "height": 35
        },
        "id": "tcT0HzqSt2CV",
        "outputId": "27009456-560c-4211-982b-1f2fc94616e7"
      },
      "execution_count": 685,
      "outputs": [
        {
          "output_type": "execute_result",
          "data": {
            "text/plain": [
              "'El intervalo de confianza es: [0.5886270879148231, 0.7260370724861794'"
            ],
            "application/vnd.google.colaboratory.intrinsic+json": {
              "type": "string"
            }
          },
          "metadata": {},
          "execution_count": 685
        }
      ]
    },
    {
      "cell_type": "markdown",
      "source": [
        "### Resultado parcial de los balanceos\n",
        "\n",
        "Aparentemente, en nuestro caso, obtuvimos una exactitud mayor con Oversampling. Pero esta metrica no es la mas indicada. La mas indicada para nuestro caso, es la metrica clase 2, la de sensibilidad o recall. En ese caso, fue el mejor UnderSampling.\n",
        "\n"
      ],
      "metadata": {
        "id": "3yNRoIwogEr6"
      }
    },
    {
      "cell_type": "markdown",
      "source": [
        "#### Pipeline para la validacion final\n",
        "\n",
        "**Debemos entrenar con los datos balanceados pero a la hora de validar, hay que hacerlo con datos reales (desbalanceados).**\n",
        "\n",
        "\n"
      ],
      "metadata": {
        "id": "xjbjbhSJr06Z"
      }
    },
    {
      "cell_type": "code",
      "source": [
        "from sklearn.preprocessing import LabelEncoder\n",
        "from sklearn.compose import make_column_transformer\n",
        "from sklearn.preprocessing import OneHotEncoder\n",
        "from imblearn.under_sampling import NearMiss\n",
        "from imblearn.pipeline import Pipeline as imbpipeline\n",
        "X = df.drop('Cliente_cancelado', axis=1)\n",
        "y = df['Cliente_cancelado']\n",
        "columnas = X.columns\n",
        "one_hot = make_column_transformer((OneHotEncoder(drop='if_binary'),['Tiene_Dependientes','Mayor_de_65_años','Tipo_de_Contrato','Metodo_Pago']), remainder='passthrough',sparse_threshold=0,force_int_remainder_cols=False)\n",
        "X = one_hot.fit_transform(X)\n",
        "one_hot.get_feature_names_out(columnas)\n",
        "label_encoder = LabelEncoder()\n",
        "y = label_encoder.fit_transform(y)\n",
        "modelo = DecisionTreeClassifier(max_depth=10)\n",
        "pipeline = imbpipeline([('undersample', NearMiss(version = 3)), ('arbol', modelo)])\n",
        "skf = StratifiedKFold(n_splits = 5, shuffle = True, random_state=5)\n",
        "cv_resultados = cross_validate (pipeline,X,y,cv=skf, scoring='recall')\n",
        "intervalo_confianza(cv_resultados)"
      ],
      "metadata": {
        "colab": {
          "base_uri": "https://localhost:8080/",
          "height": 35
        },
        "id": "0wMX9nCFsSwi",
        "outputId": "0c6aa035-d6a0-4956-e282-c57daaa81fab"
      },
      "execution_count": 686,
      "outputs": [
        {
          "output_type": "execute_result",
          "data": {
            "text/plain": [
              "'El intervalo de confianza es: [0.592435333324272, 0.7122188020140738'"
            ],
            "application/vnd.google.colaboratory.intrinsic+json": {
              "type": "string"
            }
          },
          "metadata": {},
          "execution_count": 686
        }
      ]
    },
    {
      "cell_type": "markdown",
      "source": [
        "### Probando el modelo actual con Undersample"
      ],
      "metadata": {
        "id": "2hsgRSUPxG0P"
      }
    },
    {
      "cell_type": "code",
      "source": [
        "# Importa la clase para mostrar la matriz de confusión de manera visual\n",
        "from sklearn.metrics import ConfusionMatrixDisplay\n",
        "\n",
        "# Crea una instancia del método NearMiss para undersampling (versión 3),\n",
        "# que reduce la cantidad de muestras de la clase mayoritaria para balancear el dataset\n",
        "undersample = NearMiss(version = 3)\n",
        "\n",
        "# Separa la variable independiente (X) de la variable objetivo (y)\n",
        "X = df.drop('Cliente_cancelado', axis=1)  # Elimina la columna objetivo del DataFrame\n",
        "y = df['Cliente_cancelado']  # Asigna la columna objetivo\n",
        "\n",
        "# Guarda los nombres originales de las columnas para usarlos luego en los nombres codificados\n",
        "columnas = X.columns\n",
        "\n",
        "# Crea un transformador que aplica OneHotEncoding a ciertas columnas categóricas,\n",
        "# y deja pasar el resto de las columnas tal como están\n",
        "one_hot = make_column_transformer(\n",
        "    (OneHotEncoder(drop='if_binary'), ['Tiene_Dependientes', 'Mayor_de_65_años', 'Tipo_de_Contrato', 'Metodo_Pago']),\n",
        "    remainder='passthrough',  # El resto de las columnas pasan sin cambios\n",
        "    sparse_threshold=0,  # El resultado será un array denso (no esparso)\n",
        "    force_int_remainder_cols=False  # No fuerza que las columnas restantes sean tratadas como enteros\n",
        ")\n",
        "\n",
        "# Aplica la transformación one-hot a los datos X\n",
        "X = one_hot.fit_transform(X)\n",
        "\n",
        "# Obtiene los nombres de las nuevas columnas después de aplicar one-hot encoding\n",
        "one_hot.get_feature_names_out(columnas)\n",
        "\n",
        "# Codifica la variable objetivo y en formato numérico usando LabelEncoder (ej. 'Sí' -> 1, 'No' -> 0)\n",
        "label_encoder = LabelEncoder()\n",
        "y = label_encoder.fit_transform(y)\n",
        "\n",
        "# Divide los datos en conjunto de entrenamiento y prueba\n",
        "# 15% se reserva para test, se usa stratify para mantener la proporción de clases\n",
        "X, X_test, y, y_test = train_test_split(X, y, test_size=0.15, stratify=y, random_state=5)\n",
        "\n",
        "# Divide nuevamente los datos restantes en entrenamiento y validación (val también es 15%)\n",
        "X_train, X_val, y_train, y_val = train_test_split(X, y, test_size=0.15, stratify=y, random_state=5)\n",
        "\n",
        "# Aplica undersampling al conjunto completo (X, y) para balancear la cantidad de muestras de cada clase\n",
        "X_balanceado, y_balanceado = undersample.fit_resample(X, y)\n",
        "\n",
        "# Crea y entrena un árbol de decisión con una profundidad máxima de 10 usando los datos balanceados\n",
        "modelo = DecisionTreeClassifier(max_depth=10)\n",
        "modelo.fit(X_balanceado, y_balanceado)\n",
        "\n",
        "# Predice los valores de y en el conjunto de test\n",
        "y_previsto = modelo.predict(X_test)\n",
        "\n",
        "# Imprime un reporte de clasificación con métricas como precisión, recall y F1-score\n",
        "print(classification_report(y_test, y_previsto))\n",
        "\n",
        "# Muestra la matriz de confusión de las predicciones vs valores reales\n",
        "ConfusionMatrixDisplay.from_predictions(y_test, y_previsto);\n"
      ],
      "metadata": {
        "id": "SCZJVmaKxGRB",
        "outputId": "69846313-355e-401a-d001-a965e87dcdbf",
        "colab": {
          "base_uri": "https://localhost:8080/",
          "height": 605
        }
      },
      "execution_count": 687,
      "outputs": [
        {
          "output_type": "stream",
          "name": "stdout",
          "text": [
            "              precision    recall  f1-score   support\n",
            "\n",
            "           0       0.84      0.71      0.77       775\n",
            "           1       0.46      0.66      0.55       300\n",
            "\n",
            "    accuracy                           0.69      1075\n",
            "   macro avg       0.65      0.68      0.66      1075\n",
            "weighted avg       0.74      0.69      0.71      1075\n",
            "\n"
          ]
        },
        {
          "output_type": "display_data",
          "data": {
            "text/plain": [
              "<Figure size 640x480 with 2 Axes>"
            ],
            "image/png": "[encoded data removed]"
          },
          "metadata": {}
        }
      ]
    },
    {
      "cell_type": "markdown",
      "source": [
        "**Tenemos nuestra matriz de confusión:**\n",
        "\n",
        "En el eje Y tenemos los valores reales, 0 siendo cliente de telecom, 1 siendo ex clientes.\n",
        "\n",
        "Y aquí en el eje X tenemos los valores previstos.\n",
        "\n",
        "**Resultados:**\n",
        "\n",
        "De 300 clientes con Churn = 1, 104 clientes fueron previstos como clientes actuales, pero clasifico correctamente a 196 clientes como Churn = 1.\n",
        "De 775 clientes con Churn = 0, clasifico acertivamente a 514.\n",
        "\n",
        "No es para nada un mal modelo, por lo basico que esta pensado. Voy a seguir avanzando con la practica, guiandome cone el Trelo para ver si podemos mejorarlo aun mas.\n",
        "\n"
      ],
      "metadata": {
        "id": "O-Mq2a2h7oMh"
      }
    },
    {
      "cell_type": "markdown",
      "source": [
        "![image.png](data:image/png;base64,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)"
      ],
      "metadata": {
        "id": "Q_BbKX43_xOt"
      }
    },
    {
      "cell_type": "markdown",
      "source": [
        "15% de 2000 muestras despues del undersampling, son 300 guardadas para Test."
      ],
      "metadata": {
        "id": "TV2n9dM6_1dw"
      }
    },
    {
      "cell_type": "markdown",
      "source": [
        "##5° Paso: Análisis de Correlación"
      ],
      "metadata": {
        "id": "TjmFGSCpic-N"
      }
    },
    {
      "cell_type": "markdown",
      "source": [
        "Hasta ahora venimos trabajando con todas las variables del df puestas en X. Pero hay columnas que no son tan importantes como creemos y meten \"ruido\" en nuestro entrenamiento."
      ],
      "metadata": {
        "id": "V6xlpkOGZyB2"
      }
    },
    {
      "cell_type": "markdown",
      "source": [
        "Visualiza la matriz de correlación para identificar relaciones entre las variables numéricas. Presta especial atención a las variables que muestran una mayor correlación con la cancelación, ya que estas pueden ser fuertes candidatas para el modelo predictivo."
      ],
      "metadata": {
        "id": "xTR8bbllaFkl"
      }
    },
    {
      "cell_type": "markdown",
      "source": [
        "\n",
        "\n",
        "```\n",
        "Para calcular la correlación, debemos convertirlo nuevamente en un DataFrame y\n",
        "asignar los nombres correctos a las columnas.\n",
        "\n",
        "```\n",
        "\n"
      ],
      "metadata": {
        "id": "n1jQQNyUTSYx"
      }
    },
    {
      "cell_type": "code",
      "source": [
        "import pandas as pd\n",
        "import numpy as np\n",
        "import seaborn as sns\n",
        "import matplotlib.pyplot as plt\n",
        "# Importa la clase para mostrar la matriz de confusión de manera visual\n",
        "from sklearn.metrics import ConfusionMatrixDisplay\n",
        "\n",
        "# Crea una instancia del método NearMiss para undersampling (versión 3),\n",
        "# que reduce la cantidad de muestras de la clase mayoritaria para balancear el dataset\n",
        "undersample = NearMiss(version = 3)\n",
        "\n",
        "# Separa la variable independiente (X) de la variable objetivo (y)\n",
        "X = df.drop('Cliente_cancelado', axis=1)  # Elimina la columna objetivo del DataFrame\n",
        "y = df['Cliente_cancelado']  # Asigna la columna objetivo\n",
        "\n",
        "# Guarda los nombres originales de las columnas para usarlos luego en los nombres codificados\n",
        "columnas = X.columns\n",
        "\n",
        "# Crea un transformador que aplica OneHotEncoding a ciertas columnas categóricas,\n",
        "# y deja pasar el resto de las columnas tal como están\n",
        "one_hot = make_column_transformer(\n",
        "    (OneHotEncoder(drop='first'), ['Tiene_Dependientes', 'Mayor_de_65_años', 'Tipo_de_Contrato', 'Metodo_Pago']),\n",
        "    remainder='passthrough',  # El resto de las columnas pasan sin cambios\n",
        "    sparse_threshold=0,  # El resultado será un array denso (no esparso)\n",
        "    force_int_remainder_cols=False  # No fuerza que las columnas restantes sean tratadas como enteros\n",
        ")\n",
        "\n",
        "# Aplica la transformación one-hot a los datos X\n",
        "X = one_hot.fit_transform(X)\n",
        "\n",
        "# Obtiene los nombres de las nuevas columnas después de aplicar one-hot encoding\n",
        "one_hot.get_feature_names_out(columnas)\n",
        "\n",
        "# Codifica la variable objetivo y en formato numérico usando LabelEncoder (ej. 'Sí' -> 1, 'No' -> 0)\n",
        "label_encoder = LabelEncoder()\n",
        "y = label_encoder.fit_transform(y)\n",
        "\n",
        "# Recupera los nombres de las columnas transformadas\n",
        "columnas_transformadas = one_hot.get_feature_names_out(columnas)\n",
        "\n",
        "# Convierte X (que está en formato NumPy array) en un DataFrame con los nombres correctos\n",
        "X_df = pd.DataFrame(X, columns=columnas_transformadas)\n",
        "\n",
        "# Añade la variable objetivo como una nueva columna al DataFrame\n",
        "X_df['Cliente_cancelado'] = y"
      ],
      "metadata": {
        "id": "y1TopAjSSjmF"
      },
      "execution_count": 688,
      "outputs": []
    },
    {
      "cell_type": "code",
      "source": [
        "X_df"
      ],
      "metadata": {
        "id": "ahkGC1PFSm0q",
        "outputId": "43c45967-6db5-4c22-f971-cafd942c06ca",
        "colab": {
          "base_uri": "https://localhost:8080/",
          "height": 461
        }
      },
      "execution_count": 689,
      "outputs": [
        {
          "output_type": "execute_result",
          "data": {
            "text/plain": [
              "      onehotencoder__Tiene_Dependientes_Si  \\\n",
              "0                                      1.0   \n",
              "1                                      0.0   \n",
              "2                                      0.0   \n",
              "3                                      0.0   \n",
              "4                                      0.0   \n",
              "...                                    ...   \n",
              "7157                                   0.0   \n",
              "7158                                   0.0   \n",
              "7159                                   0.0   \n",
              "7160                                   1.0   \n",
              "7161                                   1.0   \n",
              "\n",
              "      onehotencoder__Mayor_de_65_años_Si  \\\n",
              "0                                    0.0   \n",
              "1                                    0.0   \n",
              "2                                    0.0   \n",
              "3                                    1.0   \n",
              "4                                    1.0   \n",
              "...                                  ...   \n",
              "7157                                 0.0   \n",
              "7158                                 0.0   \n",
              "7159                                 0.0   \n",
              "7160                                 0.0   \n",
              "7161                                 0.0   \n",
              "\n",
              "      onehotencoder__Tipo_de_Contrato_One year  \\\n",
              "0                                          1.0   \n",
              "1                                          0.0   \n",
              "2                                          0.0   \n",
              "3                                          0.0   \n",
              "4                                          0.0   \n",
              "...                                        ...   \n",
              "7157                                       1.0   \n",
              "7158                                       0.0   \n",
              "7159                                       0.0   \n",
              "7160                                       0.0   \n",
              "7161                                       0.0   \n",
              "\n",
              "      onehotencoder__Tipo_de_Contrato_Two year  \\\n",
              "0                                          0.0   \n",
              "1                                          0.0   \n",
              "2                                          0.0   \n",
              "3                                          0.0   \n",
              "4                                          0.0   \n",
              "...                                        ...   \n",
              "7157                                       0.0   \n",
              "7158                                       0.0   \n",
              "7159                                       0.0   \n",
              "7160                                       1.0   \n",
              "7161                                       1.0   \n",
              "\n",
              "      onehotencoder__Metodo_Pago_Credit card (automatic)  \\\n",
              "0                                                   0.0    \n",
              "1                                                   0.0    \n",
              "2                                                   0.0    \n",
              "3                                                   0.0    \n",
              "4                                                   0.0    \n",
              "...                                                 ...    \n",
              "7157                                                0.0    \n",
              "7158                                                0.0    \n",
              "7159                                                0.0    \n",
              "7160                                                0.0    \n",
              "7161                                                0.0    \n",
              "\n",
              "      onehotencoder__Metodo_Pago_Electronic check  \\\n",
              "0                                             0.0   \n",
              "1                                             0.0   \n",
              "2                                             1.0   \n",
              "3                                             1.0   \n",
              "4                                             0.0   \n",
              "...                                           ...   \n",
              "7157                                          0.0   \n",
              "7158                                          1.0   \n",
              "7159                                          0.0   \n",
              "7160                                          0.0   \n",
              "7161                                          1.0   \n",
              "\n",
              "      onehotencoder__Metodo_Pago_Mailed check  remainder__Meses_Contratados  \\\n",
              "0                                         1.0                           9.0   \n",
              "1                                         1.0                           9.0   \n",
              "2                                         0.0                           4.0   \n",
              "3                                         0.0                          13.0   \n",
              "4                                         1.0                           3.0   \n",
              "...                                       ...                           ...   \n",
              "7157                                      1.0                          13.0   \n",
              "7158                                      0.0                          22.0   \n",
              "7159                                      1.0                           2.0   \n",
              "7160                                      1.0                          67.0   \n",
              "7161                                      0.0                          63.0   \n",
              "\n",
              "      remainder__Cobro_Mensual  remainder__Gasto_Total  Cliente_cancelado  \n",
              "0                        65.60                  593.30                  0  \n",
              "1                        59.90                  542.40                  0  \n",
              "2                        73.90                  280.85                  1  \n",
              "3                        98.00                 1237.85                  1  \n",
              "4                        83.90                  267.40                  1  \n",
              "...                        ...                     ...                ...  \n",
              "7157                     55.15                  742.90                  0  \n",
              "7158                     85.10                 1873.70                  1  \n",
              "7159                     50.30                   92.75                  0  \n",
              "7160                     67.85                 4627.65                  0  \n",
              "7161                     59.00                 3707.60                  0  \n",
              "\n",
              "[7162 rows x 11 columns]"
            ],
            "text/html": [
              "\n",
              "  <div id=\"df-8754c730-0fa0-45c6-94f0-39d082b96983\" class=\"colab-df-container\">\n",
              "    <div>\n",
              "<style scoped>\n",
              "    .dataframe tbody tr th:only-of-type {\n",
              "        vertical-align: middle;\n",
              "    }\n",
              "\n",
              "    .dataframe tbody tr th {\n",
              "        vertical-align: top;\n",
              "    }\n",
              "\n",
              "    .dataframe thead th {\n",
              "        text-align: right;\n",
              "    }\n",
              "</style>\n",
              "<table border=\"1\" class=\"dataframe\">\n",
              "  <thead>\n",
              "    <tr style=\"text-align: right;\">\n",
              "      <th></th>\n",
              "      <th>onehotencoder__Tiene_Dependientes_Si</th>\n",
              "      <th>onehotencoder__Mayor_de_65_años_Si</th>\n",
              "      <th>onehotencoder__Tipo_de_Contrato_One year</th>\n",
              "      <th>onehotencoder__Tipo_de_Contrato_Two year</th>\n",
              "      <th>onehotencoder__Metodo_Pago_Credit card (automatic)</th>\n",
              "      <th>onehotencoder__Metodo_Pago_Electronic check</th>\n",
              "      <th>onehotencoder__Metodo_Pago_Mailed check</th>\n",
              "      <th>remainder__Meses_Contratados</th>\n",
              "      <th>remainder__Cobro_Mensual</th>\n",
              "      <th>remainder__Gasto_Total</th>\n",
              "      <th>Cliente_cancelado</th>\n",
              "    </tr>\n",
              "  </thead>\n",
              "  <tbody>\n",
              "    <tr>\n",
              "      <th>0</th>\n",
              "      <td>1.0</td>\n",
              "      <td>0.0</td>\n",
              "      <td>1.0</td>\n",
              "      <td>0.0</td>\n",
              "      <td>0.0</td>\n",
              "      <td>0.0</td>\n",
              "      <td>1.0</td>\n",
              "      <td>9.0</td>\n",
              "      <td>65.60</td>\n",
              "      <td>593.30</td>\n",
              "      <td>0</td>\n",
              "    </tr>\n",
              "    <tr>\n",
              "      <th>1</th>\n",
              "      <td>0.0</td>\n",
              "      <td>0.0</td>\n",
              "      <td>0.0</td>\n",
              "      <td>0.0</td>\n",
              "      <td>0.0</td>\n",
              "      <td>0.0</td>\n",
              "      <td>1.0</td>\n",
              "      <td>9.0</td>\n",
              "      <td>59.90</td>\n",
              "      <td>542.40</td>\n",
              "      <td>0</td>\n",
              "    </tr>\n",
              "    <tr>\n",
              "      <th>2</th>\n",
              "      <td>0.0</td>\n",
              "      <td>0.0</td>\n",
              "      <td>0.0</td>\n",
              "      <td>0.0</td>\n",
              "      <td>0.0</td>\n",
              "      <td>1.0</td>\n",
              "      <td>0.0</td>\n",
              "      <td>4.0</td>\n",
              "      <td>73.90</td>\n",
              "      <td>280.85</td>\n",
              "      <td>1</td>\n",
              "    </tr>\n",
              "    <tr>\n",
              "      <th>3</th>\n",
              "      <td>0.0</td>\n",
              "      <td>1.0</td>\n",
              "      <td>0.0</td>\n",
              "      <td>0.0</td>\n",
              "      <td>0.0</td>\n",
              "      <td>1.0</td>\n",
              "      <td>0.0</td>\n",
              "      <td>13.0</td>\n",
              "      <td>98.00</td>\n",
              "      <td>1237.85</td>\n",
              "      <td>1</td>\n",
              "    </tr>\n",
              "    <tr>\n",
              "      <th>4</th>\n",
              "      <td>0.0</td>\n",
              "      <td>1.0</td>\n",
              "      <td>0.0</td>\n",
              "      <td>0.0</td>\n",
              "      <td>0.0</td>\n",
              "      <td>0.0</td>\n",
              "      <td>1.0</td>\n",
              "      <td>3.0</td>\n",
              "      <td>83.90</td>\n",
              "      <td>267.40</td>\n",
              "      <td>1</td>\n",
              "    </tr>\n",
              "    <tr>\n",
              "      <th>...</th>\n",
              "      <td>...</td>\n",
              "      <td>...</td>\n",
              "      <td>...</td>\n",
              "      <td>...</td>\n",
              "      <td>...</td>\n",
              "      <td>...</td>\n",
              "      <td>...</td>\n",
              "      <td>...</td>\n",
              "      <td>...</td>\n",
              "      <td>...</td>\n",
              "      <td>...</td>\n",
              "    </tr>\n",
              "    <tr>\n",
              "      <th>7157</th>\n",
              "      <td>0.0</td>\n",
              "      <td>0.0</td>\n",
              "      <td>1.0</td>\n",
              "      <td>0.0</td>\n",
              "      <td>0.0</td>\n",
              "      <td>0.0</td>\n",
              "      <td>1.0</td>\n",
              "      <td>13.0</td>\n",
              "      <td>55.15</td>\n",
              "      <td>742.90</td>\n",
              "      <td>0</td>\n",
              "    </tr>\n",
              "    <tr>\n",
              "      <th>7158</th>\n",
              "      <td>0.0</td>\n",
              "      <td>0.0</td>\n",
              "      <td>0.0</td>\n",
              "      <td>0.0</td>\n",
              "      <td>0.0</td>\n",
              "      <td>1.0</td>\n",
              "      <td>0.0</td>\n",
              "      <td>22.0</td>\n",
              "      <td>85.10</td>\n",
              "      <td>1873.70</td>\n",
              "      <td>1</td>\n",
              "    </tr>\n",
              "    <tr>\n",
              "      <th>7159</th>\n",
              "      <td>0.0</td>\n",
              "      <td>0.0</td>\n",
              "      <td>0.0</td>\n",
              "      <td>0.0</td>\n",
              "      <td>0.0</td>\n",
              "      <td>0.0</td>\n",
              "      <td>1.0</td>\n",
              "      <td>2.0</td>\n",
              "      <td>50.30</td>\n",
              "      <td>92.75</td>\n",
              "      <td>0</td>\n",
              "    </tr>\n",
              "    <tr>\n",
              "      <th>7160</th>\n",
              "      <td>1.0</td>\n",
              "      <td>0.0</td>\n",
              "      <td>0.0</td>\n",
              "      <td>1.0</td>\n",
              "      <td>0.0</td>\n",
              "      <td>0.0</td>\n",
              "      <td>1.0</td>\n",
              "      <td>67.0</td>\n",
              "      <td>67.85</td>\n",
              "      <td>4627.65</td>\n",
              "      <td>0</td>\n",
              "    </tr>\n",
              "    <tr>\n",
              "      <th>7161</th>\n",
              "      <td>1.0</td>\n",
              "      <td>0.0</td>\n",
              "      <td>0.0</td>\n",
              "      <td>1.0</td>\n",
              "      <td>0.0</td>\n",
              "      <td>1.0</td>\n",
              "      <td>0.0</td>\n",
              "      <td>63.0</td>\n",
              "      <td>59.00</td>\n",
              "      <td>3707.60</td>\n",
              "      <td>0</td>\n",
              "    </tr>\n",
              "  </tbody>\n",
              "</table>\n",
              "<p>7162 rows × 11 columns</p>\n",
              "</div>\n",
              "    <div class=\"colab-df-buttons\">\n",
              "\n",
              "  <div class=\"colab-df-container\">\n",
              "    <button class=\"colab-df-convert\" onclick=\"convertToInteractive('df-8754c730-0fa0-45c6-94f0-39d082b96983')\"\n",
              "            title=\"Convert this dataframe to an interactive table.\"\n",
              "            style=\"display:none;\">\n",
              "\n",
              "  <svg xmlns=\"http://www.w3.org/2000/svg\" height=\"24px\" viewBox=\"0 -960 960 960\">\n",
              "    <path d=\"M120-120v-720h720v720H120Zm60-500h600v-160H180v160Zm220 220h160v-160H400v160Zm0 220h160v-160H400v160ZM180-400h160v-160H180v160Zm440 0h160v-160H620v160ZM180-180h160v-160H180v160Zm440 0h160v-160H620v160Z\"/>\n",
              "  </svg>\n",
              "    </button>\n",
              "\n",
              "  <style>\n",
              "    .colab-df-container {\n",
              "      display:flex;\n",
              "      gap: 12px;\n",
              "    }\n",
              "\n",
              "    .colab-df-convert {\n",
              "      background-color: #E8F0FE;\n",
              "      border: none;\n",
              "      border-radius: 50%;\n",
              "      cursor: pointer;\n",
              "      display: none;\n",
              "      fill: #1967D2;\n",
              "      height: 32px;\n",
              "      padding: 0 0 0 0;\n",
              "      width: 32px;\n",
              "    }\n",
              "\n",
              "    .colab-df-convert:hover {\n",
              "      background-color: #E2EBFA;\n",
              "      box-shadow: 0px 1px 2px rgba(60, 64, 67, 0.3), 0px 1px 3px 1px rgba(60, 64, 67, 0.15);\n",
              "      fill: #174EA6;\n",
              "    }\n",
              "\n",
              "    .colab-df-buttons div {\n",
              "      margin-bottom: 4px;\n",
              "    }\n",
              "\n",
              "    [theme=dark] .colab-df-convert {\n",
              "      background-color: #3B4455;\n",
              "      fill: #D2E3FC;\n",
              "    }\n",
              "\n",
              "    [theme=dark] .colab-df-convert:hover {\n",
              "      background-color: #434B5C;\n",
              "      box-shadow: 0px 1px 3px 1px rgba(0, 0, 0, 0.15);\n",
              "      filter: drop-shadow(0px 1px 2px rgba(0, 0, 0, 0.3));\n",
              "      fill: #FFFFFF;\n",
              "    }\n",
              "  </style>\n",
              "\n",
              "    <script>\n",
              "      const buttonEl =\n",
              "        document.querySelector('#df-8754c730-0fa0-45c6-94f0-39d082b96983 button.colab-df-convert');\n",
              "      buttonEl.style.display =\n",
              "        google.colab.kernel.accessAllowed ? 'block' : 'none';\n",
              "\n",
              "      async function convertToInteractive(key) {\n",
              "        const element = document.querySelector('#df-8754c730-0fa0-45c6-94f0-39d082b96983');\n",
              "        const dataTable =\n",
              "          await google.colab.kernel.invokeFunction('convertToInteractive',\n",
              "                                                    [key], {});\n",
              "        if (!dataTable) return;\n",
              "\n",
              "        const docLinkHtml = 'Like what you see? Visit the ' +\n",
              "          '<a target=\"_blank\" href=https://colab.research.google.com/notebooks/data_table.ipynb>data table notebook</a>'\n",
              "          + ' to learn more about interactive tables.';\n",
              "        element.innerHTML = '';\n",
              "        dataTable['output_type'] = 'display_data';\n",
              "        await google.colab.output.renderOutput(dataTable, element);\n",
              "        const docLink = document.createElement('div');\n",
              "        docLink.innerHTML = docLinkHtml;\n",
              "        element.appendChild(docLink);\n",
              "      }\n",
              "    </script>\n",
              "  </div>\n",
              "\n",
              "\n",
              "    <div id=\"df-f2af53f8-7ad4-4e3a-9b26-0db29ecd4ab9\">\n",
              "      <button class=\"colab-df-quickchart\" onclick=\"quickchart('df-f2af53f8-7ad4-4e3a-9b26-0db29ecd4ab9')\"\n",
              "                title=\"Suggest charts\"\n",
              "                style=\"display:none;\">\n",
              "\n",
              "<svg xmlns=\"http://www.w3.org/2000/svg\" height=\"24px\"viewBox=\"0 0 24 24\"\n",
              "     width=\"24px\">\n",
              "    <g>\n",
              "        <path d=\"M19 3H5c-1.1 0-2 .9-2 2v14c0 1.1.9 2 2 2h14c1.1 0 2-.9 2-2V5c0-1.1-.9-2-2-2zM9 17H7v-7h2v7zm4 0h-2V7h2v10zm4 0h-2v-4h2v4z\"/>\n",
              "    </g>\n",
              "</svg>\n",
              "      </button>\n",
              "\n",
              "<style>\n",
              "  .colab-df-quickchart {\n",
              "      --bg-color: #E8F0FE;\n",
              "      --fill-color: #1967D2;\n",
              "      --hover-bg-color: #E2EBFA;\n",
              "      --hover-fill-color: #174EA6;\n",
              "      --disabled-fill-color: #AAA;\n",
              "      --disabled-bg-color: #DDD;\n",
              "  }\n",
              "\n",
              "  [theme=dark] .colab-df-quickchart {\n",
              "      --bg-color: #3B4455;\n",
              "      --fill-color: #D2E3FC;\n",
              "      --hover-bg-color: #434B5C;\n",
              "      --hover-fill-color: #FFFFFF;\n",
              "      --disabled-bg-color: #3B4455;\n",
              "      --disabled-fill-color: #666;\n",
              "  }\n",
              "\n",
              "  .colab-df-quickchart {\n",
              "    background-color: var(--bg-color);\n",
              "    border: none;\n",
              "    border-radius: 50%;\n",
              "    cursor: pointer;\n",
              "    display: none;\n",
              "    fill: var(--fill-color);\n",
              "    height: 32px;\n",
              "    padding: 0;\n",
              "    width: 32px;\n",
              "  }\n",
              "\n",
              "  .colab-df-quickchart:hover {\n",
              "    background-color: var(--hover-bg-color);\n",
              "    box-shadow: 0 1px 2px rgba(60, 64, 67, 0.3), 0 1px 3px 1px rgba(60, 64, 67, 0.15);\n",
              "    fill: var(--button-hover-fill-color);\n",
              "  }\n",
              "\n",
              "  .colab-df-quickchart-complete:disabled,\n",
              "  .colab-df-quickchart-complete:disabled:hover {\n",
              "    background-color: var(--disabled-bg-color);\n",
              "    fill: var(--disabled-fill-color);\n",
              "    box-shadow: none;\n",
              "  }\n",
              "\n",
              "  .colab-df-spinner {\n",
              "    border: 2px solid var(--fill-color);\n",
              "    border-color: transparent;\n",
              "    border-bottom-color: var(--fill-color);\n",
              "    animation:\n",
              "      spin 1s steps(1) infinite;\n",
              "  }\n",
              "\n",
              "  @keyframes spin {\n",
              "    0% {\n",
              "      border-color: transparent;\n",
              "      border-bottom-color: var(--fill-color);\n",
              "      border-left-color: var(--fill-color);\n",
              "    }\n",
              "    20% {\n",
              "      border-color: transparent;\n",
              "      border-left-color: var(--fill-color);\n",
              "      border-top-color: var(--fill-color);\n",
              "    }\n",
              "    30% {\n",
              "      border-color: transparent;\n",
              "      border-left-color: var(--fill-color);\n",
              "      border-top-color: var(--fill-color);\n",
              "      border-right-color: var(--fill-color);\n",
              "    }\n",
              "    40% {\n",
              "      border-color: transparent;\n",
              "      border-right-color: var(--fill-color);\n",
              "      border-top-color: var(--fill-color);\n",
              "    }\n",
              "    60% {\n",
              "      border-color: transparent;\n",
              "      border-right-color: var(--fill-color);\n",
              "    }\n",
              "    80% {\n",
              "      border-color: transparent;\n",
              "      border-right-color: var(--fill-color);\n",
              "      border-bottom-color: var(--fill-color);\n",
              "    }\n",
              "    90% {\n",
              "      border-color: transparent;\n",
              "      border-bottom-color: var(--fill-color);\n",
              "    }\n",
              "  }\n",
              "</style>\n",
              "\n",
              "      <script>\n",
              "        async function quickchart(key) {\n",
              "          const quickchartButtonEl =\n",
              "            document.querySelector('#' + key + ' button');\n",
              "          quickchartButtonEl.disabled = true;  // To prevent multiple clicks.\n",
              "          quickchartButtonEl.classList.add('colab-df-spinner');\n",
              "          try {\n",
              "            const charts = await google.colab.kernel.invokeFunction(\n",
              "                'suggestCharts', [key], {});\n",
              "          } catch (error) {\n",
              "            console.error('Error during call to suggestCharts:', error);\n",
              "          }\n",
              "          quickchartButtonEl.classList.remove('colab-df-spinner');\n",
              "          quickchartButtonEl.classList.add('colab-df-quickchart-complete');\n",
              "        }\n",
              "        (() => {\n",
              "          let quickchartButtonEl =\n",
              "            document.querySelector('#df-f2af53f8-7ad4-4e3a-9b26-0db29ecd4ab9 button');\n",
              "          quickchartButtonEl.style.display =\n",
              "            google.colab.kernel.accessAllowed ? 'block' : 'none';\n",
              "        })();\n",
              "      </script>\n",
              "    </div>\n",
              "\n",
              "  <div id=\"id_9371becb-4453-4fe6-907d-e4147dcf9c1d\">\n",
              "    <style>\n",
              "      .colab-df-generate {\n",
              "        background-color: #E8F0FE;\n",
              "        border: none;\n",
              "        border-radius: 50%;\n",
              "        cursor: pointer;\n",
              "        display: none;\n",
              "        fill: #1967D2;\n",
              "        height: 32px;\n",
              "        padding: 0 0 0 0;\n",
              "        width: 32px;\n",
              "      }\n",
              "\n",
              "      .colab-df-generate:hover {\n",
              "        background-color: #E2EBFA;\n",
              "        box-shadow: 0px 1px 2px rgba(60, 64, 67, 0.3), 0px 1px 3px 1px rgba(60, 64, 67, 0.15);\n",
              "        fill: #174EA6;\n",
              "      }\n",
              "\n",
              "      [theme=dark] .colab-df-generate {\n",
              "        background-color: #3B4455;\n",
              "        fill: #D2E3FC;\n",
              "      }\n",
              "\n",
              "      [theme=dark] .colab-df-generate:hover {\n",
              "        background-color: #434B5C;\n",
              "        box-shadow: 0px 1px 3px 1px rgba(0, 0, 0, 0.15);\n",
              "        filter: drop-shadow(0px 1px 2px rgba(0, 0, 0, 0.3));\n",
              "        fill: #FFFFFF;\n",
              "      }\n",
              "    </style>\n",
              "    <button class=\"colab-df-generate\" onclick=\"generateWithVariable('X_df')\"\n",
              "            title=\"Generate code using this dataframe.\"\n",
              "            style=\"display:none;\">\n",
              "\n",
              "  <svg xmlns=\"http://www.w3.org/2000/svg\" height=\"24px\"viewBox=\"0 0 24 24\"\n",
              "       width=\"24px\">\n",
              "    <path d=\"M7,19H8.4L18.45,9,17,7.55,7,17.6ZM5,21V16.75L18.45,3.32a2,2,0,0,1,2.83,0l1.4,1.43a1.91,1.91,0,0,1,.58,1.4,1.91,1.91,0,0,1-.58,1.4L9.25,21ZM18.45,9,17,7.55Zm-12,3A5.31,5.31,0,0,0,4.9,8.1,5.31,5.31,0,0,0,1,6.5,5.31,5.31,0,0,0,4.9,4.9,5.31,5.31,0,0,0,6.5,1,5.31,5.31,0,0,0,8.1,4.9,5.31,5.31,0,0,0,12,6.5,5.46,5.46,0,0,0,6.5,12Z\"/>\n",
              "  </svg>\n",
              "    </button>\n",
              "    <script>\n",
              "      (() => {\n",
              "      const buttonEl =\n",
              "        document.querySelector('#id_9371becb-4453-4fe6-907d-e4147dcf9c1d button.colab-df-generate');\n",
              "      buttonEl.style.display =\n",
              "        google.colab.kernel.accessAllowed ? 'block' : 'none';\n",
              "\n",
              "      buttonEl.onclick = () => {\n",
              "        google.colab.notebook.generateWithVariable('X_df');\n",
              "      }\n",
              "      })();\n",
              "    </script>\n",
              "  </div>\n",
              "\n",
              "    </div>\n",
              "  </div>\n"
            ],
            "application/vnd.google.colaboratory.intrinsic+json": {
              "type": "dataframe",
              "variable_name": "X_df",
              "summary": "{\n  \"name\": \"X_df\",\n  \"rows\": 7162,\n  \"fields\": [\n    {\n      \"column\": \"onehotencoder__Tiene_Dependientes_Si\",\n      \"properties\": {\n        \"dtype\": \"number\",\n        \"std\": 0.4571472617395341,\n        \"min\": 0.0,\n        \"max\": 1.0,\n        \"num_unique_values\": 2,\n        \"samples\": [\n          0.0,\n          1.0\n        ],\n        \"semantic_type\": \"\",\n        \"description\": \"\"\n      }\n    },\n    {\n      \"column\": \"onehotencoder__Mayor_de_65_a\\u00f1os_Si\",\n      \"properties\": {\n        \"dtype\": \"number\",\n        \"std\": 0.3695944144241729,\n        \"min\": 0.0,\n        \"max\": 1.0,\n        \"num_unique_values\": 2,\n        \"samples\": [\n          1.0,\n          0.0\n        ],\n        \"semantic_type\": \"\",\n        \"description\": \"\"\n      }\n    },\n    {\n      \"column\": \"onehotencoder__Tipo_de_Contrato_One year\",\n      \"properties\": {\n        \"dtype\": \"number\",\n        \"std\": 0.40411599755252336,\n        \"min\": 0.0,\n        \"max\": 1.0,\n        \"num_unique_values\": 2,\n        \"samples\": [\n          0.0,\n          1.0\n        ],\n        \"semantic_type\": \"\",\n        \"description\": \"\"\n      }\n    },\n    {\n      \"column\": \"onehotencoder__Tipo_de_Contrato_Two year\",\n      \"properties\": {\n        \"dtype\": \"number\",\n        \"std\": 0.4241967412461773,\n        \"min\": 0.0,\n        \"max\": 1.0,\n        \"num_unique_values\": 2,\n        \"samples\": [\n          1.0,\n          0.0\n        ],\n        \"semantic_type\": \"\",\n        \"description\": \"\"\n      }\n    },\n    {\n      \"column\": \"onehotencoder__Metodo_Pago_Credit card (automatic)\",\n      \"properties\": {\n        \"dtype\": \"number\",\n        \"std\": 0.41038232940604874,\n        \"min\": 0.0,\n        \"max\": 1.0,\n        \"num_unique_values\": 2,\n        \"samples\": [\n          1.0,\n          0.0\n        ],\n        \"semantic_type\": \"\",\n        \"description\": \"\"\n      }\n    },\n    {\n      \"column\": \"onehotencoder__Metodo_Pago_Electronic check\",\n      \"properties\": {\n        \"dtype\": \"number\",\n        \"std\": 0.47350166401911586,\n        \"min\": 0.0,\n        \"max\": 1.0,\n        \"num_unique_values\": 2,\n        \"samples\": [\n          1.0,\n          0.0\n        ],\n        \"semantic_type\": \"\",\n        \"description\": \"\"\n      }\n    },\n    {\n      \"column\": \"onehotencoder__Metodo_Pago_Mailed check\",\n      \"properties\": {\n        \"dtype\": \"number\",\n        \"std\": 0.41984897258337023,\n        \"min\": 0.0,\n        \"max\": 1.0,\n        \"num_unique_values\": 2,\n        \"samples\": [\n          0.0,\n          1.0\n        ],\n        \"semantic_type\": \"\",\n        \"description\": \"\"\n      }\n    },\n    {\n      \"column\": \"remainder__Meses_Contratados\",\n      \"properties\": {\n        \"dtype\": \"number\",\n        \"std\": 24.52240034010607,\n        \"min\": 1.0,\n        \"max\": 72.0,\n        \"num_unique_values\": 72,\n        \"samples\": [\n          71.0,\n          41.0\n        ],\n        \"semantic_type\": \"\",\n        \"description\": \"\"\n      }\n    },\n    {\n      \"column\": \"remainder__Cobro_Mensual\",\n      \"properties\": {\n        \"dtype\": \"number\",\n        \"std\": 30.048612728910612,\n        \"min\": 18.25,\n        \"max\": 118.75,\n        \"num_unique_values\": 1584,\n        \"samples\": [\n          113.0,\n          69.75\n        ],\n        \"semantic_type\": \"\",\n        \"description\": \"\"\n      }\n    },\n    {\n      \"column\": \"remainder__Gasto_Total\",\n      \"properties\": {\n        \"dtype\": \"number\",\n        \"std\": 2261.1602779307486,\n        \"min\": 18.8,\n        \"max\": 8684.8,\n        \"num_unique_values\": 6530,\n        \"samples\": [\n          1801.9,\n          3036.75\n        ],\n        \"semantic_type\": \"\",\n        \"description\": \"\"\n      }\n    },\n    {\n      \"column\": \"Cliente_cancelado\",\n      \"properties\": {\n        \"dtype\": \"number\",\n        \"std\": 0,\n        \"min\": 0,\n        \"max\": 1,\n        \"num_unique_values\": 2,\n        \"samples\": [\n          1,\n          0\n        ],\n        \"semantic_type\": \"\",\n        \"description\": \"\"\n      }\n    }\n  ]\n}"
            }
          },
          "metadata": {},
          "execution_count": 689
        }
      ]
    },
    {
      "cell_type": "markdown",
      "source": [
        "Ya tengo mi df original, todo junto, llamado **X_df**"
      ],
      "metadata": {
        "id": "4QwvU-ukXNfx"
      }
    },
    {
      "cell_type": "code",
      "source": [
        "# Calcula la matriz de correlación\n",
        "matriz_correlacion = X_df.corr()\n",
        "\n",
        "# Extrae solo las correlaciones entre cada feature y la variable objetivo\n",
        "correlaciones_con_y = matriz_correlacion['Cliente_cancelado'].drop('Cliente_cancelado').sort_values(key=abs, ascending=True)\n",
        "\n",
        "# Imprime las correlaciones ordenadas por magnitud\n",
        "print(\"Correlaciones entre variables independientes y Cliente_cancelado:\")\n",
        "print(correlaciones_con_y)\n",
        "\n"
      ],
      "metadata": {
        "id": "x4Qn-1TGTxqk",
        "outputId": "23f3bf31-62aa-4a3f-d2f2-8ef595619a6a",
        "colab": {
          "base_uri": "https://localhost:8080/"
        }
      },
      "execution_count": 690,
      "outputs": [
        {
          "output_type": "stream",
          "name": "stdout",
          "text": [
            "Correlaciones entre variables independientes y Cliente_cancelado:\n",
            "onehotencoder__Metodo_Pago_Mailed check              -0.086473\n",
            "onehotencoder__Metodo_Pago_Credit card (automatic)   -0.138388\n",
            "onehotencoder__Mayor_de_65_años_Si                    0.148843\n",
            "onehotencoder__Tiene_Dependientes_Si                 -0.161732\n",
            "remainder__Cobro_Mensual                              0.186655\n",
            "onehotencoder__Tipo_de_Contrato_One year             -0.188613\n",
            "remainder__Gasto_Total                               -0.206160\n",
            "onehotencoder__Metodo_Pago_Electronic check           0.300945\n",
            "onehotencoder__Tipo_de_Contrato_Two year             -0.309906\n",
            "remainder__Meses_Contratados                         -0.361238\n",
            "Name: Cliente_cancelado, dtype: float64\n"
          ]
        }
      ]
    },
    {
      "cell_type": "markdown",
      "source": [
        "No hay variables con riesgo de sesgar mis datos."
      ],
      "metadata": {
        "id": "eqTDXeoVdQmu"
      }
    },
    {
      "cell_type": "markdown",
      "source": [
        "## 6° Paso: Analisis Dirigido\n",
        "\n",
        "Investiga cómo variables específicas se relacionan con la cancelación, tales como:\n",
        "\n",
        "Tiempo de contrato × Cancelación\n",
        "\n",
        "Gasto total × Cancelación\n",
        "\n",
        "Utiliza gráficos como boxplots o scatter plots para visualizar patrones y posibles tendencias."
      ],
      "metadata": {
        "id": "HBt0WZNTX3ON"
      }
    },
    {
      "cell_type": "code",
      "source": [
        "X_df[['Cliente_cancelado','remainder__Meses_Contratados']].corr()"
      ],
      "metadata": {
        "id": "Vl0RFXKDYCxC",
        "outputId": "39909c19-63be-4629-a94e-b4f1dbe32bf7",
        "colab": {
          "base_uri": "https://localhost:8080/",
          "height": 112
        }
      },
      "execution_count": 691,
      "outputs": [
        {
          "output_type": "execute_result",
          "data": {
            "text/plain": [
              "                              Cliente_cancelado  remainder__Meses_Contratados\n",
              "Cliente_cancelado                      1.000000                     -0.361238\n",
              "remainder__Meses_Contratados          -0.361238                      1.000000"
            ],
            "text/html": [
              "\n",
              "  <div id=\"df-35a640f8-c1ae-432a-974e-c0ee904b67f9\" class=\"colab-df-container\">\n",
              "    <div>\n",
              "<style scoped>\n",
              "    .dataframe tbody tr th:only-of-type {\n",
              "        vertical-align: middle;\n",
              "    }\n",
              "\n",
              "    .dataframe tbody tr th {\n",
              "        vertical-align: top;\n",
              "    }\n",
              "\n",
              "    .dataframe thead th {\n",
              "        text-align: right;\n",
              "    }\n",
              "</style>\n",
              "<table border=\"1\" class=\"dataframe\">\n",
              "  <thead>\n",
              "    <tr style=\"text-align: right;\">\n",
              "      <th></th>\n",
              "      <th>Cliente_cancelado</th>\n",
              "      <th>remainder__Meses_Contratados</th>\n",
              "    </tr>\n",
              "  </thead>\n",
              "  <tbody>\n",
              "    <tr>\n",
              "      <th>Cliente_cancelado</th>\n",
              "      <td>1.000000</td>\n",
              "      <td>-0.361238</td>\n",
              "    </tr>\n",
              "    <tr>\n",
              "      <th>remainder__Meses_Contratados</th>\n",
              "      <td>-0.361238</td>\n",
              "      <td>1.000000</td>\n",
              "    </tr>\n",
              "  </tbody>\n",
              "</table>\n",
              "</div>\n",
              "    <div class=\"colab-df-buttons\">\n",
              "\n",
              "  <div class=\"colab-df-container\">\n",
              "    <button class=\"colab-df-convert\" onclick=\"convertToInteractive('df-35a640f8-c1ae-432a-974e-c0ee904b67f9')\"\n",
              "            title=\"Convert this dataframe to an interactive table.\"\n",
              "            style=\"display:none;\">\n",
              "\n",
              "  <svg xmlns=\"http://www.w3.org/2000/svg\" height=\"24px\" viewBox=\"0 -960 960 960\">\n",
              "    <path d=\"M120-120v-720h720v720H120Zm60-500h600v-160H180v160Zm220 220h160v-160H400v160Zm0 220h160v-160H400v160ZM180-400h160v-160H180v160Zm440 0h160v-160H620v160ZM180-180h160v-160H180v160Zm440 0h160v-160H620v160Z\"/>\n",
              "  </svg>\n",
              "    </button>\n",
              "\n",
              "  <style>\n",
              "    .colab-df-container {\n",
              "      display:flex;\n",
              "      gap: 12px;\n",
              "    }\n",
              "\n",
              "    .colab-df-convert {\n",
              "      background-color: #E8F0FE;\n",
              "      border: none;\n",
              "      border-radius: 50%;\n",
              "      cursor: pointer;\n",
              "      display: none;\n",
              "      fill: #1967D2;\n",
              "      height: 32px;\n",
              "      padding: 0 0 0 0;\n",
              "      width: 32px;\n",
              "    }\n",
              "\n",
              "    .colab-df-convert:hover {\n",
              "      background-color: #E2EBFA;\n",
              "      box-shadow: 0px 1px 2px rgba(60, 64, 67, 0.3), 0px 1px 3px 1px rgba(60, 64, 67, 0.15);\n",
              "      fill: #174EA6;\n",
              "    }\n",
              "\n",
              "    .colab-df-buttons div {\n",
              "      margin-bottom: 4px;\n",
              "    }\n",
              "\n",
              "    [theme=dark] .colab-df-convert {\n",
              "      background-color: #3B4455;\n",
              "      fill: #D2E3FC;\n",
              "    }\n",
              "\n",
              "    [theme=dark] .colab-df-convert:hover {\n",
              "      background-color: #434B5C;\n",
              "      box-shadow: 0px 1px 3px 1px rgba(0, 0, 0, 0.15);\n",
              "      filter: drop-shadow(0px 1px 2px rgba(0, 0, 0, 0.3));\n",
              "      fill: #FFFFFF;\n",
              "    }\n",
              "  </style>\n",
              "\n",
              "    <script>\n",
              "      const buttonEl =\n",
              "        document.querySelector('#df-35a640f8-c1ae-432a-974e-c0ee904b67f9 button.colab-df-convert');\n",
              "      buttonEl.style.display =\n",
              "        google.colab.kernel.accessAllowed ? 'block' : 'none';\n",
              "\n",
              "      async function convertToInteractive(key) {\n",
              "        const element = document.querySelector('#df-35a640f8-c1ae-432a-974e-c0ee904b67f9');\n",
              "        const dataTable =\n",
              "          await google.colab.kernel.invokeFunction('convertToInteractive',\n",
              "                                                    [key], {});\n",
              "        if (!dataTable) return;\n",
              "\n",
              "        const docLinkHtml = 'Like what you see? Visit the ' +\n",
              "          '<a target=\"_blank\" href=https://colab.research.google.com/notebooks/data_table.ipynb>data table notebook</a>'\n",
              "          + ' to learn more about interactive tables.';\n",
              "        element.innerHTML = '';\n",
              "        dataTable['output_type'] = 'display_data';\n",
              "        await google.colab.output.renderOutput(dataTable, element);\n",
              "        const docLink = document.createElement('div');\n",
              "        docLink.innerHTML = docLinkHtml;\n",
              "        element.appendChild(docLink);\n",
              "      }\n",
              "    </script>\n",
              "  </div>\n",
              "\n",
              "\n",
              "    <div id=\"df-42a75293-7857-4f7b-a07c-b2bac30664f1\">\n",
              "      <button class=\"colab-df-quickchart\" onclick=\"quickchart('df-42a75293-7857-4f7b-a07c-b2bac30664f1')\"\n",
              "                title=\"Suggest charts\"\n",
              "                style=\"display:none;\">\n",
              "\n",
              "<svg xmlns=\"http://www.w3.org/2000/svg\" height=\"24px\"viewBox=\"0 0 24 24\"\n",
              "     width=\"24px\">\n",
              "    <g>\n",
              "        <path d=\"M19 3H5c-1.1 0-2 .9-2 2v14c0 1.1.9 2 2 2h14c1.1 0 2-.9 2-2V5c0-1.1-.9-2-2-2zM9 17H7v-7h2v7zm4 0h-2V7h2v10zm4 0h-2v-4h2v4z\"/>\n",
              "    </g>\n",
              "</svg>\n",
              "      </button>\n",
              "\n",
              "<style>\n",
              "  .colab-df-quickchart {\n",
              "      --bg-color: #E8F0FE;\n",
              "      --fill-color: #1967D2;\n",
              "      --hover-bg-color: #E2EBFA;\n",
              "      --hover-fill-color: #174EA6;\n",
              "      --disabled-fill-color: #AAA;\n",
              "      --disabled-bg-color: #DDD;\n",
              "  }\n",
              "\n",
              "  [theme=dark] .colab-df-quickchart {\n",
              "      --bg-color: #3B4455;\n",
              "      --fill-color: #D2E3FC;\n",
              "      --hover-bg-color: #434B5C;\n",
              "      --hover-fill-color: #FFFFFF;\n",
              "      --disabled-bg-color: #3B4455;\n",
              "      --disabled-fill-color: #666;\n",
              "  }\n",
              "\n",
              "  .colab-df-quickchart {\n",
              "    background-color: var(--bg-color);\n",
              "    border: none;\n",
              "    border-radius: 50%;\n",
              "    cursor: pointer;\n",
              "    display: none;\n",
              "    fill: var(--fill-color);\n",
              "    height: 32px;\n",
              "    padding: 0;\n",
              "    width: 32px;\n",
              "  }\n",
              "\n",
              "  .colab-df-quickchart:hover {\n",
              "    background-color: var(--hover-bg-color);\n",
              "    box-shadow: 0 1px 2px rgba(60, 64, 67, 0.3), 0 1px 3px 1px rgba(60, 64, 67, 0.15);\n",
              "    fill: var(--button-hover-fill-color);\n",
              "  }\n",
              "\n",
              "  .colab-df-quickchart-complete:disabled,\n",
              "  .colab-df-quickchart-complete:disabled:hover {\n",
              "    background-color: var(--disabled-bg-color);\n",
              "    fill: var(--disabled-fill-color);\n",
              "    box-shadow: none;\n",
              "  }\n",
              "\n",
              "  .colab-df-spinner {\n",
              "    border: 2px solid var(--fill-color);\n",
              "    border-color: transparent;\n",
              "    border-bottom-color: var(--fill-color);\n",
              "    animation:\n",
              "      spin 1s steps(1) infinite;\n",
              "  }\n",
              "\n",
              "  @keyframes spin {\n",
              "    0% {\n",
              "      border-color: transparent;\n",
              "      border-bottom-color: var(--fill-color);\n",
              "      border-left-color: var(--fill-color);\n",
              "    }\n",
              "    20% {\n",
              "      border-color: transparent;\n",
              "      border-left-color: var(--fill-color);\n",
              "      border-top-color: var(--fill-color);\n",
              "    }\n",
              "    30% {\n",
              "      border-color: transparent;\n",
              "      border-left-color: var(--fill-color);\n",
              "      border-top-color: var(--fill-color);\n",
              "      border-right-color: var(--fill-color);\n",
              "    }\n",
              "    40% {\n",
              "      border-color: transparent;\n",
              "      border-right-color: var(--fill-color);\n",
              "      border-top-color: var(--fill-color);\n",
              "    }\n",
              "    60% {\n",
              "      border-color: transparent;\n",
              "      border-right-color: var(--fill-color);\n",
              "    }\n",
              "    80% {\n",
              "      border-color: transparent;\n",
              "      border-right-color: var(--fill-color);\n",
              "      border-bottom-color: var(--fill-color);\n",
              "    }\n",
              "    90% {\n",
              "      border-color: transparent;\n",
              "      border-bottom-color: var(--fill-color);\n",
              "    }\n",
              "  }\n",
              "</style>\n",
              "\n",
              "      <script>\n",
              "        async function quickchart(key) {\n",
              "          const quickchartButtonEl =\n",
              "            document.querySelector('#' + key + ' button');\n",
              "          quickchartButtonEl.disabled = true;  // To prevent multiple clicks.\n",
              "          quickchartButtonEl.classList.add('colab-df-spinner');\n",
              "          try {\n",
              "            const charts = await google.colab.kernel.invokeFunction(\n",
              "                'suggestCharts', [key], {});\n",
              "          } catch (error) {\n",
              "            console.error('Error during call to suggestCharts:', error);\n",
              "          }\n",
              "          quickchartButtonEl.classList.remove('colab-df-spinner');\n",
              "          quickchartButtonEl.classList.add('colab-df-quickchart-complete');\n",
              "        }\n",
              "        (() => {\n",
              "          let quickchartButtonEl =\n",
              "            document.querySelector('#df-42a75293-7857-4f7b-a07c-b2bac30664f1 button');\n",
              "          quickchartButtonEl.style.display =\n",
              "            google.colab.kernel.accessAllowed ? 'block' : 'none';\n",
              "        })();\n",
              "      </script>\n",
              "    </div>\n",
              "\n",
              "    </div>\n",
              "  </div>\n"
            ],
            "application/vnd.google.colaboratory.intrinsic+json": {
              "type": "dataframe",
              "summary": "{\n  \"name\": \"X_df[['Cliente_cancelado','remainder__Meses_Contratados']]\",\n  \"rows\": 2,\n  \"fields\": [\n    {\n      \"column\": \"Cliente_cancelado\",\n      \"properties\": {\n        \"dtype\": \"number\",\n        \"std\": 0.9625403049860839,\n        \"min\": -0.3612375536420551,\n        \"max\": 1.0,\n        \"num_unique_values\": 2,\n        \"samples\": [\n          -0.3612375536420551,\n          1.0\n        ],\n        \"semantic_type\": \"\",\n        \"description\": \"\"\n      }\n    },\n    {\n      \"column\": \"remainder__Meses_Contratados\",\n      \"properties\": {\n        \"dtype\": \"number\",\n        \"std\": 0.9625403049860839,\n        \"min\": -0.3612375536420551,\n        \"max\": 1.0,\n        \"num_unique_values\": 2,\n        \"samples\": [\n          1.0,\n          -0.3612375536420551\n        ],\n        \"semantic_type\": \"\",\n        \"description\": \"\"\n      }\n    }\n  ]\n}"
            }
          },
          "metadata": {},
          "execution_count": 691
        }
      ]
    },
    {
      "cell_type": "code",
      "source": [
        "X_df[['Cliente_cancelado','remainder__Gasto_Total']].corr()"
      ],
      "metadata": {
        "id": "sB0lDc1FYUcR",
        "outputId": "5f8e40f6-ed8d-4958-c265-43ce101a7f0f",
        "colab": {
          "base_uri": "https://localhost:8080/",
          "height": 112
        }
      },
      "execution_count": 692,
      "outputs": [
        {
          "output_type": "execute_result",
          "data": {
            "text/plain": [
              "                        Cliente_cancelado  remainder__Gasto_Total\n",
              "Cliente_cancelado                 1.00000                -0.20616\n",
              "remainder__Gasto_Total           -0.20616                 1.00000"
            ],
            "text/html": [
              "\n",
              "  <div id=\"df-faa06615-cd42-4c02-a824-0b66d4b0f616\" class=\"colab-df-container\">\n",
              "    <div>\n",
              "<style scoped>\n",
              "    .dataframe tbody tr th:only-of-type {\n",
              "        vertical-align: middle;\n",
              "    }\n",
              "\n",
              "    .dataframe tbody tr th {\n",
              "        vertical-align: top;\n",
              "    }\n",
              "\n",
              "    .dataframe thead th {\n",
              "        text-align: right;\n",
              "    }\n",
              "</style>\n",
              "<table border=\"1\" class=\"dataframe\">\n",
              "  <thead>\n",
              "    <tr style=\"text-align: right;\">\n",
              "      <th></th>\n",
              "      <th>Cliente_cancelado</th>\n",
              "      <th>remainder__Gasto_Total</th>\n",
              "    </tr>\n",
              "  </thead>\n",
              "  <tbody>\n",
              "    <tr>\n",
              "      <th>Cliente_cancelado</th>\n",
              "      <td>1.00000</td>\n",
              "      <td>-0.20616</td>\n",
              "    </tr>\n",
              "    <tr>\n",
              "      <th>remainder__Gasto_Total</th>\n",
              "      <td>-0.20616</td>\n",
              "      <td>1.00000</td>\n",
              "    </tr>\n",
              "  </tbody>\n",
              "</table>\n",
              "</div>\n",
              "    <div class=\"colab-df-buttons\">\n",
              "\n",
              "  <div class=\"colab-df-container\">\n",
              "    <button class=\"colab-df-convert\" onclick=\"convertToInteractive('df-faa06615-cd42-4c02-a824-0b66d4b0f616')\"\n",
              "            title=\"Convert this dataframe to an interactive table.\"\n",
              "            style=\"display:none;\">\n",
              "\n",
              "  <svg xmlns=\"http://www.w3.org/2000/svg\" height=\"24px\" viewBox=\"0 -960 960 960\">\n",
              "    <path d=\"M120-120v-720h720v720H120Zm60-500h600v-160H180v160Zm220 220h160v-160H400v160Zm0 220h160v-160H400v160ZM180-400h160v-160H180v160Zm440 0h160v-160H620v160ZM180-180h160v-160H180v160Zm440 0h160v-160H620v160Z\"/>\n",
              "  </svg>\n",
              "    </button>\n",
              "\n",
              "  <style>\n",
              "    .colab-df-container {\n",
              "      display:flex;\n",
              "      gap: 12px;\n",
              "    }\n",
              "\n",
              "    .colab-df-convert {\n",
              "      background-color: #E8F0FE;\n",
              "      border: none;\n",
              "      border-radius: 50%;\n",
              "      cursor: pointer;\n",
              "      display: none;\n",
              "      fill: #1967D2;\n",
              "      height: 32px;\n",
              "      padding: 0 0 0 0;\n",
              "      width: 32px;\n",
              "    }\n",
              "\n",
              "    .colab-df-convert:hover {\n",
              "      background-color: #E2EBFA;\n",
              "      box-shadow: 0px 1px 2px rgba(60, 64, 67, 0.3), 0px 1px 3px 1px rgba(60, 64, 67, 0.15);\n",
              "      fill: #174EA6;\n",
              "    }\n",
              "\n",
              "    .colab-df-buttons div {\n",
              "      margin-bottom: 4px;\n",
              "    }\n",
              "\n",
              "    [theme=dark] .colab-df-convert {\n",
              "      background-color: #3B4455;\n",
              "      fill: #D2E3FC;\n",
              "    }\n",
              "\n",
              "    [theme=dark] .colab-df-convert:hover {\n",
              "      background-color: #434B5C;\n",
              "      box-shadow: 0px 1px 3px 1px rgba(0, 0, 0, 0.15);\n",
              "      filter: drop-shadow(0px 1px 2px rgba(0, 0, 0, 0.3));\n",
              "      fill: #FFFFFF;\n",
              "    }\n",
              "  </style>\n",
              "\n",
              "    <script>\n",
              "      const buttonEl =\n",
              "        document.querySelector('#df-faa06615-cd42-4c02-a824-0b66d4b0f616 button.colab-df-convert');\n",
              "      buttonEl.style.display =\n",
              "        google.colab.kernel.accessAllowed ? 'block' : 'none';\n",
              "\n",
              "      async function convertToInteractive(key) {\n",
              "        const element = document.querySelector('#df-faa06615-cd42-4c02-a824-0b66d4b0f616');\n",
              "        const dataTable =\n",
              "          await google.colab.kernel.invokeFunction('convertToInteractive',\n",
              "                                                    [key], {});\n",
              "        if (!dataTable) return;\n",
              "\n",
              "        const docLinkHtml = 'Like what you see? Visit the ' +\n",
              "          '<a target=\"_blank\" href=https://colab.research.google.com/notebooks/data_table.ipynb>data table notebook</a>'\n",
              "          + ' to learn more about interactive tables.';\n",
              "        element.innerHTML = '';\n",
              "        dataTable['output_type'] = 'display_data';\n",
              "        await google.colab.output.renderOutput(dataTable, element);\n",
              "        const docLink = document.createElement('div');\n",
              "        docLink.innerHTML = docLinkHtml;\n",
              "        element.appendChild(docLink);\n",
              "      }\n",
              "    </script>\n",
              "  </div>\n",
              "\n",
              "\n",
              "    <div id=\"df-55f11d5a-fe42-4b81-8b60-f834e23e6dba\">\n",
              "      <button class=\"colab-df-quickchart\" onclick=\"quickchart('df-55f11d5a-fe42-4b81-8b60-f834e23e6dba')\"\n",
              "                title=\"Suggest charts\"\n",
              "                style=\"display:none;\">\n",
              "\n",
              "<svg xmlns=\"http://www.w3.org/2000/svg\" height=\"24px\"viewBox=\"0 0 24 24\"\n",
              "     width=\"24px\">\n",
              "    <g>\n",
              "        <path d=\"M19 3H5c-1.1 0-2 .9-2 2v14c0 1.1.9 2 2 2h14c1.1 0 2-.9 2-2V5c0-1.1-.9-2-2-2zM9 17H7v-7h2v7zm4 0h-2V7h2v10zm4 0h-2v-4h2v4z\"/>\n",
              "    </g>\n",
              "</svg>\n",
              "      </button>\n",
              "\n",
              "<style>\n",
              "  .colab-df-quickchart {\n",
              "      --bg-color: #E8F0FE;\n",
              "      --fill-color: #1967D2;\n",
              "      --hover-bg-color: #E2EBFA;\n",
              "      --hover-fill-color: #174EA6;\n",
              "      --disabled-fill-color: #AAA;\n",
              "      --disabled-bg-color: #DDD;\n",
              "  }\n",
              "\n",
              "  [theme=dark] .colab-df-quickchart {\n",
              "      --bg-color: #3B4455;\n",
              "      --fill-color: #D2E3FC;\n",
              "      --hover-bg-color: #434B5C;\n",
              "      --hover-fill-color: #FFFFFF;\n",
              "      --disabled-bg-color: #3B4455;\n",
              "      --disabled-fill-color: #666;\n",
              "  }\n",
              "\n",
              "  .colab-df-quickchart {\n",
              "    background-color: var(--bg-color);\n",
              "    border: none;\n",
              "    border-radius: 50%;\n",
              "    cursor: pointer;\n",
              "    display: none;\n",
              "    fill: var(--fill-color);\n",
              "    height: 32px;\n",
              "    padding: 0;\n",
              "    width: 32px;\n",
              "  }\n",
              "\n",
              "  .colab-df-quickchart:hover {\n",
              "    background-color: var(--hover-bg-color);\n",
              "    box-shadow: 0 1px 2px rgba(60, 64, 67, 0.3), 0 1px 3px 1px rgba(60, 64, 67, 0.15);\n",
              "    fill: var(--button-hover-fill-color);\n",
              "  }\n",
              "\n",
              "  .colab-df-quickchart-complete:disabled,\n",
              "  .colab-df-quickchart-complete:disabled:hover {\n",
              "    background-color: var(--disabled-bg-color);\n",
              "    fill: var(--disabled-fill-color);\n",
              "    box-shadow: none;\n",
              "  }\n",
              "\n",
              "  .colab-df-spinner {\n",
              "    border: 2px solid var(--fill-color);\n",
              "    border-color: transparent;\n",
              "    border-bottom-color: var(--fill-color);\n",
              "    animation:\n",
              "      spin 1s steps(1) infinite;\n",
              "  }\n",
              "\n",
              "  @keyframes spin {\n",
              "    0% {\n",
              "      border-color: transparent;\n",
              "      border-bottom-color: var(--fill-color);\n",
              "      border-left-color: var(--fill-color);\n",
              "    }\n",
              "    20% {\n",
              "      border-color: transparent;\n",
              "      border-left-color: var(--fill-color);\n",
              "      border-top-color: var(--fill-color);\n",
              "    }\n",
              "    30% {\n",
              "      border-color: transparent;\n",
              "      border-left-color: var(--fill-color);\n",
              "      border-top-color: var(--fill-color);\n",
              "      border-right-color: var(--fill-color);\n",
              "    }\n",
              "    40% {\n",
              "      border-color: transparent;\n",
              "      border-right-color: var(--fill-color);\n",
              "      border-top-color: var(--fill-color);\n",
              "    }\n",
              "    60% {\n",
              "      border-color: transparent;\n",
              "      border-right-color: var(--fill-color);\n",
              "    }\n",
              "    80% {\n",
              "      border-color: transparent;\n",
              "      border-right-color: var(--fill-color);\n",
              "      border-bottom-color: var(--fill-color);\n",
              "    }\n",
              "    90% {\n",
              "      border-color: transparent;\n",
              "      border-bottom-color: var(--fill-color);\n",
              "    }\n",
              "  }\n",
              "</style>\n",
              "\n",
              "      <script>\n",
              "        async function quickchart(key) {\n",
              "          const quickchartButtonEl =\n",
              "            document.querySelector('#' + key + ' button');\n",
              "          quickchartButtonEl.disabled = true;  // To prevent multiple clicks.\n",
              "          quickchartButtonEl.classList.add('colab-df-spinner');\n",
              "          try {\n",
              "            const charts = await google.colab.kernel.invokeFunction(\n",
              "                'suggestCharts', [key], {});\n",
              "          } catch (error) {\n",
              "            console.error('Error during call to suggestCharts:', error);\n",
              "          }\n",
              "          quickchartButtonEl.classList.remove('colab-df-spinner');\n",
              "          quickchartButtonEl.classList.add('colab-df-quickchart-complete');\n",
              "        }\n",
              "        (() => {\n",
              "          let quickchartButtonEl =\n",
              "            document.querySelector('#df-55f11d5a-fe42-4b81-8b60-f834e23e6dba button');\n",
              "          quickchartButtonEl.style.display =\n",
              "            google.colab.kernel.accessAllowed ? 'block' : 'none';\n",
              "        })();\n",
              "      </script>\n",
              "    </div>\n",
              "\n",
              "    </div>\n",
              "  </div>\n"
            ],
            "application/vnd.google.colaboratory.intrinsic+json": {
              "type": "dataframe",
              "summary": "{\n  \"name\": \"X_df[['Cliente_cancelado','remainder__Gasto_Total']]\",\n  \"rows\": 2,\n  \"fields\": [\n    {\n      \"column\": \"Cliente_cancelado\",\n      \"properties\": {\n        \"dtype\": \"number\",\n        \"std\": 0.8528837630385456,\n        \"min\": -0.20615978481691224,\n        \"max\": 1.0,\n        \"num_unique_values\": 2,\n        \"samples\": [\n          -0.20615978481691224,\n          1.0\n        ],\n        \"semantic_type\": \"\",\n        \"description\": \"\"\n      }\n    },\n    {\n      \"column\": \"remainder__Gasto_Total\",\n      \"properties\": {\n        \"dtype\": \"number\",\n        \"std\": 0.8528837630385456,\n        \"min\": -0.20615978481691224,\n        \"max\": 1.0,\n        \"num_unique_values\": 2,\n        \"samples\": [\n          1.0,\n          -0.20615978481691224\n        ],\n        \"semantic_type\": \"\",\n        \"description\": \"\"\n      }\n    }\n  ]\n}"
            }
          },
          "metadata": {},
          "execution_count": 692
        }
      ]
    },
    {
      "cell_type": "code",
      "source": [
        "import seaborn as sns\n",
        "import matplotlib.pyplot as plt\n",
        "\n",
        "# Gráfico boxplot para Meses_Contratados vs Cliente_cancelado\n",
        "plt.figure(figsize=(6, 4))\n",
        "sns.boxplot(data=X_df, x='Cliente_cancelado', y='remainder__Meses_Contratados', palette='Set2')\n",
        "plt.title('Meses Contratados vs Cancelación')\n",
        "plt.xlabel('Cliente Cancelado (0 = No, 1 = Sí)')\n",
        "plt.ylabel('Meses Contratados')\n",
        "plt.show()\n",
        "\n",
        "# Gráfico boxplot para Gasto_Total vs Cliente_cancelado\n",
        "plt.figure(figsize=(6, 4))\n",
        "sns.boxplot(data=X_df, x='Cliente_cancelado', y='remainder__Gasto_Total', palette='Set3')\n",
        "plt.title('Gasto Total vs Cancelación')\n",
        "plt.xlabel('Cliente Cancelado (0 = No, 1 = Sí)')\n",
        "plt.ylabel('Gasto Total')\n",
        "plt.show()"
      ],
      "metadata": {
        "id": "0XL0x1SuZMNl",
        "outputId": "f38c749e-35dc-41ef-ff49-ee76185fea68",
        "colab": {
          "base_uri": "https://localhost:8080/",
          "height": 1000
        }
      },
      "execution_count": 693,
      "outputs": [
        {
          "output_type": "stream",
          "name": "stderr",
          "text": [
            "/tmp/ipython-input-2796944358.py:6: FutureWarning:\n",
            "\n",
            "\n",
            "\n",
            "Passing `palette` without assigning `hue` is deprecated and will be removed in v0.14.0. Assign the `x` variable to `hue` and set `legend=False` for the same effect.\n",
            "\n",
            "\n"
          ]
        },
        {
          "output_type": "display_data",
          "data": {
            "text/plain": [
              "<Figure size 600x400 with 1 Axes>"
            ],
            "image/png": "[encoded data removed]"
          },
          "metadata": {}
        },
        {
          "output_type": "stream",
          "name": "stderr",
          "text": [
            "/tmp/ipython-input-2796944358.py:14: FutureWarning:\n",
            "\n",
            "\n",
            "\n",
            "Passing `palette` without assigning `hue` is deprecated and will be removed in v0.14.0. Assign the `x` variable to `hue` and set `legend=False` for the same effect.\n",
            "\n",
            "\n"
          ]
        },
        {
          "output_type": "display_data",
          "data": {
            "text/plain": [
              "<Figure size 600x400 with 1 Axes>"
            ],
            "image/png": "[encoded data removed]"
          },
          "metadata": {}
        }
      ]
    },
    {
      "cell_type": "markdown",
      "source": [
        "##7° Paso: Separacion de datos"
      ],
      "metadata": {
        "id": "JmzlAyYzhe9r"
      }
    },
    {
      "cell_type": "code",
      "source": [
        "# Importa la clase para mostrar la matriz de confusión de manera visual\n",
        "from sklearn.metrics import ConfusionMatrixDisplay\n",
        "\n",
        "\n",
        "\n",
        "# Separa la variable independiente (X) de la variable objetivo (y)\n",
        "X = X_df.drop('Cliente_cancelado', axis=1)  # Elimina la columna objetivo del DataFrame\n",
        "y = X_df['Cliente_cancelado']  # Asigna la columna objetivo\n",
        "\n",
        "# Divide los datos en conjunto de entrenamiento y prueba\n",
        "# Divide nuevamente los datos restantes en entrenamiento y validación (val también es 15%)\n",
        "\n",
        "\n",
        "# Aplica undersampling al conjunto completo (X, y) para balancear la cantidad de muestras de cada clase\n",
        "\n",
        "X, X_val,y, y_val = train_test_split(X, y, test_size=0.30, stratify= y, random_state=5)\n",
        "X_balanceado, y_balanceado = undersample.fit_resample(X, y)\n",
        "#X_balanceado, y_balanceado = SMOTE(random_state=42).fit_resample(X, y)"
      ],
      "metadata": {
        "id": "FcHGEOv-hjzn"
      },
      "execution_count": 694,
      "outputs": []
    },
    {
      "cell_type": "code",
      "source": [],
      "metadata": {
        "id": "3siwBMLn62_m"
      },
      "execution_count": 694,
      "outputs": []
    },
    {
      "cell_type": "markdown",
      "source": [
        "##8° Paso: Creación de Modelos"
      ],
      "metadata": {
        "id": "NlqTYyjH1Ldg"
      }
    },
    {
      "cell_type": "markdown",
      "source": [
        "### Modelo Arbol de decision"
      ],
      "metadata": {
        "id": "X10zfRyj1dht"
      }
    },
    {
      "cell_type": "code",
      "source": [
        "\n",
        "# Crea y entrena un árbol de decisión con una profundidad máxima de 10 usando los datos balanceados\n",
        "modelo = DecisionTreeClassifier(max_depth=16)\n",
        "modelo.fit(X_balanceado, y_balanceado)\n",
        "\n",
        "# Predice los valores de y en el conjunto de test\n",
        "y_previsto = modelo.predict(X_val)\n",
        "\n",
        "# Imprime un reporte de clasificación con métricas como precisión, recall y F1-score\n",
        "print(classification_report(y_val, y_previsto))\n",
        "\n",
        "# Muestra la matriz de confusión de las predicciones vs valores reales\n",
        "ConfusionMatrixDisplay.from_predictions(y_val, y_previsto);"
      ],
      "metadata": {
        "colab": {
          "base_uri": "https://localhost:8080/",
          "height": 610
        },
        "id": "dsmJsgEFwj2y",
        "outputId": "291a7d47-02f7-413f-ea80-c51a99a5d506"
      },
      "execution_count": 695,
      "outputs": [
        {
          "output_type": "stream",
          "name": "stdout",
          "text": [
            "              precision    recall  f1-score   support\n",
            "\n",
            "           0       0.83      0.65      0.73      1549\n",
            "           1       0.42      0.66      0.51       600\n",
            "\n",
            "    accuracy                           0.65      2149\n",
            "   macro avg       0.62      0.65      0.62      2149\n",
            "weighted avg       0.71      0.65      0.67      2149\n",
            "\n"
          ]
        },
        {
          "output_type": "display_data",
          "data": {
            "text/plain": [
              "<Figure size 640x480 with 2 Axes>"
            ],
            "image/png": "[encoded data removed]"
          },
          "metadata": {}
        }
      ]
    },
    {
      "cell_type": "markdown",
      "source": [
        "###Modelo Random Forest"
      ],
      "metadata": {
        "id": "MgEv_FLn4HPn"
      }
    },
    {
      "cell_type": "code",
      "source": [
        "from sklearn.ensemble import RandomForestClassifier\n",
        "from sklearn.metrics import classification_report, ConfusionMatrixDisplay\n",
        "\n",
        "# Creamos el modelo Random Forest\n",
        "modelo_rf = RandomForestClassifier(\n",
        "    n_estimators=200,\n",
        "    max_depth=10,\n",
        "    random_state=5,\n",
        ")\n",
        "odelo_rf = RandomForestClassifier(max_depth = 5, min_samples_leaf= 3, min_samples_split= 2, n_estimators= 100)\n",
        "# Entrenamos el modelo\n",
        "modelo_rf.fit(X_balanceado, y_balanceado)\n",
        "\n",
        "# Predecimos sobre el conjunto de validación\n",
        "y_pred_rf = modelo_rf.predict(X_val)\n",
        "\n",
        "# Mostramos métricas\n",
        "print(\"Random Forest:\")\n",
        "print(classification_report(y_val, y_pred_rf))\n",
        "ConfusionMatrixDisplay.from_predictions(y_val, y_pred_rf);"
      ],
      "metadata": {
        "colab": {
          "base_uri": "https://localhost:8080/",
          "height": 623
        },
        "id": "rc-WnVid4OKZ",
        "outputId": "cc274b3b-f1f7-4f7b-ebd2-f2faf6532274"
      },
      "execution_count": 700,
      "outputs": [
        {
          "output_type": "stream",
          "name": "stdout",
          "text": [
            "Random Forest:\n",
            "              precision    recall  f1-score   support\n",
            "\n",
            "           0       0.86      0.79      0.82      1549\n",
            "           1       0.54      0.66      0.60       600\n",
            "\n",
            "    accuracy                           0.75      2149\n",
            "   macro avg       0.70      0.72      0.71      2149\n",
            "weighted avg       0.77      0.75      0.76      2149\n",
            "\n"
          ]
        },
        {
          "output_type": "display_data",
          "data": {
            "text/plain": [
              "<Figure size 640x480 with 2 Axes>"
            ],
            "image/png": "[encoded data removed]"
          },
          "metadata": {}
        }
      ]
    },
    {
      "cell_type": "markdown",
      "source": [
        "### Modelo KNN"
      ],
      "metadata": {
        "id": "BlpE3cRb5Bis"
      }
    },
    {
      "cell_type": "code",
      "source": [
        "from sklearn.neighbors import KNeighborsClassifier\n",
        "# Creamos el modelo KNN (con k=3 vecinos por defecto)\n",
        "modelo_knn = KNeighborsClassifier(3)\n",
        "\n",
        "# Entrenamos el modelo con los datos balanceados\n",
        "modelo_knn.fit(X_balanceado, y_balanceado)\n",
        "\n",
        "# Predecimos sobre el conjunto de validación\n",
        "y_pred_knn = modelo_knn.predict(X_val)\n",
        "\n",
        "# Mostramos métricas\n",
        "print(\"KNN (k=5):\")\n",
        "print(classification_report(y_val, y_pred_knn))\n",
        "ConfusionMatrixDisplay.from_predictions(y_val, y_pred_knn);"
      ],
      "metadata": {
        "colab": {
          "base_uri": "https://localhost:8080/",
          "height": 623
        },
        "id": "h4gxZOWh5E6L",
        "outputId": "a16eadbe-2844-473b-8edf-d1ea01f1d37d"
      },
      "execution_count": 697,
      "outputs": [
        {
          "output_type": "stream",
          "name": "stdout",
          "text": [
            "KNN (k=5):\n",
            "              precision    recall  f1-score   support\n",
            "\n",
            "           0       0.83      0.76      0.79      1549\n",
            "           1       0.49      0.59      0.54       600\n",
            "\n",
            "    accuracy                           0.71      2149\n",
            "   macro avg       0.66      0.68      0.66      2149\n",
            "weighted avg       0.73      0.71      0.72      2149\n",
            "\n"
          ]
        },
        {
          "output_type": "display_data",
          "data": {
            "text/plain": [
              "<Figure size 640x480 with 2 Axes>"
            ],
            "image/png": "[encoded data removed]"
          },
          "metadata": {}
        }
      ]
    },
    {
      "cell_type": "markdown",
      "source": [
        "KNN con valores normalizados"
      ],
      "metadata": {
        "id": "sG-U_NiP5tyf"
      }
    },
    {
      "cell_type": "code",
      "source": [
        "from sklearn.preprocessing import MinMaxScaler\n",
        "from sklearn.neighbors import KNeighborsClassifier\n",
        "from sklearn.metrics import classification_report, ConfusionMatrixDisplay\n",
        "\n",
        "# Normalización Min-Max\n",
        "scaler_minmax = MinMaxScaler()\n",
        "X_balanceado_norm = scaler_minmax.fit_transform(X_balanceado)\n",
        "X_val_norm = scaler_minmax.transform(X_val)\n",
        "\n",
        "# Entrenamiento del modelo KNN con los datos normalizados\n",
        "modelo_knn_norm = KNeighborsClassifier(9)\n",
        "modelo_knn_norm.fit(X_balanceado_norm, y_balanceado)\n",
        "\n",
        "# Predicción\n",
        "y_pred_knn_norm = modelo_knn_norm.predict(X_val_norm)\n",
        "\n",
        "# Métricas\n",
        "print(\"KNN (con normalización Min-Max):\")\n",
        "print(classification_report(y_val, y_pred_knn_norm))\n",
        "ConfusionMatrixDisplay.from_predictions(y_val, y_pred_knn_norm);"
      ],
      "metadata": {
        "colab": {
          "base_uri": "https://localhost:8080/",
          "height": 623
        },
        "id": "nStqEM095JQx",
        "outputId": "4f2c6657-54ba-4c5c-e61f-1c97b71cde99"
      },
      "execution_count": 698,
      "outputs": [
        {
          "output_type": "stream",
          "name": "stdout",
          "text": [
            "KNN (con normalización Min-Max):\n",
            "              precision    recall  f1-score   support\n",
            "\n",
            "           0       0.85      0.77      0.80      1549\n",
            "           1       0.52      0.65      0.57       600\n",
            "\n",
            "    accuracy                           0.73      2149\n",
            "   macro avg       0.68      0.71      0.69      2149\n",
            "weighted avg       0.76      0.73      0.74      2149\n",
            "\n"
          ]
        },
        {
          "output_type": "display_data",
          "data": {
            "text/plain": [
              "<Figure size 640x480 with 2 Axes>"
            ],
            "image/png": "[encoded data removed]"
          },
          "metadata": {}
        }
      ]
    },
    {
      "cell_type": "markdown",
      "source": [
        "##9° Paso: Evaluacion de modelos"
      ],
      "metadata": {
        "id": "UVAQHBAc7KAt"
      }
    },
    {
      "cell_type": "code",
      "source": [
        "from sklearn.metrics import accuracy_score, precision_score, recall_score, f1_score\n",
        "\n",
        "def calcular_metricas(y_real, y_pred, nombre_modelo):\n",
        "    return {\n",
        "        'Modelo': nombre_modelo,\n",
        "        'Accuracy': accuracy_score(y_real, y_pred),\n",
        "        'Precision': precision_score(y_real, y_pred),\n",
        "        'Recall': recall_score(y_real, y_pred),\n",
        "        'F1-score': f1_score(y_real, y_pred)\n",
        "    }\n",
        "\n",
        "# Árbol de decisión\n",
        "metricas_arbol = calcular_metricas(y_val, y_previsto, 'Árbol de Decisión')\n",
        "\n",
        "# Random Forest\n",
        "metricas_rf = calcular_metricas(y_val, y_pred_rf, 'Random Forest')\n",
        "\n",
        "# KNN con valores normalizados\n",
        "metricas_KNNN = calcular_metricas(y_val, y_pred_knn_norm, 'KNN con valores normalizados')\n",
        "\n",
        "import pandas as pd\n",
        "\n",
        "# Crear DataFrame con las métricas\n",
        "df_metricas = pd.DataFrame([metricas_arbol, metricas_rf, metricas_KNNN])\n",
        "df_metricas.set_index('Modelo', inplace=True)\n",
        "\n",
        "# Mostrar la tabla ordenada por Recall (por ejemplo)\n",
        "df_metricas.sort_values('Recall', ascending=False)"
      ],
      "metadata": {
        "colab": {
          "base_uri": "https://localhost:8080/",
          "height": 175
        },
        "id": "5J3LGTTL6NbZ",
        "outputId": "90990f87-6b25-4303-c30b-6a38da48f901"
      },
      "execution_count": 699,
      "outputs": [
        {
          "output_type": "execute_result",
          "data": {
            "text/plain": [
              "                              Accuracy  Precision    Recall  F1-score\n",
              "Modelo                                                               \n",
              "Random Forest                 0.760354   0.559275  0.668333  0.608960\n",
              "Árbol de Decisión             0.649139   0.418259  0.656667  0.511025\n",
              "KNN con valores normalizados  0.731968   0.516000  0.645000  0.573333"
            ],
            "text/html": [
              "\n",
              "  <div id=\"df-1ba7fc87-f7c3-4505-9680-c9426b06be78\" class=\"colab-df-container\">\n",
              "    <div>\n",
              "<style scoped>\n",
              "    .dataframe tbody tr th:only-of-type {\n",
              "        vertical-align: middle;\n",
              "    }\n",
              "\n",
              "    .dataframe tbody tr th {\n",
              "        vertical-align: top;\n",
              "    }\n",
              "\n",
              "    .dataframe thead th {\n",
              "        text-align: right;\n",
              "    }\n",
              "</style>\n",
              "<table border=\"1\" class=\"dataframe\">\n",
              "  <thead>\n",
              "    <tr style=\"text-align: right;\">\n",
              "      <th></th>\n",
              "      <th>Accuracy</th>\n",
              "      <th>Precision</th>\n",
              "      <th>Recall</th>\n",
              "      <th>F1-score</th>\n",
              "    </tr>\n",
              "    <tr>\n",
              "      <th>Modelo</th>\n",
              "      <th></th>\n",
              "      <th></th>\n",
              "      <th></th>\n",
              "      <th></th>\n",
              "    </tr>\n",
              "  </thead>\n",
              "  <tbody>\n",
              "    <tr>\n",
              "      <th>Random Forest</th>\n",
              "      <td>0.760354</td>\n",
              "      <td>0.559275</td>\n",
              "      <td>0.668333</td>\n",
              "      <td>0.608960</td>\n",
              "    </tr>\n",
              "    <tr>\n",
              "      <th>Árbol de Decisión</th>\n",
              "      <td>0.649139</td>\n",
              "      <td>0.418259</td>\n",
              "      <td>0.656667</td>\n",
              "      <td>0.511025</td>\n",
              "    </tr>\n",
              "    <tr>\n",
              "      <th>KNN con valores normalizados</th>\n",
              "      <td>0.731968</td>\n",
              "      <td>0.516000</td>\n",
              "      <td>0.645000</td>\n",
              "      <td>0.573333</td>\n",
              "    </tr>\n",
              "  </tbody>\n",
              "</table>\n",
              "</div>\n",
              "    <div class=\"colab-df-buttons\">\n",
              "\n",
              "  <div class=\"colab-df-container\">\n",
              "    <button class=\"colab-df-convert\" onclick=\"convertToInteractive('df-1ba7fc87-f7c3-4505-9680-c9426b06be78')\"\n",
              "            title=\"Convert this dataframe to an interactive table.\"\n",
              "            style=\"display:none;\">\n",
              "\n",
              "  <svg xmlns=\"http://www.w3.org/2000/svg\" height=\"24px\" viewBox=\"0 -960 960 960\">\n",
              "    <path d=\"M120-120v-720h720v720H120Zm60-500h600v-160H180v160Zm220 220h160v-160H400v160Zm0 220h160v-160H400v160ZM180-400h160v-160H180v160Zm440 0h160v-160H620v160ZM180-180h160v-160H180v160Zm440 0h160v-160H620v160Z\"/>\n",
              "  </svg>\n",
              "    </button>\n",
              "\n",
              "  <style>\n",
              "    .colab-df-container {\n",
              "      display:flex;\n",
              "      gap: 12px;\n",
              "    }\n",
              "\n",
              "    .colab-df-convert {\n",
              "      background-color: #E8F0FE;\n",
              "      border: none;\n",
              "      border-radius: 50%;\n",
              "      cursor: pointer;\n",
              "      display: none;\n",
              "      fill: #1967D2;\n",
              "      height: 32px;\n",
              "      padding: 0 0 0 0;\n",
              "      width: 32px;\n",
              "    }\n",
              "\n",
              "    .colab-df-convert:hover {\n",
              "      background-color: #E2EBFA;\n",
              "      box-shadow: 0px 1px 2px rgba(60, 64, 67, 0.3), 0px 1px 3px 1px rgba(60, 64, 67, 0.15);\n",
              "      fill: #174EA6;\n",
              "    }\n",
              "\n",
              "    .colab-df-buttons div {\n",
              "      margin-bottom: 4px;\n",
              "    }\n",
              "\n",
              "    [theme=dark] .colab-df-convert {\n",
              "      background-color: #3B4455;\n",
              "      fill: #D2E3FC;\n",
              "    }\n",
              "\n",
              "    [theme=dark] .colab-df-convert:hover {\n",
              "      background-color: #434B5C;\n",
              "      box-shadow: 0px 1px 3px 1px rgba(0, 0, 0, 0.15);\n",
              "      filter: drop-shadow(0px 1px 2px rgba(0, 0, 0, 0.3));\n",
              "      fill: #FFFFFF;\n",
              "    }\n",
              "  </style>\n",
              "\n",
              "    <script>\n",
              "      const buttonEl =\n",
              "        document.querySelector('#df-1ba7fc87-f7c3-4505-9680-c9426b06be78 button.colab-df-convert');\n",
              "      buttonEl.style.display =\n",
              "        google.colab.kernel.accessAllowed ? 'block' : 'none';\n",
              "\n",
              "      async function convertToInteractive(key) {\n",
              "        const element = document.querySelector('#df-1ba7fc87-f7c3-4505-9680-c9426b06be78');\n",
              "        const dataTable =\n",
              "          await google.colab.kernel.invokeFunction('convertToInteractive',\n",
              "                                                    [key], {});\n",
              "        if (!dataTable) return;\n",
              "\n",
              "        const docLinkHtml = 'Like what you see? Visit the ' +\n",
              "          '<a target=\"_blank\" href=https://colab.research.google.com/notebooks/data_table.ipynb>data table notebook</a>'\n",
              "          + ' to learn more about interactive tables.';\n",
              "        element.innerHTML = '';\n",
              "        dataTable['output_type'] = 'display_data';\n",
              "        await google.colab.output.renderOutput(dataTable, element);\n",
              "        const docLink = document.createElement('div');\n",
              "        docLink.innerHTML = docLinkHtml;\n",
              "        element.appendChild(docLink);\n",
              "      }\n",
              "    </script>\n",
              "  </div>\n",
              "\n",
              "\n",
              "    <div id=\"df-9acf7378-1397-4d02-ba57-9023d398c812\">\n",
              "      <button class=\"colab-df-quickchart\" onclick=\"quickchart('df-9acf7378-1397-4d02-ba57-9023d398c812')\"\n",
              "                title=\"Suggest charts\"\n",
              "                style=\"display:none;\">\n",
              "\n",
              "<svg xmlns=\"http://www.w3.org/2000/svg\" height=\"24px\"viewBox=\"0 0 24 24\"\n",
              "     width=\"24px\">\n",
              "    <g>\n",
              "        <path d=\"M19 3H5c-1.1 0-2 .9-2 2v14c0 1.1.9 2 2 2h14c1.1 0 2-.9 2-2V5c0-1.1-.9-2-2-2zM9 17H7v-7h2v7zm4 0h-2V7h2v10zm4 0h-2v-4h2v4z\"/>\n",
              "    </g>\n",
              "</svg>\n",
              "      </button>\n",
              "\n",
              "<style>\n",
              "  .colab-df-quickchart {\n",
              "      --bg-color: #E8F0FE;\n",
              "      --fill-color: #1967D2;\n",
              "      --hover-bg-color: #E2EBFA;\n",
              "      --hover-fill-color: #174EA6;\n",
              "      --disabled-fill-color: #AAA;\n",
              "      --disabled-bg-color: #DDD;\n",
              "  }\n",
              "\n",
              "  [theme=dark] .colab-df-quickchart {\n",
              "      --bg-color: #3B4455;\n",
              "      --fill-color: #D2E3FC;\n",
              "      --hover-bg-color: #434B5C;\n",
              "      --hover-fill-color: #FFFFFF;\n",
              "      --disabled-bg-color: #3B4455;\n",
              "      --disabled-fill-color: #666;\n",
              "  }\n",
              "\n",
              "  .colab-df-quickchart {\n",
              "    background-color: var(--bg-color);\n",
              "    border: none;\n",
              "    border-radius: 50%;\n",
              "    cursor: pointer;\n",
              "    display: none;\n",
              "    fill: var(--fill-color);\n",
              "    height: 32px;\n",
              "    padding: 0;\n",
              "    width: 32px;\n",
              "  }\n",
              "\n",
              "  .colab-df-quickchart:hover {\n",
              "    background-color: var(--hover-bg-color);\n",
              "    box-shadow: 0 1px 2px rgba(60, 64, 67, 0.3), 0 1px 3px 1px rgba(60, 64, 67, 0.15);\n",
              "    fill: var(--button-hover-fill-color);\n",
              "  }\n",
              "\n",
              "  .colab-df-quickchart-complete:disabled,\n",
              "  .colab-df-quickchart-complete:disabled:hover {\n",
              "    background-color: var(--disabled-bg-color);\n",
              "    fill: var(--disabled-fill-color);\n",
              "    box-shadow: none;\n",
              "  }\n",
              "\n",
              "  .colab-df-spinner {\n",
              "    border: 2px solid var(--fill-color);\n",
              "    border-color: transparent;\n",
              "    border-bottom-color: var(--fill-color);\n",
              "    animation:\n",
              "      spin 1s steps(1) infinite;\n",
              "  }\n",
              "\n",
              "  @keyframes spin {\n",
              "    0% {\n",
              "      border-color: transparent;\n",
              "      border-bottom-color: var(--fill-color);\n",
              "      border-left-color: var(--fill-color);\n",
              "    }\n",
              "    20% {\n",
              "      border-color: transparent;\n",
              "      border-left-color: var(--fill-color);\n",
              "      border-top-color: var(--fill-color);\n",
              "    }\n",
              "    30% {\n",
              "      border-color: transparent;\n",
              "      border-left-color: var(--fill-color);\n",
              "      border-top-color: var(--fill-color);\n",
              "      border-right-color: var(--fill-color);\n",
              "    }\n",
              "    40% {\n",
              "      border-color: transparent;\n",
              "      border-right-color: var(--fill-color);\n",
              "      border-top-color: var(--fill-color);\n",
              "    }\n",
              "    60% {\n",
              "      border-color: transparent;\n",
              "      border-right-color: var(--fill-color);\n",
              "    }\n",
              "    80% {\n",
              "      border-color: transparent;\n",
              "      border-right-color: var(--fill-color);\n",
              "      border-bottom-color: var(--fill-color);\n",
              "    }\n",
              "    90% {\n",
              "      border-color: transparent;\n",
              "      border-bottom-color: var(--fill-color);\n",
              "    }\n",
              "  }\n",
              "</style>\n",
              "\n",
              "      <script>\n",
              "        async function quickchart(key) {\n",
              "          const quickchartButtonEl =\n",
              "            document.querySelector('#' + key + ' button');\n",
              "          quickchartButtonEl.disabled = true;  // To prevent multiple clicks.\n",
              "          quickchartButtonEl.classList.add('colab-df-spinner');\n",
              "          try {\n",
              "            const charts = await google.colab.kernel.invokeFunction(\n",
              "                'suggestCharts', [key], {});\n",
              "          } catch (error) {\n",
              "            console.error('Error during call to suggestCharts:', error);\n",
              "          }\n",
              "          quickchartButtonEl.classList.remove('colab-df-spinner');\n",
              "          quickchartButtonEl.classList.add('colab-df-quickchart-complete');\n",
              "        }\n",
              "        (() => {\n",
              "          let quickchartButtonEl =\n",
              "            document.querySelector('#df-9acf7378-1397-4d02-ba57-9023d398c812 button');\n",
              "          quickchartButtonEl.style.display =\n",
              "            google.colab.kernel.accessAllowed ? 'block' : 'none';\n",
              "        })();\n",
              "      </script>\n",
              "    </div>\n",
              "\n",
              "    </div>\n",
              "  </div>\n"
            ],
            "application/vnd.google.colaboratory.intrinsic+json": {
              "type": "dataframe",
              "summary": "{\n  \"name\": \"df_metricas\",\n  \"rows\": 3,\n  \"fields\": [\n    {\n      \"column\": \"Modelo\",\n      \"properties\": {\n        \"dtype\": \"string\",\n        \"num_unique_values\": 3,\n        \"samples\": [\n          \"Random Forest\",\n          \"\\u00c1rbol de Decisi\\u00f3n\",\n          \"KNN con valores normalizados\"\n        ],\n        \"semantic_type\": \"\",\n        \"description\": \"\"\n      }\n    },\n    {\n      \"column\": \"Accuracy\",\n      \"properties\": {\n        \"dtype\": \"number\",\n        \"std\": 0.057785630081890256,\n        \"min\": 0.649139134481154,\n        \"max\": 0.7603536528617962,\n        \"num_unique_values\": 3,\n        \"samples\": [\n          0.7603536528617962,\n          0.649139134481154,\n          0.7319683573755235\n        ],\n        \"semantic_type\": \"\",\n        \"description\": \"\"\n      }\n    },\n    {\n      \"column\": \"Precision\",\n      \"properties\": {\n        \"dtype\": \"number\",\n        \"std\": 0.07223969343934214,\n        \"min\": 0.4182590233545648,\n        \"max\": 0.5592747559274756,\n        \"num_unique_values\": 3,\n        \"samples\": [\n          0.5592747559274756,\n          0.4182590233545648,\n          0.516\n        ],\n        \"semantic_type\": \"\",\n        \"description\": \"\"\n      }\n    },\n    {\n      \"column\": \"Recall\",\n      \"properties\": {\n        \"dtype\": \"number\",\n        \"std\": 0.011666666666666659,\n        \"min\": 0.645,\n        \"max\": 0.6683333333333333,\n        \"num_unique_values\": 3,\n        \"samples\": [\n          0.6683333333333333,\n          0.6566666666666666,\n          0.645\n        ],\n        \"semantic_type\": \"\",\n        \"description\": \"\"\n      }\n    },\n    {\n      \"column\": \"F1-score\",\n      \"properties\": {\n        \"dtype\": \"number\",\n        \"std\": 0.049569650345314235,\n        \"min\": 0.5110246433203631,\n        \"max\": 0.6089597570235383,\n        \"num_unique_values\": 3,\n        \"samples\": [\n          0.6089597570235383,\n          0.5110246433203631,\n          0.5733333333333334\n        ],\n        \"semantic_type\": \"\",\n        \"description\": \"\"\n      }\n    }\n  ]\n}"
            }
          },
          "metadata": {},
          "execution_count": 699
        }
      ]
    },
    {
      "cell_type": "markdown",
      "source": [],
      "metadata": {
        "id": "XOWlR4lY8kFY"
      }
    },
    {
      "cell_type": "markdown",
      "source": [
        "El de mejor desempeño fue el de RandomForest, ademas obtuvo el Recall mas alto."
      ],
      "metadata": {
        "id": "kvMehE1-8Lb4"
      }
    },
    {
      "cell_type": "markdown",
      "source": [
        "Árbol de Decisión\tOverfitting leve posible: Las primeras pruebas las realice con max_depth = 10, pero obtuve mejor resultado sin limitarlo.\n",
        "\n",
        "Lo mismo ocurrio con KNN normalizado, posible Underfitting, probe con distintos k, pero mejoro sin limitar el k = 5\n"
      ],
      "metadata": {
        "id": "7mBUskKc8ZkA"
      }
    }
  ]
}